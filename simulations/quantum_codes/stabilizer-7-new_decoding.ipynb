{
 "cells": [
  {
   "cell_type": "code",
   "execution_count": 1,
   "metadata": {},
   "outputs": [],
   "source": [
    "import numpy as np\n",
    "import scipy as sp\n",
    "import scipy.linalg\n",
    "import cvxpy as cp\n",
    "import random"
   ]
  },
  {
   "cell_type": "code",
   "execution_count": 2,
   "metadata": {},
   "outputs": [],
   "source": [
    "def NKron(*args):\n",
    "  result = np.array([[1.0]])\n",
    "  for op in args:\n",
    "    result = np.kron(result, op)\n",
    "  return result"
   ]
  },
  {
   "cell_type": "code",
   "execution_count": 3,
   "metadata": {},
   "outputs": [],
   "source": [
    "Id = np.eye(2)\n",
    "X = np.array([[0.0, 1.0],[1.0, 0.0]])\n",
    "Z = np.array([[1.0, 0.0],[0.0, -1.0]])\n",
    "Y = np.matmul(X,Z)"
   ]
  },
  {
   "cell_type": "code",
   "execution_count": 4,
   "metadata": {},
   "outputs": [],
   "source": [
    "NormalizeState = lambda state: state / sp.linalg.norm(state)\n",
    "zero = np.array([[1.0], [0.0]]) # |0>\n",
    "one = np.array([[0.0], [1.0]]) # |1>"
   ]
  },
  {
   "cell_type": "markdown",
   "metadata": {},
   "source": [
    "## Generators"
   ]
  },
  {
   "cell_type": "code",
   "execution_count": 5,
   "metadata": {},
   "outputs": [],
   "source": [
    "def NKronModified(checkRowMod):\n",
    "  result = np.array([[1.0]])\n",
    "  for ind in checkRowMod:\n",
    "    if(ind == 0):\n",
    "        op = Id\n",
    "    elif(ind == 1):\n",
    "        op = X\n",
    "    elif(ind == 2):\n",
    "        op = Y\n",
    "    elif(ind == 3):\n",
    "        op = Z\n",
    "    result = np.kron(result, op)\n",
    "  return result\n",
    "\n",
    "def getGenerator(checkRow):\n",
    "    checkRowModified = np.zeros(n, dtype=int)\n",
    "    \n",
    "    checkRowModified[(checkRow[:n] == checkRow[n:]) & (checkRow[n:] == 1)] = 2\n",
    "    checkRowModified[(checkRow[:n] == 1) & (checkRowModified != 2)] = 1\n",
    "    checkRowModified[(checkRow[n:] == 1) & (checkRowModified != 2)] = 3\n",
    "    \n",
    "    return NKronModified(checkRowModified)    "
   ]
  },
  {
   "cell_type": "code",
   "execution_count": 6,
   "metadata": {},
   "outputs": [],
   "source": [
    "comparingAccuracy_decoded = 1e-7\n",
    "comparingAccuracy_encoded = 1e-5\n",
    "comparingAccuracy_syndrome = 1e-5\n",
    "comparingAccuracy_method = 1e-5"
   ]
  },
  {
   "cell_type": "code",
   "execution_count": 7,
   "metadata": {},
   "outputs": [],
   "source": [
    "# change check matrix here\n",
    "\n",
    "# checkMatrix = np.array([[1,1,1,1,1,1,1,1, 0,0,0,0,0,0,0,0],\n",
    "#                         [0,0,0,0,0,0,0,0, 1,1,1,1,1,1,1,1],\n",
    "#                         [0,1,0,1,1,0,1,0, 0,0,0,0,1,1,1,1],\n",
    "#                         [0,1,0,1,0,1,0,1, 0,0,1,1,0,0,1,1],\n",
    "#                         [0,1,1,0,1,0,0,1, 0,1,0,1,0,1,0,1]])\n",
    "\n",
    "# checkMatrix = np.array([[0,0,0,0,0,0,0,0,0, 1,1,0,0,0,0,0,0,0],\n",
    "#                         [0,0,0,0,0,0,0,0,0, 1,0,1,0,0,0,0,0,0],\n",
    "#                         [0,0,0,0,0,0,0,0,0, 0,0,0,1,1,0,0,0,0],\n",
    "#                         [0,0,0,0,0,0,0,0,0, 0,0,0,1,0,1,0,0,0],\n",
    "#                         [0,0,0,0,0,0,0,0,0, 0,0,0,0,0,0,1,1,0],\n",
    "#                         [0,0,0,0,0,0,0,0,0, 0,0,0,0,0,0,1,0,1],\n",
    "#                         [1,1,1,1,1,1,0,0,0, 0,0,0,0,0,0,0,0,0],\n",
    "#                         [1,1,1,0,0,0,1,1,1, 0,0,0,0,0,0,0,0,0]])\n",
    "\n",
    "checkMatrix = np.array([[1,0,0,1,0, 0,1,1,0,0],\n",
    "                        [0,1,0,0,1, 0,0,1,1,0],\n",
    "                        [1,0,1,0,0, 0,0,0,1,1],\n",
    "                        [0,1,0,1,0, 1,0,0,0,1]])\n",
    "\n",
    "# checkMatrix = np.array([[0,0,0,1,1,1,1, 0,0,0,0,0,0,0],\n",
    "#                         [0,1,1,0,0,1,1, 0,0,0,0,0,0,0],\n",
    "#                         [1,0,1,0,1,0,1, 0,0,0,0,0,0,0],\n",
    "#                         [0,0,0,0,0,0,0, 0,0,0,1,1,1,1],\n",
    "#                         [0,0,0,0,0,0,0, 0,1,1,0,0,1,1],\n",
    "#                         [0,0,0,0,0,0,0, 1,0,1,0,1,0,1]])\n",
    "\n",
    "n = int(checkMatrix.shape[1]/2)\n",
    "k = n-checkMatrix.shape[0]\n",
    "\n",
    "gi = np.zeros([n-k, 2**n, 2**n])\n",
    "for i in range(n-k):\n",
    "    gi[i,:,:] = getGenerator(checkMatrix[i,:])"
   ]
  },
  {
   "cell_type": "markdown",
   "metadata": {},
   "source": [
    "## Encoding"
   ]
  },
  {
   "cell_type": "code",
   "execution_count": 8,
   "metadata": {},
   "outputs": [],
   "source": [
    "def NKron1DGeneral(ipArray):\n",
    "    result = np.array([[1.0]])\n",
    "    for i in ipArray:\n",
    "        if(i==1):\n",
    "            op = one\n",
    "        elif(i==0):\n",
    "            op = zero\n",
    "        result = np.kron(result, op)\n",
    "    return result"
   ]
  },
  {
   "cell_type": "markdown",
   "metadata": {},
   "source": [
    "#### Get generator matrix G"
   ]
  },
  {
   "cell_type": "code",
   "execution_count": 9,
   "metadata": {},
   "outputs": [],
   "source": [
    "Gmatrix = np.eye(gi[0,:,:].shape[0], gi[0,:,:].shape[1]) # generator matrix corresponding to this code\n",
    "for i in range(n-k):\n",
    "    Gmatrix = Gmatrix + np.matmul(gi[i,:,:], Gmatrix)\n",
    "Gmatrix = np.round(Gmatrix)"
   ]
  },
  {
   "cell_type": "markdown",
   "metadata": {},
   "source": [
    "#### Get non-zero and unique columns of G"
   ]
  },
  {
   "cell_type": "code",
   "execution_count": 10,
   "metadata": {},
   "outputs": [],
   "source": [
    "# get boolean array if the columns are zero or not\n",
    "zeroCols = np.zeros(Gmatrix.shape[1])\n",
    "for i in range(Gmatrix.shape[1]):\n",
    "    zeroCols[i] = all(Gmatrix[:,i] == np.zeros(Gmatrix.shape[0]))\n",
    "\n",
    "# get indices of non-zero columns\n",
    "nonZeroColsList = np.argwhere(zeroCols==0).flatten()\n",
    "\n",
    "# get all non zero columns\n",
    "GmatrixNonZero = np.zeros([Gmatrix.shape[0], nonZeroColsList.shape[0]])\n",
    "i = 0\n",
    "for ind in nonZeroColsList:\n",
    "    GmatrixNonZero[:,i] = Gmatrix[:,ind]\n",
    "    i = i+1\n",
    "\n",
    "# get all non zero and unique columns and there indices\n",
    "GmatrixNonZeroUniqueInd, nonZeroUniqueInd = np.unique(GmatrixNonZero, axis = 1, return_index=True)\n",
    "nonZeroUniqueInd = nonZeroColsList[nonZeroUniqueInd]"
   ]
  },
  {
   "cell_type": "code",
   "execution_count": 11,
   "metadata": {},
   "outputs": [
    {
     "name": "stdout",
     "output_type": "stream",
     "text": [
      "Rank of G = 2\n",
      "Shape of G = (32, 32)\n"
     ]
    }
   ],
   "source": [
    "print('Rank of G = ' + str(np.linalg.matrix_rank(Gmatrix)))\n",
    "print('Shape of G = ' + str(Gmatrix.shape))"
   ]
  },
  {
   "cell_type": "markdown",
   "metadata": {},
   "source": [
    "#### Generate random transmit qbits"
   ]
  },
  {
   "cell_type": "code",
   "execution_count": 12,
   "metadata": {},
   "outputs": [
    {
     "name": "stdout",
     "output_type": "stream",
     "text": [
      "Randomly generated qbit(s) = [0.45192137 0.89205778]\n"
     ]
    }
   ],
   "source": [
    "# generate qbits randomly\n",
    "tx_qbits = np.random.rand(2**k)\n",
    "tx_qbits = NormalizeState(tx_qbits)\n",
    "print('Randomly generated qbit(s) = ' + str(tx_qbits.flatten()))"
   ]
  },
  {
   "cell_type": "markdown",
   "metadata": {},
   "source": [
    "#### Convert qbits to tensor product format"
   ]
  },
  {
   "cell_type": "markdown",
   "metadata": {},
   "source": [
    "___Method 2___\n",
    "\n",
    "More straightforward way."
   ]
  },
  {
   "cell_type": "code",
   "execution_count": 13,
   "metadata": {},
   "outputs": [],
   "source": [
    "tx_decoded = np.zeros(2**n)\n",
    "A = np.eye(2**n, 2**n) # condition on codes\n",
    "\n",
    "# get extended qbits corresponding to non-zero column indices of G matrix\n",
    "i = 0\n",
    "for nonZeroIndex in np.sort(nonZeroUniqueInd):\n",
    "    if(i>=2**k):\n",
    "        break\n",
    "    tx_decoded[nonZeroIndex] = tx_qbits[i]\n",
    "    \n",
    "    A[nonZeroIndex, nonZeroIndex] = 0\n",
    "    i = i+1\n",
    "tx_decoded = NormalizeState(tx_decoded)"
   ]
  },
  {
   "cell_type": "code",
   "execution_count": 14,
   "metadata": {},
   "outputs": [],
   "source": [
    "# print('Are the two methods giving same vector? ' + str( np.sum( np.abs(tx_decoded - tx_decoded2) > comparingAccuracy_method ) == 0))"
   ]
  },
  {
   "cell_type": "markdown",
   "metadata": {},
   "source": [
    "#### Encode using generators"
   ]
  },
  {
   "cell_type": "code",
   "execution_count": 15,
   "metadata": {},
   "outputs": [],
   "source": [
    "tx_encoded = NormalizeState(tx_decoded) # encoded transmit qbits\n",
    "for i in range(n-k):\n",
    "    tx_encoded = tx_encoded + np.matmul(gi[i,:,:], tx_encoded) # encode using generators\n",
    "tx_encoded = NormalizeState(tx_encoded) # encoded transmit qbits"
   ]
  },
  {
   "cell_type": "markdown",
   "metadata": {},
   "source": [
    "## Channel"
   ]
  },
  {
   "cell_type": "code",
   "execution_count": 16,
   "metadata": {},
   "outputs": [],
   "source": [
    "p_xyz = 0.15 # p_xyz < 1/3\n",
    "p_channel = [1-3*p_xyz, p_xyz, p_xyz, p_xyz] \n",
    "errMatrix = np.random.multinomial(1, p_channel, size=n)\n",
    "\n",
    "errCheckRowModified = errMatrix@np.array([0,1,2,3])\n",
    "\n",
    "channel_error = NKronModified(errCheckRowModified) # channel error\n",
    "# channel_error = getGenerator(np.array([0, 0, 0, 0, 0, 1, 1, 0, 0, 0, 0, 0, 0, 0]))\n",
    "rx_erry = np.dot(channel_error, tx_encoded) # received qbits with errors"
   ]
  },
  {
   "cell_type": "code",
   "execution_count": 17,
   "metadata": {},
   "outputs": [
    {
     "name": "stdout",
     "output_type": "stream",
     "text": [
      "Channel = [3 0 0 0 0] = ['Z' 'I' 'I' 'I' 'I']\n"
     ]
    }
   ],
   "source": [
    "strError = np.array([])\n",
    "\n",
    "for errVal in errCheckRowModified:\n",
    "    if(errVal == 0):\n",
    "        strError = np.append(strError, 'I')\n",
    "    if(errVal == 1):\n",
    "        strError = np.append(strError, 'X')\n",
    "    if(errVal == 2):\n",
    "        strError = np.append(strError, 'Y')\n",
    "    if(errVal == 3):\n",
    "        strError = np.append(strError, 'Z')\n",
    "\n",
    "print('Channel = ' + str(errCheckRowModified) + ' = ' + str(strError))"
   ]
  },
  {
   "cell_type": "markdown",
   "metadata": {},
   "source": [
    "## Decoding"
   ]
  },
  {
   "cell_type": "markdown",
   "metadata": {},
   "source": [
    "#### Syndrome Check"
   ]
  },
  {
   "cell_type": "code",
   "execution_count": 18,
   "metadata": {},
   "outputs": [
    {
     "name": "stdout",
     "output_type": "stream",
     "text": [
      "Syndrome = [-1  1 -1  1]\n"
     ]
    }
   ],
   "source": [
    "syndr = np.zeros([n-k, 1]) # syndrome\n",
    "for i in range(n-k):\n",
    "    syndr[i] = np.dot(rx_erry.transpose(), np.dot(gi[i,:,:], rx_erry))\n",
    "print('Syndrome = ' + str( np.ndarray.astype( np.round(syndr.flatten()), int) ))"
   ]
  },
  {
   "cell_type": "code",
   "execution_count": 19,
   "metadata": {},
   "outputs": [],
   "source": [
    "def getSyndromeFromError(channel_error):\n",
    "    tx_qbits = np.ones(2**k)\n",
    "    tx_qbits = NormalizeState(tx_qbits)\n",
    "\n",
    "    # Convert qbits to tensor product format\n",
    "    tx_decoded = np.zeros(2**n)\n",
    "    # get extended qbits corresponding to non-zero column indices of G matrix\n",
    "    i = 0\n",
    "    for nonZeroIndex in np.sort(nonZeroUniqueInd):\n",
    "        if(i>=2**k):\n",
    "            break\n",
    "        tx_decoded[nonZeroIndex] = tx_qbits[i]\n",
    "        i = i+1\n",
    "    tx_decoded = NormalizeState(tx_decoded)\n",
    "\n",
    "    # encode transmit qbits\n",
    "    tx_encoded = NormalizeState(tx_decoded) # encoded transmit qbits\n",
    "    for i in range(n-k):\n",
    "        tx_encoded = tx_encoded + np.matmul(gi[i,:,:], tx_encoded) # encode using generators\n",
    "    tx_encoded = NormalizeState(tx_encoded) # encoded transmit qbits\n",
    "\n",
    "    # channel\n",
    "    rx_erry = np.dot(channel_error, tx_encoded) # received qbits with errors\n",
    "\n",
    "    # syndrome check\n",
    "    syndr = np.zeros([n-k, 1]) # syndrome\n",
    "    for i in range(n-k):\n",
    "        syndr[i] = np.dot(rx_erry.transpose(), np.dot(gi[i,:,:], rx_erry))\n",
    "    \n",
    "    syndr[syndr>0] = 0\n",
    "    syndr[syndr<0] = 1\n",
    "    \n",
    "    return syndr"
   ]
  },
  {
   "cell_type": "code",
   "execution_count": 20,
   "metadata": {},
   "outputs": [
    {
     "data": {
      "text/plain": [
       "array([[1.],\n",
       "       [0.],\n",
       "       [1.],\n",
       "       [0.]])"
      ]
     },
     "execution_count": 20,
     "metadata": {},
     "output_type": "execute_result"
    }
   ],
   "source": [
    "getSyndromeFromError(channel_error)"
   ]
  },
  {
   "cell_type": "markdown",
   "metadata": {},
   "source": [
    "#### Error Correction"
   ]
  },
  {
   "cell_type": "code",
   "execution_count": 21,
   "metadata": {},
   "outputs": [],
   "source": [
    "def getCardin(myVector):\n",
    "    return np.sum(myVector != 0)\n",
    "\n",
    "def getErrorFromSyndrome(syndr):\n",
    "    success = 0\n",
    "    finalError = np.zeros(2*errCheckRowModified.shape[0])\n",
    "    while(getCardin(syndr) != 0):\n",
    "        maxMetric = 0\n",
    "        for generatorInd in range(n-k): # for all generators\n",
    "            g = checkMatrix[generatorInd, :] # get the genrator\n",
    "            g_modified = np.zeros(n, dtype=int)\n",
    "            g_modified[(g[:n] == g[n:]) & (g[n:] == 1)] = 2\n",
    "            g_modified[(g[:n] == 1) & (g_modified != 2)] = 1\n",
    "            g_modified[(g[n:] == 1) & (g_modified != 2)] = 3\n",
    "            \n",
    "            string_format = '{:0>' + str(2*getCardin(g_modified)) + '}'\n",
    "            for errorIndex in range(2**(2*getCardin(g_modified))): # for all errors with the support of that generator\n",
    "                if(errorIndex == 0): continue\n",
    "                thisError = np.copy(g_modified)\n",
    "                \n",
    "                modifyError = list(string_format.format(\"{:b}\".format(errorIndex)))\n",
    "                modifyError =  np.asarray(list(map(int, modifyError)) )\n",
    "                \n",
    "                temp_n = getCardin(g_modified)\n",
    "                modifyErrorModified = np.zeros(temp_n, dtype=int)\n",
    "                modifyErrorModified[(modifyError[:temp_n] == modifyError[temp_n:]) & (modifyError[temp_n:] == 1)] = 2\n",
    "                modifyErrorModified[(modifyError[:temp_n] == 1) & (modifyErrorModified != 2)] = 1\n",
    "                modifyErrorModified[(modifyError[temp_n:] == 1) & (modifyErrorModified != 2)] = 3\n",
    "                \n",
    "                thisError[thisError != 0] = modifyErrorModified # get the error\n",
    "                \n",
    "                           \n",
    "                thisError1 = np.copy(thisError)\n",
    "                thisError1[thisError == 1] = 1\n",
    "                thisError1[thisError == 2] = 1\n",
    "                thisError1[thisError == 3] = 0\n",
    "                \n",
    "                thisError2 = np.copy(thisError)\n",
    "                thisError2[thisError == 1] = 0\n",
    "                thisError2[thisError == 2] = 1\n",
    "                thisError2[thisError == 3] = 1\n",
    "                \n",
    "                thisError = np.append(thisError1, thisError2)\n",
    "                \n",
    "                syndr_new = (syndr + getSyndromeFromError(getGenerator(thisError)))%2 # update to syndrome to check weight\n",
    "                thisMetric = (getCardin(syndr) - getCardin(syndr_new))/getCardin(modifyErrorModified) # get the metric\n",
    "                \n",
    "                if(thisMetric > maxMetric):\n",
    "                    bestError = thisError\n",
    "                    maxMetric = thisMetric\n",
    "#                 if(thisMetric == maxMetric):\n",
    "#                     print('Error = ' + str(thisError) + ', |s_i+1| = ' + str(getCardin(syndr_new)) + ', |s_i| = ' + str(getCardin(syndr)) + ', |e| = ' + str(getCardin(thisError)))\n",
    "\n",
    "        if(maxMetric != 0):\n",
    "            finalError = bestError\n",
    "            syndr = (syndr + getSyndromeFromError(getGenerator(bestError)))%2\n",
    "        if(maxMetric == 0):\n",
    "            break        \n",
    "#         print('Max metric = ' + str(maxMetric) + ', Best error = ' + str(bestError) + ', Syndrome = ' + str(syndr))\n",
    "\n",
    "    if(getCardin(syndr) != 0): success = 0\n",
    "    else: success = 1\n",
    "\n",
    "    return finalError.flatten(), success"
   ]
  },
  {
   "cell_type": "code",
   "execution_count": 22,
   "metadata": {},
   "outputs": [],
   "source": [
    "# syndrome lookup table\n",
    "def SyndromeLookUp(syndr):\n",
    "    syndr[syndr>0] = 0\n",
    "    syndr[syndr<0] = 1\n",
    "    \n",
    "    error, success = getErrorFromSyndrome(syndr)\n",
    "    recov = getGenerator(error)\n",
    "    return recov"
   ]
  },
  {
   "cell_type": "code",
   "execution_count": 23,
   "metadata": {},
   "outputs": [
    {
     "name": "stdout",
     "output_type": "stream",
     "text": [
      "Number of qubits in error before error correction = 16\n",
      "Number of qubits in error after error correction = 0\n",
      "MSE after error correction = 0.0\n"
     ]
    }
   ],
   "source": [
    "recov = SyndromeLookUp(syndr) # error recovery\n",
    "rx_encoded = np.matmul(recov.transpose(), rx_erry) # received qbits without error but still encoded\n",
    "\n",
    "print('Number of qubits in error before error correction = ' + str(np.sum(np.abs(rx_erry - tx_encoded) > comparingAccuracy_encoded)))\n",
    "print('Number of qubits in error after error correction = ' + str(np.sum(np.abs(rx_encoded - tx_encoded) > comparingAccuracy_encoded)))\n",
    "print('MSE after error correction = ' + str(np.sum((rx_encoded - tx_encoded)**2)/np.sum(tx_encoded!=0) ))"
   ]
  },
  {
   "cell_type": "markdown",
   "metadata": {},
   "source": [
    "#### Complete Decoding"
   ]
  },
  {
   "cell_type": "code",
   "execution_count": 24,
   "metadata": {},
   "outputs": [
    {
     "name": "stdout",
     "output_type": "stream",
     "text": [
      "Transmitted qbit = [0.45192137 0.89205778]\n",
      "Decoded qbit = [0.45192137 0.89205778]\n",
      "\n",
      "MSE = 6.162975823700895e-33\n"
     ]
    }
   ],
   "source": [
    "# setup optimizer to decode\n",
    "P = np.matmul(Gmatrix.transpose(), Gmatrix)\n",
    "q = -np.matmul(rx_encoded.transpose(), Gmatrix).flatten()\n",
    "x = cp.Variable(rx_encoded.shape[0])\n",
    "\n",
    "# get qbit that is at closest distance to received encoded qbit\n",
    "prob = cp.Problem(cp.Minimize((1/2)*cp.quad_form(x, P) + q.T@x), [A@x == np.zeros(x.shape[0])])\n",
    "prob.solve()\n",
    "rx_decoded = NormalizeState(x.value) # received decoded qbits\n",
    "\n",
    "print('Transmitted qbit = ' + str(tx_decoded[abs(tx_decoded) > comparingAccuracy_encoded]))\n",
    "print('Decoded qbit = ' + str(rx_decoded[abs(rx_decoded) > comparingAccuracy_decoded]))\n",
    "print('')\n",
    "\n",
    "error = tx_decoded - rx_decoded\n",
    "error = np.sum(error**2)/np.sum(np.abs(tx_decoded) > comparingAccuracy_decoded)\n",
    "print('MSE = ' + str(error))"
   ]
  },
  {
   "cell_type": "markdown",
   "metadata": {},
   "source": [
    "## Verification"
   ]
  },
  {
   "cell_type": "markdown",
   "metadata": {},
   "source": [
    "#### Single qubit errors"
   ]
  },
  {
   "cell_type": "code",
   "execution_count": 25,
   "metadata": {},
   "outputs": [
    {
     "name": "stdout",
     "output_type": "stream",
     "text": [
      "Channel error = [1 0 0 0 0 1 0 0 0 0], MSE = 6.162975823700895e-33\n",
      "Channel error = [0 1 0 0 0 0 1 0 0 0], MSE = 6.162975823700895e-33\n",
      "Channel error = [0 0 1 0 0 0 0 1 0 0], MSE = 6.162975823700895e-33\n",
      "Channel error = [0 0 0 1 0 0 0 0 1 0], MSE = 6.162975823700895e-33\n",
      "Channel error = [0 0 0 0 1 0 0 0 0 1], MSE = 6.162975823700895e-33\n",
      "Channel error = [1 0 0 0 0 0 0 0 0 0], MSE = 6.162975823700895e-33\n",
      "Channel error = [0 1 0 0 0 0 0 0 0 0], MSE = 6.162975823700895e-33\n",
      "Channel error = [0 0 1 0 0 0 0 0 0 0], MSE = 6.162975823700895e-33\n",
      "Channel error = [0 0 0 1 0 0 0 0 0 0], MSE = 6.162975823700895e-33\n",
      "Channel error = [0 0 0 0 1 0 0 0 0 0], MSE = 6.162975823700895e-33\n",
      "Channel error = [0 0 0 0 0 1 0 0 0 0], MSE = 6.162975823700895e-33\n",
      "Channel error = [0 0 0 0 0 0 1 0 0 0], MSE = 6.162975823700895e-33\n",
      "Channel error = [0 0 0 0 0 0 0 1 0 0], MSE = 6.162975823700895e-33\n",
      "Channel error = [0 0 0 0 0 0 0 0 1 0], MSE = 6.162975823700895e-33\n",
      "Channel error = [0 0 0 0 0 0 0 0 0 1], MSE = 6.162975823700895e-33\n"
     ]
    }
   ],
   "source": [
    "# verify for all single bit errors\n",
    "for errType in range(3):\n",
    "    for errIndex in range(n):\n",
    "\n",
    "        # generate channel error\n",
    "        errCheckRow = np.zeros(n, dtype = 'int')\n",
    "        errCheckRow[errIndex] = 1\n",
    "        if(errType == 0):\n",
    "            errCheckRow = np.append(errCheckRow, errCheckRow) # Y error\n",
    "        elif(errType == 1):\n",
    "            errCheckRow = np.append(errCheckRow, np.zeros(n, dtype = 'int')) # X error\n",
    "        else:\n",
    "            errCheckRow = np.append(np.zeros(n, dtype = 'int'), errCheckRow) # Z error\n",
    "\n",
    "        # apply channel error\n",
    "        channel_error = getGenerator(errCheckRow)\n",
    "        rx_erry = np.dot(channel_error, tx_encoded) # received qbits with error\n",
    "\n",
    "        # get syndrome\n",
    "        syndr = np.zeros([n-k, 1]) # syndrome\n",
    "        for i in range(n-k):\n",
    "            syndr[i] = np.dot(rx_erry.transpose(), np.dot(gi[i,:,:], rx_erry))\n",
    "\n",
    "#         syndr[syndr>0] = 0\n",
    "#         syndr[syndr<0] = 1\n",
    "        \n",
    "        # error correction\n",
    "        recov = SyndromeLookUp(syndr) # error recovery\n",
    "        rx_encoded = np.matmul(recov.transpose(), rx_erry) # received qbits without error but still encoded\n",
    "        \n",
    "        # setup optimizer to decode completely\n",
    "        P = np.matmul(Gmatrix.transpose(), Gmatrix)\n",
    "        q = -np.matmul(rx_encoded.transpose(), Gmatrix).flatten()\n",
    "        x = cp.Variable(rx_encoded.shape[0])\n",
    "        \n",
    "        # solve for qubits numerically by minimizing distance\n",
    "        prob = cp.Problem(cp.Minimize((1/2)*cp.quad_form(x, P) + q.T@x), [A@x == np.zeros(x.shape[0])])\n",
    "        prob.solve()\n",
    "        rx_decoded = (NormalizeState(x.value)) # received decoded qbits\n",
    "\n",
    "        # print qubit errors\n",
    "        error = tx_decoded - rx_decoded\n",
    "        error = np.sum(error**2)/np.sum(np.abs(tx_decoded) > comparingAccuracy_decoded)\n",
    "        print('Channel error = ' + str(errCheckRow) + ', MSE = ' + str(error))"
   ]
  },
  {
   "cell_type": "markdown",
   "metadata": {},
   "source": [
    "#### Two qubit errors"
   ]
  },
  {
   "cell_type": "code",
   "execution_count": 26,
   "metadata": {},
   "outputs": [],
   "source": [
    "def analyzeChannel(errCheckRow):\n",
    "    # apply channel error\n",
    "    channel_error = getGenerator(errCheckRow)\n",
    "    rx_erry = np.dot(channel_error, tx_encoded) # received qbits with error\n",
    "\n",
    "    # get syndrome\n",
    "    syndr = np.zeros([n-k, 1]) # syndrome\n",
    "    for i in range(n-k):\n",
    "        syndr[i] = np.dot(rx_erry.transpose(), np.dot(gi[i,:,:], rx_erry))\n",
    "\n",
    "    # error correction\n",
    "    recov = SyndromeLookUp(syndr) # error recovery\n",
    "    rx_encoded = np.matmul(recov.transpose(), rx_erry) # received qbits without error but still encoded\n",
    "\n",
    "    # setup optimizer to decode completely\n",
    "    P = np.matmul(Gmatrix.transpose(), Gmatrix)\n",
    "    q = -np.matmul(rx_encoded.transpose(), Gmatrix).flatten()\n",
    "    x = cp.Variable(rx_encoded.shape[0])\n",
    "\n",
    "    # solve for qubits numerically by minimizing distance\n",
    "    prob = cp.Problem(cp.Minimize((1/2)*cp.quad_form(x, P) + q.T@x), [A@x == np.zeros(x.shape[0])])\n",
    "    prob.solve()\n",
    "    rx_decoded = (NormalizeState(x.value)) # received decoded qbits\n",
    "\n",
    "    # print qubit errors\n",
    "    if(np.sum(abs(tx_decoded) > comparingAccuracy_decoded) != np.sum(abs(rx_decoded) > comparingAccuracy_decoded)):\n",
    "        print('Channel error = ' + str(errCheckRow) + ', skipped!')\n",
    "        return\n",
    "    error = tx_decoded - rx_decoded\n",
    "    error = np.sum(error**2)/np.sum(np.abs(tx_decoded) > comparingAccuracy_decoded)\n",
    "    print('Channel error = ' + str(errCheckRow) + ', MSE = ' + str(error))"
   ]
  },
  {
   "cell_type": "code",
   "execution_count": 27,
   "metadata": {},
   "outputs": [
    {
     "name": "stdout",
     "output_type": "stream",
     "text": [
      "Channel error = [0 0 0 1 1 0 0 0 0 0], MSE = 0.4084658472362666\n",
      "Channel error = [0 0 0 1 1 0 0 0 0 1], MSE = 0.9999999999999998\n",
      "Channel error = [0 0 0 1 0 0 0 0 0 1], MSE = 0.19372005722944335\n",
      "Channel error = [0 0 0 1 1 0 0 0 1 0], MSE = 0.9999999999999998\n",
      "Channel error = [0 0 0 1 1 0 0 0 1 1], MSE = 1.8062799427705567\n",
      "Channel error = [0 0 0 1 0 0 0 0 1 1], MSE = 0.4084658472362666\n",
      "Channel error = [0 0 0 0 1 0 0 0 1 0], MSE = 0.19372005722944335\n",
      "Channel error = [0 0 0 0 1 0 0 0 1 1], MSE = 0.4084658472362666\n",
      "Channel error = [0 0 0 0 0 0 0 0 1 1], MSE = 1.0000000000000002\n",
      "Channel error = [0 0 1 0 1 0 0 0 0 0], MSE = 1.0000000000000002\n",
      "Channel error = [0 0 1 0 1 0 0 0 0 1], MSE = 0.19372005722944335\n",
      "Channel error = [0 0 1 0 0 0 0 0 0 1], MSE = 0.4084658472362666\n",
      "Channel error = [0 0 1 0 1 0 0 1 0 0], MSE = 0.19372005722944335\n",
      "Channel error = [0 0 1 0 1 0 0 1 0 1], MSE = 1.5915341527637334\n",
      "Channel error = [0 0 1 0 0 0 0 1 0 1], MSE = 0.9999999999999998\n",
      "Channel error = [0 0 0 0 1 0 0 1 0 0], MSE = 0.4084658472362666\n",
      "Channel error = [0 0 0 0 1 0 0 1 0 1], MSE = 0.9999999999999998\n",
      "Channel error = [0 0 0 0 0 0 0 1 0 1], MSE = 0.19372005722944335\n",
      "Channel error = [0 1 0 0 1 0 0 0 0 0], MSE = 1.0000000000000002\n",
      "Channel error = [0 1 0 0 1 0 0 0 0 1], MSE = 0.19372005722944335\n",
      "Channel error = [0 1 0 0 0 0 0 0 0 1], MSE = 0.4084658472362666\n",
      "Channel error = [0 1 0 0 1 0 1 0 0 0], MSE = 0.19372005722944335\n",
      "Channel error = [0 1 0 0 1 0 1 0 0 1], MSE = 1.5915341527637334\n",
      "Channel error = [0 1 0 0 0 0 1 0 0 1], MSE = 0.9999999999999998\n",
      "Channel error = [0 0 0 0 1 0 1 0 0 0], MSE = 0.4084658472362666\n",
      "Channel error = [0 0 0 0 1 0 1 0 0 1], MSE = 0.9999999999999998\n",
      "Channel error = [0 0 0 0 0 0 1 0 0 1], MSE = 0.19372005722944335\n",
      "Channel error = [1 0 0 0 1 0 0 0 0 0], MSE = 0.4084658472362666\n",
      "Channel error = [1 0 0 0 1 0 0 0 0 1], MSE = 0.9999999999999998\n",
      "Channel error = [1 0 0 0 0 0 0 0 0 1], MSE = 0.19372005722944335\n",
      "Channel error = [1 0 0 0 1 1 0 0 0 0], MSE = 0.9999999999999998\n",
      "Channel error = [1 0 0 0 1 1 0 0 0 1], MSE = 1.8062799427705567\n",
      "Channel error = [1 0 0 0 0 1 0 0 0 1], MSE = 0.4084658472362666\n",
      "Channel error = [0 0 0 0 1 1 0 0 0 0], MSE = 0.19372005722944335\n",
      "Channel error = [0 0 0 0 1 1 0 0 0 1], MSE = 0.4084658472362666\n",
      "Channel error = [0 0 0 0 0 1 0 0 0 1], MSE = 1.0000000000000002\n",
      "Channel error = [0 0 1 1 0 0 0 0 0 0], MSE = 0.4084658472362666\n",
      "Channel error = [0 0 1 1 0 0 0 0 1 0], MSE = 0.9999999999999998\n",
      "Channel error = [0 0 1 0 0 0 0 0 1 0], MSE = 0.19372005722944335\n",
      "Channel error = [0 0 1 1 0 0 0 1 0 0], MSE = 0.9999999999999998\n",
      "Channel error = [0 0 1 1 0 0 0 1 1 0], MSE = 1.8062799427705567\n",
      "Channel error = [0 0 1 0 0 0 0 1 1 0], MSE = 0.4084658472362666\n",
      "Channel error = [0 0 0 1 0 0 0 1 0 0], MSE = 0.19372005722944335\n",
      "Channel error = [0 0 0 1 0 0 0 1 1 0], MSE = 0.4084658472362666\n",
      "Channel error = [0 0 0 0 0 0 0 1 1 0], MSE = 1.0000000000000002\n",
      "Channel error = [0 1 0 1 0 0 0 0 0 0], MSE = 1.0000000000000002\n",
      "Channel error = [0 1 0 1 0 0 0 0 1 0], MSE = 0.19372005722944335\n",
      "Channel error = [0 1 0 0 0 0 0 0 1 0], MSE = 0.4084658472362666\n",
      "Channel error = [0 1 0 1 0 0 1 0 0 0], MSE = 0.19372005722944335\n",
      "Channel error = [0 1 0 1 0 0 1 0 1 0], MSE = 1.5915341527637334\n",
      "Channel error = [0 1 0 0 0 0 1 0 1 0], MSE = 0.9999999999999998\n",
      "Channel error = [0 0 0 1 0 0 1 0 0 0], MSE = 0.4084658472362666\n",
      "Channel error = [0 0 0 1 0 0 1 0 1 0], MSE = 0.9999999999999998\n",
      "Channel error = [0 0 0 0 0 0 1 0 1 0], MSE = 0.19372005722944335\n",
      "Channel error = [1 0 0 1 0 0 0 0 0 0], MSE = 1.0000000000000002\n",
      "Channel error = [1 0 0 1 0 0 0 0 1 0], MSE = 0.19372005722944335\n",
      "Channel error = [1 0 0 0 0 0 0 0 1 0], MSE = 0.4084658472362666\n",
      "Channel error = [1 0 0 1 0 1 0 0 0 0], MSE = 0.19372005722944335\n",
      "Channel error = [1 0 0 1 0 1 0 0 1 0], MSE = 1.5915341527637334\n",
      "Channel error = [1 0 0 0 0 1 0 0 1 0], MSE = 0.9999999999999998\n",
      "Channel error = [0 0 0 1 0 1 0 0 0 0], MSE = 0.4084658472362666\n",
      "Channel error = [0 0 0 1 0 1 0 0 1 0], MSE = 0.9999999999999998\n",
      "Channel error = [0 0 0 0 0 1 0 0 1 0], MSE = 0.19372005722944335\n",
      "Channel error = [0 1 1 0 0 0 0 0 0 0], MSE = 0.4084658472362666\n",
      "Channel error = [0 1 1 0 0 0 0 1 0 0], MSE = 0.9999999999999998\n",
      "Channel error = [0 1 0 0 0 0 0 1 0 0], MSE = 0.19372005722944335\n",
      "Channel error = [0 1 1 0 0 0 1 0 0 0], MSE = 0.9999999999999998\n",
      "Channel error = [0 1 1 0 0 0 1 1 0 0], MSE = 1.8062799427705567\n",
      "Channel error = [0 1 0 0 0 0 1 1 0 0], MSE = 0.4084658472362666\n",
      "Channel error = [0 0 1 0 0 0 1 0 0 0], MSE = 0.19372005722944335\n",
      "Channel error = [0 0 1 0 0 0 1 1 0 0], MSE = 0.4084658472362666\n",
      "Channel error = [0 0 0 0 0 0 1 1 0 0], MSE = 1.0000000000000002\n",
      "Channel error = [1 0 1 0 0 0 0 0 0 0], MSE = 1.0000000000000002\n",
      "Channel error = [1 0 1 0 0 0 0 1 0 0], MSE = 0.19372005722944335\n",
      "Channel error = [1 0 0 0 0 0 0 1 0 0], MSE = 0.4084658472362666\n",
      "Channel error = [1 0 1 0 0 1 0 0 0 0], MSE = 0.19372005722944335\n",
      "Channel error = [1 0 1 0 0 1 0 1 0 0], MSE = 1.5915341527637334\n",
      "Channel error = [1 0 0 0 0 1 0 1 0 0], MSE = 0.9999999999999998\n",
      "Channel error = [0 0 1 0 0 1 0 0 0 0], MSE = 0.4084658472362666\n",
      "Channel error = [0 0 1 0 0 1 0 1 0 0], MSE = 0.9999999999999998\n",
      "Channel error = [0 0 0 0 0 1 0 1 0 0], MSE = 0.19372005722944335\n",
      "Channel error = [1 1 0 0 0 0 0 0 0 0], MSE = 0.4084658472362666\n",
      "Channel error = [1 1 0 0 0 0 1 0 0 0], MSE = 0.9999999999999998\n",
      "Channel error = [1 0 0 0 0 0 1 0 0 0], MSE = 0.19372005722944335\n",
      "Channel error = [1 1 0 0 0 1 0 0 0 0], MSE = 0.9999999999999998\n",
      "Channel error = [1 1 0 0 0 1 1 0 0 0], MSE = 1.8062799427705567\n",
      "Channel error = [1 0 0 0 0 1 1 0 0 0], MSE = 0.4084658472362666\n",
      "Channel error = [0 1 0 0 0 1 0 0 0 0], MSE = 0.19372005722944335\n",
      "Channel error = [0 1 0 0 0 1 1 0 0 0], MSE = 0.4084658472362666\n",
      "Channel error = [0 0 0 0 0 1 1 0 0 0], MSE = 1.0000000000000002\n"
     ]
    }
   ],
   "source": [
    "myIndex1 = 1\n",
    "string_format = '{:0>' + str(n) + '}' \n",
    "while(myIndex1 < 2**(n)):\n",
    "    # generate weight 1 vectors\n",
    "    checkRow1 = list(string_format.format(\"{:b}\".format(myIndex1)))\n",
    "    checkRow1 = np.asarray(list(map(int, checkRow1)))\n",
    "    \n",
    "    myIndex2 = myIndex1*2\n",
    "    while(myIndex2 < 2**n):\n",
    "        # generate another weight 1 vector\n",
    "        checkRow2 = list(string_format.format(\"{:b}\".format(myIndex2)))\n",
    "        checkRow2 = np.asarray(list(map(int, checkRow2)))\n",
    "        \n",
    "        #generate weight 2 vector\n",
    "        checkRow3 = list(string_format.format(\"{:b}\".format(myIndex2)))\n",
    "        checkRow3 = np.asarray(list(map(int, checkRow3)))\n",
    "        checkRow3[checkRow1 == 1] = 1\n",
    "        \n",
    "        # add weight 2 errors with XX, XY, XZ, ...\n",
    "        analyzeChannel(np.append(checkRow3, np.zeros(n, dtype = 'int')))\n",
    "        analyzeChannel(np.append(checkRow3, checkRow1))\n",
    "        analyzeChannel(np.append(checkRow2, checkRow1))\n",
    "        \n",
    "        analyzeChannel(np.append(checkRow3, checkRow2))\n",
    "        analyzeChannel(np.append(checkRow3, checkRow3))\n",
    "        analyzeChannel(np.append(checkRow2, checkRow3))\n",
    "        \n",
    "        analyzeChannel(np.append(checkRow1, checkRow2))\n",
    "        analyzeChannel(np.append(checkRow1, checkRow3))      \n",
    "        analyzeChannel(np.append(np.zeros(n, dtype = 'int'), checkRow3))\n",
    "               \n",
    "        myIndex2 = myIndex2*2\n",
    "        \n",
    "    myIndex1 = myIndex1*2   "
   ]
  },
  {
   "cell_type": "markdown",
   "metadata": {},
   "source": [
    "### TODO\n",
    "- MSE not good in 5 qbit code, why? Try Logical error rate\n",
    "- WTF is Logical error rate? (or minimum fidelity)\n",
    "- Problem in number of nonzero qbits not being equal in 5 qbit code, why?\n",
    "\n",
    "\n",
    "- Change the channel error randomness to 1-3p,p,p,p\n",
    "- Generate plots: mse (or some other rate) vs p\n",
    "\n",
    "\n",
    "- Maybe start generating data"
   ]
  },
  {
   "cell_type": "code",
   "execution_count": 28,
   "metadata": {},
   "outputs": [],
   "source": [
    "# print(tx_decoded.flatten())\n",
    "# print(rx_decoded.flatten())"
   ]
  },
  {
   "cell_type": "markdown",
   "metadata": {},
   "source": [
    "## Rough"
   ]
  },
  {
   "cell_type": "code",
   "execution_count": null,
   "metadata": {},
   "outputs": [],
   "source": []
  }
 ],
 "metadata": {
  "kernelspec": {
   "display_name": "Python 3",
   "language": "python",
   "name": "python3"
  },
  "language_info": {
   "codemirror_mode": {
    "name": "ipython",
    "version": 3
   },
   "file_extension": ".py",
   "mimetype": "text/x-python",
   "name": "python",
   "nbconvert_exporter": "python",
   "pygments_lexer": "ipython3",
   "version": "3.6.8"
  }
 },
 "nbformat": 4,
 "nbformat_minor": 2
}
