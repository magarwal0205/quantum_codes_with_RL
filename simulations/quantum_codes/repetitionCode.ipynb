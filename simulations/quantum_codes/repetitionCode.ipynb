{
 "cells": [
  {
   "cell_type": "code",
   "execution_count": 1,
   "metadata": {},
   "outputs": [],
   "source": [
    "import numpy as np\n",
    "import scipy as sp\n",
    "import scipy.linalg"
   ]
  },
  {
   "cell_type": "markdown",
   "metadata": {},
   "source": [
    "## Basis: |0> and |1>"
   ]
  },
  {
   "cell_type": "code",
   "execution_count": 2,
   "metadata": {},
   "outputs": [],
   "source": [
    "Zero = np.array([[1.0], [0.0]]) # |0>\n",
    "One = np.array([[0.0], [1.0]]) # |1>"
   ]
  },
  {
   "cell_type": "markdown",
   "metadata": {},
   "source": [
    "## Function to get Qbit "
   ]
  },
  {
   "cell_type": "code",
   "execution_count": 3,
   "metadata": {},
   "outputs": [],
   "source": [
    "NormalizeState = lambda state: state / sp.linalg.norm(state)\n",
    "def qbit(a, b):\n",
    "    return NormalizeState(a*Zero + b*One)"
   ]
  },
  {
   "cell_type": "markdown",
   "metadata": {},
   "source": [
    "## Function to get N Qbits"
   ]
  },
  {
   "cell_type": "code",
   "execution_count": 4,
   "metadata": {},
   "outputs": [],
   "source": [
    "def NKron(*args):\n",
    "  \"\"\"Calculate a Kronecker product over a variable number of inputs\"\"\"\n",
    "  result = np.array([[1.0]])\n",
    "  for op in args:\n",
    "    result = np.kron(result, op)\n",
    "  return result"
   ]
  },
  {
   "cell_type": "markdown",
   "metadata": {},
   "source": [
    "## Repetition code function"
   ]
  },
  {
   "cell_type": "code",
   "execution_count": 5,
   "metadata": {},
   "outputs": [
    {
     "data": {
      "text/plain": [
       "array([[0.19611614],\n",
       "       [0.98058068]])"
      ]
     },
     "execution_count": 5,
     "metadata": {},
     "output_type": "execute_result"
    }
   ],
   "source": [
    "a = 0.1\n",
    "b = 0.5\n",
    "qbit(a, b)"
   ]
  },
  {
   "cell_type": "code",
   "execution_count": 6,
   "metadata": {},
   "outputs": [
    {
     "data": {
      "text/plain": [
       "array([[0.19611614],\n",
       "       [0.        ],\n",
       "       [0.        ],\n",
       "       [0.        ],\n",
       "       [0.        ],\n",
       "       [0.        ],\n",
       "       [0.        ],\n",
       "       [0.98058068]])"
      ]
     },
     "execution_count": 6,
     "metadata": {},
     "output_type": "execute_result"
    }
   ],
   "source": [
    "ZeroZeroZero = NKron(Zero, Zero, Zero) # |000>\n",
    "OneOneOne = NKron(One, One, One) # |111>\n",
    "encodedQbit = NormalizeState(a*ZeroZeroZero + b*OneOneOne)\n",
    "encodedQbit"
   ]
  },
  {
   "cell_type": "code",
   "execution_count": 7,
   "metadata": {},
   "outputs": [],
   "source": [
    "# Id = np.eye(2)\n",
    "\n",
    "# Z = np.array([[1.0, 0.0],[0.0, -1.0]])\n",
    "# FlipOne = NKron(Z, Id, Id)\n",
    "# np.dot(FlipOne, encodedQbit)"
   ]
  },
  {
   "cell_type": "code",
   "execution_count": null,
   "metadata": {},
   "outputs": [],
   "source": []
  },
  {
   "cell_type": "markdown",
   "metadata": {},
   "source": [
    "## Flip any bit"
   ]
  },
  {
   "cell_type": "code",
   "execution_count": 8,
   "metadata": {},
   "outputs": [],
   "source": [
    "X = np.array([[0.0, 0.1],[0.1, 0.0]])"
   ]
  },
  {
   "cell_type": "code",
   "execution_count": 9,
   "metadata": {},
   "outputs": [],
   "source": [
    "Id = np.eye(2)\n",
    "FlipNone = NKron(Id, Id, Id)\n",
    "FlipOne = NKron(X, Id, Id)\n",
    "FlipTwo = NKron(Id, X, Id)\n",
    "FlipThree = NKron(Id, Id, X)"
   ]
  },
  {
   "cell_type": "code",
   "execution_count": 10,
   "metadata": {},
   "outputs": [
    {
     "data": {
      "text/plain": [
       "array([[0.        ],\n",
       "       [0.19611614],\n",
       "       [0.        ],\n",
       "       [0.        ],\n",
       "       [0.        ],\n",
       "       [0.        ],\n",
       "       [0.98058068],\n",
       "       [0.        ]])"
      ]
     },
     "execution_count": 10,
     "metadata": {},
     "output_type": "execute_result"
    }
   ],
   "source": [
    "receivedQbit = np.dot(FlipThree, encodedQbit)\n",
    "receivedQbit = NormalizeState(receivedQbit)\n",
    "receivedQbit"
   ]
  },
  {
   "cell_type": "markdown",
   "metadata": {},
   "source": [
    "## Error Syndrome Check"
   ]
  },
  {
   "cell_type": "code",
   "execution_count": 11,
   "metadata": {},
   "outputs": [],
   "source": [
    "P0 = np.outer(NKron(Zero, Zero, Zero), NKron(Zero, Zero, Zero)) + np.outer(NKron(One, One, One), NKron(One, One, One))\n",
    "P1 = np.outer(NKron(One, Zero, Zero), NKron(One, Zero, Zero)) + np.outer(NKron(Zero, One, One), NKron(Zero, One, One))\n",
    "P2 = np.outer(NKron(Zero, One, Zero), NKron(Zero, One, Zero)) + np.outer(NKron(One, Zero, One), NKron(One, Zero, One))\n",
    "P3 = np.outer(NKron(Zero, Zero, One), NKron(Zero, Zero, One)) + np.outer(NKron(One, One, Zero), NKron(One, One, Zero))"
   ]
  },
  {
   "cell_type": "code",
   "execution_count": 12,
   "metadata": {},
   "outputs": [
    {
     "name": "stdout",
     "output_type": "stream",
     "text": [
      "[[0.]]\n",
      "[[0.]]\n",
      "[[0.]]\n",
      "[[1.]]\n"
     ]
    }
   ],
   "source": [
    "print(np.dot(receivedQbit.transpose(), np.dot(P0,receivedQbit)))\n",
    "print(np.dot(receivedQbit.transpose(), np.dot(P1,receivedQbit)))\n",
    "print(np.dot(receivedQbit.transpose(), np.dot(P2,receivedQbit)))\n",
    "print(np.dot(receivedQbit.transpose(), np.dot(P3,receivedQbit)))"
   ]
  },
  {
   "cell_type": "markdown",
   "metadata": {},
   "source": [
    "## Error Recovery"
   ]
  },
  {
   "cell_type": "code",
   "execution_count": null,
   "metadata": {},
   "outputs": [],
   "source": []
  },
  {
   "cell_type": "code",
   "execution_count": null,
   "metadata": {},
   "outputs": [],
   "source": []
  },
  {
   "cell_type": "code",
   "execution_count": null,
   "metadata": {},
   "outputs": [],
   "source": []
  },
  {
   "cell_type": "code",
   "execution_count": null,
   "metadata": {},
   "outputs": [],
   "source": []
  },
  {
   "cell_type": "code",
   "execution_count": null,
   "metadata": {},
   "outputs": [],
   "source": []
  }
 ],
 "metadata": {
  "kernelspec": {
   "display_name": "Python 3",
   "language": "python",
   "name": "python3"
  },
  "language_info": {
   "codemirror_mode": {
    "name": "ipython",
    "version": 3
   },
   "file_extension": ".py",
   "mimetype": "text/x-python",
   "name": "python",
   "nbconvert_exporter": "python",
   "pygments_lexer": "ipython3",
   "version": "3.7.3"
  }
 },
 "nbformat": 4,
 "nbformat_minor": 2
}
