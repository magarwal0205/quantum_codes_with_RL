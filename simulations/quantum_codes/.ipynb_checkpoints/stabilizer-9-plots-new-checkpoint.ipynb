{
 "cells": [
  {
   "cell_type": "code",
   "execution_count": 1,
   "metadata": {},
   "outputs": [],
   "source": [
    "import numpy as np\n",
    "import scipy as sp\n",
    "import scipy.linalg\n",
    "import cvxpy as cp\n",
    "import matplotlib.pyplot as plt\n",
    "import random\n",
    "import math\n",
    "import sys"
   ]
  },
  {
   "cell_type": "code",
   "execution_count": 2,
   "metadata": {},
   "outputs": [],
   "source": [
    "def NKron(*args):\n",
    "  result = np.array([[1.0]])\n",
    "  for op in args:\n",
    "    result = np.kron(result, op)\n",
    "  return result"
   ]
  },
  {
   "cell_type": "code",
   "execution_count": 3,
   "metadata": {},
   "outputs": [],
   "source": [
    "Id = np.eye(2)\n",
    "X = np.array([[0.0, 1.0],[1.0, 0.0]])\n",
    "Z = np.array([[1.0, 0.0],[0.0, -1.0]])\n",
    "Y = np.matmul(X,Z)"
   ]
  },
  {
   "cell_type": "code",
   "execution_count": 4,
   "metadata": {},
   "outputs": [],
   "source": [
    "# NormalizeState = lambda state: state / sp.linalg.norm(state)\n",
    "def NormalizeState(ipVal):\n",
    "    if(sp.linalg.norm(ipVal) == 0): return ipVal\n",
    "    else : return ipVal / sp.linalg.norm(ipVal)\n",
    "zero = np.array([[1.0], [0.0]]) # |0>\n",
    "one = np.array([[0.0], [1.0]]) # |1>"
   ]
  },
  {
   "cell_type": "markdown",
   "metadata": {},
   "source": [
    "## Generators"
   ]
  },
  {
   "cell_type": "code",
   "execution_count": 5,
   "metadata": {},
   "outputs": [],
   "source": [
    "def NKronModified(checkRowMod):\n",
    "  result = np.array([[1.0]])\n",
    "  for ind in checkRowMod:\n",
    "    if(ind == 0):\n",
    "        op = Id\n",
    "    elif(ind == 1):\n",
    "        op = X\n",
    "    elif(ind == 2):\n",
    "        op = Y\n",
    "    elif(ind == 3):\n",
    "        op = Z\n",
    "    result = np.kron(result, op)\n",
    "  return result\n",
    "\n",
    "def getGenerator(checkRow):\n",
    "    checkRowModified = np.zeros(n, dtype=int)\n",
    "    \n",
    "    checkRowModified[(checkRow[:n] == checkRow[n:]) & (checkRow[n:] == 1)] = 2\n",
    "    checkRowModified[(checkRow[:n] == 1) & (checkRowModified != 2)] = 1\n",
    "    checkRowModified[(checkRow[n:] == 1) & (checkRowModified != 2)] = 3\n",
    "    \n",
    "    return NKronModified(checkRowModified)    "
   ]
  },
  {
   "cell_type": "code",
   "execution_count": 6,
   "metadata": {},
   "outputs": [],
   "source": [
    "comparingAccuracy_decoded = 1e-7\n",
    "comparingAccuracy_encoded = 1e-5\n",
    "comparingAccuracy_syndrome = 1e-5\n",
    "comparingAccuracy_method = 1e-5"
   ]
  },
  {
   "cell_type": "code",
   "execution_count": 7,
   "metadata": {},
   "outputs": [],
   "source": [
    "Hmatrix = np.array([[1,0,1,0,1,0,1],\n",
    "                    [0,1,1,0,0,1,1],\n",
    "                    [0,0,0,1,1,1,1]])\n",
    "\n",
    "na = Hmatrix.shape[1]\n",
    "nb = Hmatrix.shape[0]\n",
    "\n",
    "Hx = np.concatenate((np.kron(np.eye(na), Hmatrix), np.kron(Hmatrix.T, np.eye(nb))), axis=1)\n",
    "Hz = np.concatenate((np.kron(Hmatrix, np.eye(na)), np.kron(np.eye(nb), Hmatrix.T)), axis=1)\n",
    "\n",
    "H1 = np.concatenate((Hx, np.zeros([Hx.shape[0], Hx.shape[1]])), axis=1)\n",
    "H2 = np.concatenate((np.zeros([Hz.shape[0], Hz.shape[1]]), Hz), axis=1)\n",
    "\n",
    "# checkMatrix = np.concatenate((H1, H2), axis=0)"
   ]
  },
  {
   "cell_type": "code",
   "execution_count": 8,
   "metadata": {},
   "outputs": [],
   "source": [
    "# change check matrix here\n",
    "\n",
    "# checkMatrix = np.array([[1,1,1,1,1,1,1,1, 0,0,0,0,0,0,0,0],\n",
    "#                         [0,0,0,0,0,0,0,0, 1,1,1,1,1,1,1,1],\n",
    "#                         [0,1,0,1,1,0,1,0, 0,0,0,0,1,1,1,1],\n",
    "#                         [0,1,0,1,0,1,0,1, 0,0,1,1,0,0,1,1],\n",
    "#                         [0,1,1,0,1,0,0,1, 0,1,0,1,0,1,0,1]])\n",
    "\n",
    "# checkMatrix = np.array([[0,0,0,0,0,0,0,0,0, 1,1,0,0,0,0,0,0,0],\n",
    "#                         [0,0,0,0,0,0,0,0,0, 1,0,1,0,0,0,0,0,0],\n",
    "#                         [0,0,0,0,0,0,0,0,0, 0,0,0,1,1,0,0,0,0],\n",
    "#                         [0,0,0,0,0,0,0,0,0, 0,0,0,1,0,1,0,0,0],\n",
    "#                         [0,0,0,0,0,0,0,0,0, 0,0,0,0,0,0,1,1,0],\n",
    "#                         [0,0,0,0,0,0,0,0,0, 0,0,0,0,0,0,1,0,1],\n",
    "#                         [1,1,1,1,1,1,0,0,0, 0,0,0,0,0,0,0,0,0],\n",
    "#                         [1,1,1,0,0,0,1,1,1, 0,0,0,0,0,0,0,0,0]])\n",
    "\n",
    "# checkMatrix = np.array([[1,0,0,1,0, 0,1,1,0,0],\n",
    "#                         [0,1,0,0,1, 0,0,1,1,0],\n",
    "#                         [1,0,1,0,0, 0,0,0,1,1],\n",
    "#                         [0,1,0,1,0, 1,0,0,0,1]])\n",
    "\n",
    "checkMatrix = np.array([[0,0,0,1,1,1,1, 0,0,0,0,0,0,0],\n",
    "                        [0,1,1,0,0,1,1, 0,0,0,0,0,0,0],\n",
    "                        [1,0,1,0,1,0,1, 0,0,0,0,0,0,0],\n",
    "                        [0,0,0,0,0,0,0, 0,0,0,1,1,1,1],\n",
    "                        [0,0,0,0,0,0,0, 0,1,1,0,0,1,1],\n",
    "                        [0,0,0,0,0,0,0, 1,0,1,0,1,0,1]])\n",
    "\n",
    "n = int(checkMatrix.shape[1]/2)\n",
    "k = n-checkMatrix.shape[0]\n",
    "\n",
    "gi = np.zeros([n-k, 2**n, 2**n])\n",
    "for i in range(n-k):\n",
    "    gi[i,:,:] = getGenerator(checkMatrix[i,:])\n",
    "    \n",
    "# def gi(i):\n",
    "#     return getGenerator(checkMatrix[i,:])"
   ]
  },
  {
   "cell_type": "markdown",
   "metadata": {},
   "source": [
    "## Encoding"
   ]
  },
  {
   "cell_type": "code",
   "execution_count": null,
   "metadata": {},
   "outputs": [],
   "source": [
    "def NKron1DGeneral(ipArray):\n",
    "    result = np.array([[1.0]])\n",
    "    for i in ipArray:\n",
    "        if(i==1):\n",
    "            op = one\n",
    "        elif(i==0):\n",
    "            op = zero\n",
    "        result = np.kron(result, op)\n",
    "    return result"
   ]
  },
  {
   "cell_type": "markdown",
   "metadata": {},
   "source": [
    "#### Get generator matrix G"
   ]
  },
  {
   "cell_type": "code",
   "execution_count": null,
   "metadata": {},
   "outputs": [],
   "source": [
    "Gmatrix = np.eye(gi[0,:,:].shape[0], gi[0,:,:].shape[1]) # generator matrix corresponding to this code\n",
    "for i in range(n-k):\n",
    "    Gmatrix = Gmatrix + np.matmul(gi[i,:,:], Gmatrix)\n",
    "Gmatrix = np.round(Gmatrix)"
   ]
  },
  {
   "cell_type": "markdown",
   "metadata": {},
   "source": [
    "#### Get non-zero and unique columns of G"
   ]
  },
  {
   "cell_type": "code",
   "execution_count": null,
   "metadata": {},
   "outputs": [],
   "source": [
    "# get boolean array if the columns are zero or not\n",
    "zeroCols = np.zeros(Gmatrix.shape[1])\n",
    "for i in range(Gmatrix.shape[1]):\n",
    "    zeroCols[i] = all(Gmatrix[:,i] == np.zeros(Gmatrix.shape[0]))\n",
    "\n",
    "# get indices of non-zero columns\n",
    "nonZeroColsList = np.argwhere(zeroCols==0).flatten()\n",
    "\n",
    "# get all non zero columns\n",
    "GmatrixNonZero = np.zeros([Gmatrix.shape[0], nonZeroColsList.shape[0]])\n",
    "i = 0\n",
    "for ind in nonZeroColsList:\n",
    "    GmatrixNonZero[:,i] = Gmatrix[:,ind]\n",
    "    i = i+1\n",
    "\n",
    "# get all non zero and unique columns and there indices\n",
    "GmatrixNonZeroUniqueInd, nonZeroUniqueInd = np.unique(GmatrixNonZero, axis = 1, return_index=True)\n",
    "nonZeroUniqueInd = nonZeroColsList[nonZeroUniqueInd]"
   ]
  },
  {
   "cell_type": "code",
   "execution_count": null,
   "metadata": {},
   "outputs": [
    {
     "name": "stdout",
     "output_type": "stream",
     "text": [
      "Rank of G = 2\n",
      "Shape of G = (128, 128)\n"
     ]
    }
   ],
   "source": [
    "print('Rank of G = ' + str(np.linalg.matrix_rank(Gmatrix)))\n",
    "print('Shape of G = ' + str(Gmatrix.shape))"
   ]
  },
  {
   "cell_type": "code",
   "execution_count": null,
   "metadata": {},
   "outputs": [],
   "source": [
    "def getSyndromeFromError(channel_error):\n",
    "    tx_qbits = np.ones(2**k)\n",
    "    tx_qbits = NormalizeState(tx_qbits)\n",
    "\n",
    "    # Convert qbits to tensor product format\n",
    "    tx_decoded = np.zeros(2**n)\n",
    "    # get extended qbits corresponding to non-zero column indices of G matrix\n",
    "    i = 0\n",
    "    for nonZeroIndex in np.sort(nonZeroUniqueInd):\n",
    "        if(i>=2**k):\n",
    "            break\n",
    "        tx_decoded[nonZeroIndex] = tx_qbits[i]\n",
    "        i = i+1\n",
    "    tx_decoded = NormalizeState(tx_decoded)\n",
    "\n",
    "    # encode transmit qbits\n",
    "    tx_encoded = NormalizeState(tx_decoded) # encoded transmit qbits\n",
    "    for i in range(n-k):\n",
    "        tx_encoded = tx_encoded + np.matmul(gi[i,:,:], tx_encoded) # encode using generators\n",
    "    tx_encoded = NormalizeState(tx_encoded) # encoded transmit qbits\n",
    "\n",
    "    # channel\n",
    "    rx_erry = np.dot(channel_error, tx_encoded) # received qbits with errors\n",
    "\n",
    "    # syndrome check\n",
    "    syndr = np.zeros([n-k, 1]) # syndrome\n",
    "    for i in range(n-k):\n",
    "        syndr[i] = np.dot(rx_erry.transpose(), np.dot(gi[i,:,:], rx_erry))\n",
    "        \n",
    "    syndr[syndr>0] = 0\n",
    "    syndr[syndr<0] = 1\n",
    "        \n",
    "    return np.ndarray.astype(np.round(syndr), 'int').flatten()"
   ]
  },
  {
   "cell_type": "code",
   "execution_count": null,
   "metadata": {},
   "outputs": [
    {
     "data": {
      "text/plain": [
       "array([[0, 0, 0, 1, 1, 1, 1, 0, 0, 0, 0, 0, 0, 0],\n",
       "       [0, 1, 1, 0, 0, 1, 1, 0, 0, 0, 0, 0, 0, 0],\n",
       "       [1, 0, 1, 0, 1, 0, 1, 0, 0, 0, 0, 0, 0, 0],\n",
       "       [0, 0, 0, 0, 0, 0, 0, 0, 0, 0, 1, 1, 1, 1],\n",
       "       [0, 0, 0, 0, 0, 0, 0, 0, 1, 1, 0, 0, 1, 1],\n",
       "       [0, 0, 0, 0, 0, 0, 0, 1, 0, 1, 0, 1, 0, 1]])"
      ]
     },
     "execution_count": 14,
     "metadata": {},
     "output_type": "execute_result"
    }
   ],
   "source": [
    "checkMatrix"
   ]
  },
  {
   "cell_type": "code",
   "execution_count": null,
   "metadata": {},
   "outputs": [],
   "source": [
    "def getCardin(myVector):\n",
    "    return np.sum(myVector != 0)\n",
    "\n",
    "def getErrorFromSyndrome(syndr):\n",
    "    success = 0\n",
    "    finalError = np.zeros(2*errCheckRowModified.shape[0])\n",
    "    while(getCardin(syndr) != 0):\n",
    "        maxMetric = 0\n",
    "        for generatorInd in range(n-k): # for all generators\n",
    "            g = checkMatrix[generatorInd, :] # get the genrator\n",
    "            g_modified = np.zeros(n, dtype=int)\n",
    "            g_modified[(g[:n] == g[n:]) & (g[n:] == 1)] = 2\n",
    "            g_modified[(g[:n] == 1) & (g_modified != 2)] = 1\n",
    "            g_modified[(g[n:] == 1) & (g_modified != 2)] = 3\n",
    "            \n",
    "            string_format = '{:0>' + str(2*getCardin(g_modified)) + '}'\n",
    "            for errorIndex in range(2**(2*getCardin(g_modified))): # for all errors with the support of that generator\n",
    "                if(errorIndex == 0): continue\n",
    "                thisError = np.copy(g_modified)\n",
    "                \n",
    "                modifyError = list(string_format.format(\"{:b}\".format(errorIndex)))\n",
    "                modifyError =  np.asarray(list(map(int, modifyError)) )\n",
    "                \n",
    "                temp_n = getCardin(g_modified)\n",
    "                modifyErrorModified = np.zeros(temp_n, dtype=int)\n",
    "                modifyErrorModified[(modifyError[:temp_n] == modifyError[temp_n:]) & (modifyError[temp_n:] == 1)] = 2\n",
    "                modifyErrorModified[(modifyError[:temp_n] == 1) & (modifyErrorModified != 2)] = 1\n",
    "                modifyErrorModified[(modifyError[temp_n:] == 1) & (modifyErrorModified != 2)] = 3\n",
    "                \n",
    "                thisError[thisError != 0] = modifyErrorModified # get the error\n",
    "                \n",
    "                           \n",
    "                thisError1 = np.copy(thisError)\n",
    "                thisError1[thisError == 1] = 1\n",
    "                thisError1[thisError == 2] = 1\n",
    "                thisError1[thisError == 3] = 0\n",
    "                \n",
    "                thisError2 = np.copy(thisError)\n",
    "                thisError2[thisError == 1] = 0\n",
    "                thisError2[thisError == 2] = 1\n",
    "                thisError2[thisError == 3] = 1\n",
    "                \n",
    "                thisError = np.append(thisError1, thisError2)\n",
    "                \n",
    "#                 print('Im here ' + str(syndr))\n",
    "                syndr_new = (syndr + getSyndromeFromError(getGenerator(thisError)))%2 # update to syndrome to check weight\n",
    "                thisMetric = (getCardin(syndr) - getCardin(syndr_new))/getCardin(modifyErrorModified) # get the metric\n",
    "                \n",
    "                if(thisMetric > maxMetric):\n",
    "                    bestError = thisError\n",
    "                    maxMetric = thisMetric\n",
    "#                 if(thisMetric == maxMetric):\n",
    "#                     print('Error = ' + str(thisError) + ', |s_i+1| = ' + str(getCardin(syndr_new)) + ', |s_i| = ' + str(getCardin(syndr)) + ', |e| = ' + str(getCardin(thisError)))\n",
    "\n",
    "        if(maxMetric != 0):\n",
    "            finalError = bestError\n",
    "            syndr = (syndr + getSyndromeFromError(getGenerator(bestError)))%2\n",
    "        if(maxMetric == 0):\n",
    "            break        \n",
    "#         print('Max metric = ' + str(maxMetric) + ', Best error = ' + str(bestError) + ', Syndrome = ' + str(syndr))\n",
    "\n",
    "    if(getCardin(syndr) != 0): success = 0\n",
    "    else: success = 1\n",
    "\n",
    "    return finalError.flatten(), success"
   ]
  },
  {
   "cell_type": "code",
   "execution_count": null,
   "metadata": {},
   "outputs": [],
   "source": [
    "# syndrome lookup table, but not :P\n",
    "def SyndromeLookUp(syndr):\n",
    "    syndr[syndr>0] = 0\n",
    "    syndr[syndr<0] = 1\n",
    "    error, success = getErrorFromSyndrome(syndr)\n",
    "    recov = getGenerator(error)\n",
    "    return recov"
   ]
  },
  {
   "cell_type": "markdown",
   "metadata": {},
   "source": [
    "## Channel and Decoding"
   ]
  },
  {
   "cell_type": "markdown",
   "metadata": {},
   "source": [
    "#### For different values of p and over many iterations"
   ]
  },
  {
   "cell_type": "code",
   "execution_count": null,
   "metadata": {},
   "outputs": [
    {
     "name": "stdout",
     "output_type": "stream",
     "text": [
      "[====================================>   ] Progress = 100%, Trace distance = 8.313093110601277e-17p = 0.0, Trace distance = 8.313093110601277e-17\n",
      "[====================================>   ] Progress = 100%, Trace distance = 1.0735345539131135e-16p = 0.03703666666666667, Trace distance = 1.0735345539131135e-16\n",
      "[================>                       ] Progress = 50%, Trace distance = 0.20000000105367138"
     ]
    }
   ],
   "source": [
    "errType = 0\n",
    "tot_probabs = 10\n",
    "probab_list = np.linspace(0,0.33333,tot_probabs)\n",
    "myError_list = np.zeros(tot_probabs)\n",
    "ind_probab = 0\n",
    "tot_iter = 10\n",
    "avgError = 0\n",
    "\n",
    "P = np.matmul(Gmatrix.transpose(), Gmatrix)\n",
    "A = np.eye(2**n, 2**n) # condition on codes\n",
    "# get extended qbits corresponding to non-zero column indices of G matrix\n",
    "i = 0\n",
    "for nonZeroIndex in np.sort(nonZeroUniqueInd):\n",
    "    if(i>=2**k):\n",
    "        break\n",
    "    A[nonZeroIndex, nonZeroIndex] = 0\n",
    "    i = i+1\n",
    "\n",
    "for p_xyz in probab_list:\n",
    "    myError = 0\n",
    "    tot_iter_temp = tot_iter\n",
    "    for iter_ind in range(tot_iter):\n",
    "        # generate qbits randomly\n",
    "        tx_qbits = np.random.rand(2**k)\n",
    "        tx_qbits = NormalizeState(tx_qbits)\n",
    "\n",
    "        # Convert qbits to tensor product format\n",
    "        tx_decoded = np.zeros(2**n)\n",
    "        # get extended qbits corresponding to non-zero column indices of G matrix\n",
    "        i = 0\n",
    "        for nonZeroIndex in np.sort(nonZeroUniqueInd):\n",
    "            if(i>=2**k):\n",
    "                break\n",
    "            tx_decoded[nonZeroIndex] = tx_qbits[i]\n",
    "            i = i+1\n",
    "        tx_decoded = NormalizeState(tx_decoded)\n",
    "\n",
    "        # encode transmit qbits\n",
    "        tx_encoded = NormalizeState(tx_decoded) # encoded transmit qbits\n",
    "        for i in range(n-k):\n",
    "            tx_encoded = tx_encoded + np.matmul(gi[i,:,:], tx_encoded) # encode using generators\n",
    "        tx_encoded = NormalizeState(tx_encoded) # encoded transmit qbits\n",
    "\n",
    "        # channel\n",
    "        p_channel = [1-3*p_xyz, p_xyz, p_xyz, p_xyz] \n",
    "        errMatrix = np.random.multinomial(1, p_channel, size=n)\n",
    "        errCheckRowModified = errMatrix@np.array([0,1,2,3])\n",
    "        channel_error = NKronModified(errCheckRowModified) # channel error\n",
    "        rx_erry = np.dot(channel_error, tx_encoded) # received qbits with errors\n",
    "\n",
    "        # syndrome check\n",
    "        syndr = np.zeros(n-k) # syndrome\n",
    "        for i in range(n-k):\n",
    "            syndr[i] = np.dot(rx_erry.transpose(), np.dot(gi[i,:,:], rx_erry))\n",
    "\n",
    "        # error correction\n",
    "        recov = SyndromeLookUp(syndr) # error recovery\n",
    "        rx_encoded = np.matmul(recov.transpose(), rx_erry) # received qbits without error but still encoded\n",
    "\n",
    "        # complete decoding\n",
    "        # setup optimizer to decode\n",
    "        q = -np.matmul(rx_encoded.transpose(), Gmatrix).flatten()\n",
    "        x = cp.Variable(rx_encoded.shape[0])\n",
    "        # get qbit that is at closest distance to received encoded qbit\n",
    "        prob = cp.Problem(cp.Minimize((1/2)*cp.quad_form(x, P) + q.T@x), [A@x == np.zeros(x.shape[0])])\n",
    "        prob.solve()\n",
    "        rx_decoded = NormalizeState(x.value) # received decoded qbits\n",
    "        \n",
    "        if(errType == 0):\n",
    "            errString = 'Trace distance'\n",
    "            errSaveName = 'trace'\n",
    "            \n",
    "            error = np.outer(tx_decoded, tx_decoded) - np.outer(rx_decoded, rx_decoded)\n",
    "            error_out = np.trace(sp.linalg.sqrtm(error.transpose()@error))/2\n",
    "            if(np.imag(error_out) > 1e-5):\n",
    "                print('Warning hai: Non zero imaginary part in the error: ' + str(np.imag(error_out)))\n",
    "\n",
    "#             error_out = tx_decoded - rx_decoded\n",
    "#             error_out = np.sum(error_out**2)/np.sum(np.abs(tx_decoded) > comparingAccuracy_decoded)\n",
    "\n",
    "#             error_out = np.abs(tx_decoded**2 - rx_decoded**2)\n",
    "#             error_out = np.sum(error_out)/2\n",
    "\n",
    "            error = np.real(error_out)\n",
    "        else:\n",
    "            errString = 'Fidelity distance'\n",
    "            errSaveName = 'fidelity'\n",
    "            rho = np.outer(tx_decoded, tx_decoded)\n",
    "            sigma = np.outer(rx_decoded, rx_decoded)\n",
    "            error_out = np.trace(sp.linalg.sqrtm(sp.linalg.sqrtm(rho)@sigma@sp.linalg.sqrtm(rho)))\n",
    "            if(np.imag(error_out) > 1e-5):\n",
    "                print('Warning hai: Non zero imaginary part in the error: ' + str(np.imag(error_out)))\n",
    "            error = np.real(error_out)   \n",
    "        \n",
    "        if(math.isnan(error) == False):\n",
    "            myError = myError + error\n",
    "            sys.stdout.write('\\r')\n",
    "            sys.stdout.write(\"[%-40s] Progress = %d%%, \" % ('='*int(np.round((iter_ind/tot_iter)*40))+'>', ((iter_ind+1)/tot_iter)*100) + errString + ' = ' + str(myError/(iter_ind+1)))\n",
    "            sys.stdout.flush()\n",
    "        else:\n",
    "            tot_iter_temp = tot_iter_temp - 1\n",
    "    myError = myError/tot_iter_temp\n",
    "    avgError = myError\n",
    "    print(' )\n",
    "    myError_list[ind_probab] = myError\n",
    "    ind_probab = ind_probab + 1"
   ]
  },
  {
   "cell_type": "code",
   "execution_count": null,
   "metadata": {},
   "outputs": [],
   "source": [
    "plt.plot(probab_list, myError_list)\n",
    "plt.ylabel(errString)\n",
    "plt.xlabel('p')\n",
    "plt.title(errString + ' for ' + str(n) + ',' + str(k) + ' code from Gottesman')\n",
    "plt.grid()\n",
    "plt.tight_layout()\n",
    "\n",
    "saveName = './plots/1' + errSaveName + '_' + str(n) + ',' + str(k) + '_iter_' + str(tot_iter) + '_totp_' + str(tot_probabs) + '.png'\n",
    "plt.show()\n",
    "# plt.savefig(saveName)\n",
    "print(saveName)"
   ]
  },
  {
   "cell_type": "code",
   "execution_count": null,
   "metadata": {},
   "outputs": [],
   "source": [
    "plt.plot(probab_list, myError_list)\n",
    "plt.ylabel(errString)\n",
    "plt.xlabel('p')\n",
    "plt.title(errString + ' for ' + str(n) + ',' + str(k) + ' code from Gottesman')\n",
    "plt.grid()\n",
    "plt.tight_layout()\n",
    "\n",
    "saveName = './plots/1' + errSaveName + '_' + str(n) + ',' + str(k) + '_iter_' + str(tot_iter) + '_totp_' + str(tot_probabs) + '.png'\n",
    "# plt.show()\n",
    "# plt.savefig(saveName)\n",
    "print(saveName)"
   ]
  },
  {
   "cell_type": "markdown",
   "metadata": {},
   "source": [
    "### TODO\n",
    "- Implement minimum fidelity\n",
    "- Generate plots for other codes\n",
    "\n",
    "\n",
    "- Check how decoding is done in Gottesman (to fix the null-space problem)\n",
    "- Maybe try implementing the circuits if there are any\n",
    "\n",
    "\n",
    "- Maybe start generating data"
   ]
  },
  {
   "cell_type": "markdown",
   "metadata": {},
   "source": [
    "## Rough"
   ]
  },
  {
   "cell_type": "code",
   "execution_count": null,
   "metadata": {},
   "outputs": [],
   "source": []
  },
  {
   "cell_type": "code",
   "execution_count": null,
   "metadata": {},
   "outputs": [],
   "source": []
  },
  {
   "cell_type": "code",
   "execution_count": null,
   "metadata": {},
   "outputs": [],
   "source": []
  },
  {
   "cell_type": "code",
   "execution_count": null,
   "metadata": {},
   "outputs": [],
   "source": []
  },
  {
   "cell_type": "code",
   "execution_count": null,
   "metadata": {},
   "outputs": [],
   "source": []
  },
  {
   "cell_type": "code",
   "execution_count": null,
   "metadata": {},
   "outputs": [],
   "source": []
  }
 ],
 "metadata": {
  "kernelspec": {
   "display_name": "Python 3",
   "language": "python",
   "name": "python3"
  },
  "language_info": {
   "codemirror_mode": {
    "name": "ipython",
    "version": 3
   },
   "file_extension": ".py",
   "mimetype": "text/x-python",
   "name": "python",
   "nbconvert_exporter": "python",
   "pygments_lexer": "ipython3",
   "version": "3.6.8"
  }
 },
 "nbformat": 4,
 "nbformat_minor": 2
}
