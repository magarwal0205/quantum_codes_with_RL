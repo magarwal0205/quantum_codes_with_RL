{
 "cells": [
  {
   "cell_type": "code",
   "execution_count": 1,
   "metadata": {},
   "outputs": [],
   "source": [
    "import numpy as np\n",
    "import scipy as sp\n",
    "import scipy.linalg\n",
    "import cvxpy as cp\n",
    "import random"
   ]
  },
  {
   "cell_type": "code",
   "execution_count": 2,
   "metadata": {},
   "outputs": [],
   "source": [
    "def NKron(*args):\n",
    "  result = np.array([[1.0]])\n",
    "  for op in args:\n",
    "    result = np.kron(result, op)\n",
    "  return result"
   ]
  },
  {
   "cell_type": "code",
   "execution_count": 3,
   "metadata": {},
   "outputs": [],
   "source": [
    "Id = np.eye(2)\n",
    "X = np.array([[0.0, 1.0],[1.0, 0.0]])\n",
    "Z = np.array([[1.0, 0.0],[0.0, -1.0]])\n",
    "Y = np.matmul(X,Z)"
   ]
  },
  {
   "cell_type": "code",
   "execution_count": 4,
   "metadata": {},
   "outputs": [],
   "source": [
    "NormalizeState = lambda state: state / sp.linalg.norm(state)\n",
    "zero = np.array([[1.0], [0.0]]) # |0>\n",
    "one = np.array([[0.0], [1.0]]) # |1>"
   ]
  },
  {
   "cell_type": "markdown",
   "metadata": {},
   "source": [
    "## Generators"
   ]
  },
  {
   "cell_type": "code",
   "execution_count": 5,
   "metadata": {},
   "outputs": [],
   "source": [
    "def NKronModified(checkRowMod):\n",
    "  result = np.array([[1.0]])\n",
    "  for ind in checkRowMod:\n",
    "    if(ind == 0):\n",
    "        op = Id\n",
    "    elif(ind == 1):\n",
    "        op = X\n",
    "    elif(ind == 2):\n",
    "        op = Y\n",
    "    elif(ind == 3):\n",
    "        op = Z\n",
    "    result = np.kron(result, op)\n",
    "  return result\n",
    "\n",
    "def getGenerator(checkRow):\n",
    "    checkRowModified = np.zeros(n, dtype=int)\n",
    "    \n",
    "    checkRowModified[(checkRow[:n] == checkRow[n:]) & (checkRow[n:] == 1)] = 2\n",
    "    checkRowModified[(checkRow[:n] == 1) & (checkRowModified != 2)] = 1\n",
    "    checkRowModified[(checkRow[n:] == 1) & (checkRowModified != 2)] = 3\n",
    "    \n",
    "    return NKronModified(checkRowModified)    "
   ]
  },
  {
   "cell_type": "code",
   "execution_count": 6,
   "metadata": {},
   "outputs": [],
   "source": [
    "comparingAccuracy_decoded = 1e-7\n",
    "comparingAccuracy_encoded = 1e-5\n",
    "comparingAccuracy_syndrome = 1e-5\n",
    "comparingAccuracy_method = 1e-5"
   ]
  },
  {
   "cell_type": "code",
   "execution_count": 7,
   "metadata": {},
   "outputs": [],
   "source": [
    "# change check matrix here\n",
    "\n",
    "# checkMatrix = np.array([[1,1,1,1,1,1,1,1, 0,0,0,0,0,0,0,0],\n",
    "#                         [0,0,0,0,0,0,0,0, 1,1,1,1,1,1,1,1],\n",
    "#                         [0,1,0,1,1,0,1,0, 0,0,0,0,1,1,1,1],\n",
    "#                         [0,1,0,1,0,1,0,1, 0,0,1,1,0,0,1,1],\n",
    "#                         [0,1,1,0,1,0,0,1, 0,1,0,1,0,1,0,1]])\n",
    "\n",
    "# checkMatrix = np.array([[0,0,0,0,0,0,0,0,0, 1,1,0,0,0,0,0,0,0],\n",
    "#                         [0,0,0,0,0,0,0,0,0, 1,0,1,0,0,0,0,0,0],\n",
    "#                         [0,0,0,0,0,0,0,0,0, 0,0,0,1,1,0,0,0,0],\n",
    "#                         [0,0,0,0,0,0,0,0,0, 0,0,0,1,0,1,0,0,0],\n",
    "#                         [0,0,0,0,0,0,0,0,0, 0,0,0,0,0,0,1,1,0],\n",
    "#                         [0,0,0,0,0,0,0,0,0, 0,0,0,0,0,0,1,0,1],\n",
    "#                         [1,1,1,1,1,1,0,0,0, 0,0,0,0,0,0,0,0,0],\n",
    "#                         [1,1,1,0,0,0,1,1,1, 0,0,0,0,0,0,0,0,0]])\n",
    "\n",
    "checkMatrix = np.array([[1,0,0,1,0, 0,1,1,0,0],\n",
    "                        [0,1,0,0,1, 0,0,1,1,0],\n",
    "                        [1,0,1,0,0, 0,0,0,1,1],\n",
    "                        [0,1,0,1,0, 1,0,0,0,1]])\n",
    "\n",
    "# checkMatrix = np.array([[0,0,0,1,1,1,1, 0,0,0,0,0,0,0],\n",
    "#                         [0,1,1,0,0,1,1, 0,0,0,0,0,0,0],\n",
    "#                         [1,0,1,0,1,0,1, 0,0,0,0,0,0,0],\n",
    "#                         [0,0,0,0,0,0,0, 0,0,0,1,1,1,1],\n",
    "#                         [0,0,0,0,0,0,0, 0,1,1,0,0,1,1],\n",
    "#                         [0,0,0,0,0,0,0, 1,0,1,0,1,0,1]])\n",
    "\n",
    "n = int(checkMatrix.shape[1]/2)\n",
    "k = n-checkMatrix.shape[0]\n",
    "\n",
    "gi = np.zeros([n-k, 2**n, 2**n])\n",
    "for i in range(n-k):\n",
    "    gi[i,:,:] = getGenerator(checkMatrix[i,:])"
   ]
  },
  {
   "cell_type": "markdown",
   "metadata": {},
   "source": [
    "## G matrix"
   ]
  },
  {
   "cell_type": "code",
   "execution_count": 8,
   "metadata": {},
   "outputs": [],
   "source": [
    "def NKron1DGeneral(ipArray):\n",
    "    result = np.array([[1.0]])\n",
    "    for i in ipArray:\n",
    "        if(i==1):\n",
    "            op = one\n",
    "        elif(i==0):\n",
    "            op = zero\n",
    "        result = np.kron(result, op)\n",
    "    return result"
   ]
  },
  {
   "cell_type": "markdown",
   "metadata": {},
   "source": [
    "#### Get generator matrix G"
   ]
  },
  {
   "cell_type": "code",
   "execution_count": 9,
   "metadata": {},
   "outputs": [],
   "source": [
    "Gmatrix = np.eye(gi[0,:,:].shape[0], gi[0,:,:].shape[1]) # generator matrix corresponding to this code\n",
    "for i in range(n-k):\n",
    "    Gmatrix = Gmatrix + np.matmul(gi[i,:,:], Gmatrix)\n",
    "Gmatrix = np.round(Gmatrix)"
   ]
  },
  {
   "cell_type": "markdown",
   "metadata": {},
   "source": [
    "#### Get non-zero and unique columns of G"
   ]
  },
  {
   "cell_type": "code",
   "execution_count": 10,
   "metadata": {},
   "outputs": [],
   "source": [
    "# get boolean array if the columns are zero or not\n",
    "zeroCols = np.zeros(Gmatrix.shape[1])\n",
    "for i in range(Gmatrix.shape[1]):\n",
    "    zeroCols[i] = all(Gmatrix[:,i] == np.zeros(Gmatrix.shape[0]))\n",
    "\n",
    "# get indices of non-zero columns\n",
    "nonZeroColsList = np.argwhere(zeroCols==0).flatten()\n",
    "\n",
    "# get all non zero columns\n",
    "GmatrixNonZero = np.zeros([Gmatrix.shape[0], nonZeroColsList.shape[0]])\n",
    "i = 0\n",
    "for ind in nonZeroColsList:\n",
    "    GmatrixNonZero[:,i] = Gmatrix[:,ind]\n",
    "    i = i+1\n",
    "\n",
    "# get all non zero and unique columns and there indices\n",
    "GmatrixNonZeroUniqueInd, nonZeroUniqueInd = np.unique(GmatrixNonZero, axis = 1, return_index=True)\n",
    "nonZeroUniqueInd = nonZeroColsList[nonZeroUniqueInd]"
   ]
  },
  {
   "cell_type": "code",
   "execution_count": 11,
   "metadata": {},
   "outputs": [
    {
     "name": "stdout",
     "output_type": "stream",
     "text": [
      "Rank of G = 2\n",
      "Shape of G = (32, 32)\n"
     ]
    }
   ],
   "source": [
    "print('Rank of G = ' + str(np.linalg.matrix_rank(Gmatrix)))\n",
    "print('Shape of G = ' + str(Gmatrix.shape))"
   ]
  },
  {
   "cell_type": "markdown",
   "metadata": {},
   "source": [
    "## Get Syndrome from Error"
   ]
  },
  {
   "cell_type": "code",
   "execution_count": 443,
   "metadata": {},
   "outputs": [],
   "source": [
    "def getSyndromeFromError(channel_error):\n",
    "    tx_qbits = np.ones(2**k)\n",
    "    tx_qbits = NormalizeState(tx_qbits)\n",
    "\n",
    "    # Convert qbits to tensor product format\n",
    "    tx_decoded = np.zeros(2**n)\n",
    "    # get extended qbits corresponding to non-zero column indices of G matrix\n",
    "    i = 0\n",
    "    for nonZeroIndex in np.sort(nonZeroUniqueInd):\n",
    "        if(i>=2**k):\n",
    "            break\n",
    "        tx_decoded[nonZeroIndex] = tx_qbits[i]\n",
    "        i = i+1\n",
    "    tx_decoded = NormalizeState(tx_decoded)\n",
    "\n",
    "    # encode transmit qbits\n",
    "    tx_encoded = NormalizeState(tx_decoded) # encoded transmit qbits\n",
    "    for i in range(n-k):\n",
    "        tx_encoded = tx_encoded + np.matmul(gi[i,:,:], tx_encoded) # encode using generators\n",
    "    tx_encoded = NormalizeState(tx_encoded) # encoded transmit qbits\n",
    "\n",
    "    # channel\n",
    "    rx_erry = np.dot(channel_error, tx_encoded) # received qbits with errors\n",
    "\n",
    "    # syndrome check\n",
    "    syndr = np.zeros([n-k, 1]) # syndrome\n",
    "    for i in range(n-k):\n",
    "        syndr[i] = np.dot(rx_erry.transpose(), np.dot(gi[i,:,:], rx_erry))\n",
    "        \n",
    "    syndr[syndr>0] = 0\n",
    "    syndr[syndr<0] = 1\n",
    "        \n",
    "    return np.ndarray.astype(np.round(syndr), 'int').flatten()"
   ]
  },
  {
   "cell_type": "markdown",
   "metadata": {},
   "source": [
    "## Get Error from Syndrome"
   ]
  },
  {
   "cell_type": "code",
   "execution_count": 444,
   "metadata": {},
   "outputs": [],
   "source": [
    "# def getCardin(myVector):\n",
    "#     return np.sum(myVector != 0)\n",
    "\n",
    "# def getErrorFromSyndrome(syndr):\n",
    "#     success = 0\n",
    "#     finalError = np.zeros(2*errCheckRowModified.shape[0])\n",
    "#     while(True):\n",
    "#         maxMetric = 0\n",
    "#         for generatorInd in range(n-k): # for all generators\n",
    "#             g = checkMatrix[generatorInd, :] # get the genrator\n",
    "            \n",
    "#             string_format = '{:0>' + str(getCardin(g)) + '}'\n",
    "#             for errorIndex in range(2**getCardin(g)): # for all errors with the support of that generator\n",
    "#                 thisError = np.copy(g)\n",
    "#                 modifyError = list(string_format.format(\"{:b}\".format(errorIndex)))\n",
    "#                 modifyError = list(map(int, modifyError))         \n",
    "#                 thisError[thisError != 0] = (thisError[thisError != 0] + modifyError)%2 # get the error\n",
    "                \n",
    "#                 syndr_new = (syndr + getSyndromeFromError(getGenerator(thisError)))%2 # update to syndrome to check weight\n",
    "                \n",
    "#                 if(getCardin(thisError) == 0): continue\n",
    "#                 thisMetric = (getCardin(syndr) - getCardin(syndr_new))/getCardin(thisError)\n",
    "# #                 print('This syndrome = ' + str(syndr) + ', Syndrome if updated = ' + str(syndr_new) + ', before = ' + str(getCardin(syndr)) + ', after = ' + str(getCardin(syndr_new)) + ', This error = ' + str(thisError))\n",
    "# #                 print('This generator ID = ' + str(generatorInd) + ', This error = ' + str(thisError) + ', thisMetric = ' + str(thisMetric))\n",
    "#                 if(thisMetric > maxMetric):\n",
    "#                     bestError = thisError\n",
    "#                     maxMetric = thisMetric\n",
    "#         print('Max metric = ' + str(maxMetric))\n",
    "#         if(maxMetric != 0):\n",
    "#             finalError = bestError\n",
    "#             syndr = (syndr + getSyndromeFromError(getGenerator(bestError)))%2\n",
    "#         if(maxMetric == 0):\n",
    "#             if(getCardin(syndr) != 0): success = 0\n",
    "#             else: success = 1\n",
    "#             break\n",
    "    \n",
    "#     finalErrorModified = np.zeros(n, dtype=int)\n",
    "#     finalErrorModified[(finalError[:n] == finalError[n:]) & (finalError[n:] == 1)] = 2\n",
    "#     finalErrorModified[(finalError[:n] == 1) & (finalErrorModified != 2)] = 1\n",
    "#     finalErrorModified[(finalError[n:] == 1) & (finalErrorModified != 2)] = 3\n",
    "#     return finalErrorModified.flatten(), success"
   ]
  },
  {
   "cell_type": "code",
   "execution_count": 445,
   "metadata": {},
   "outputs": [],
   "source": [
    "def getCardin(myVector):\n",
    "    return np.sum(myVector != 0)\n",
    "\n",
    "def getErrorFromSyndrome(syndr):\n",
    "    success = 0\n",
    "    finalError = np.zeros(2*errCheckRowModified.shape[0])\n",
    "    while(getCardin(syndr) != 0):\n",
    "        maxMetric = 0\n",
    "        for generatorInd in range(n-k): # for all generators\n",
    "            g = checkMatrix[generatorInd, :] # get the genrator\n",
    "            g_modified = np.zeros(n, dtype=int)\n",
    "            g_modified[(g[:n] == g[n:]) & (g[n:] == 1)] = 2\n",
    "            g_modified[(g[:n] == 1) & (g_modified != 2)] = 1\n",
    "            g_modified[(g[n:] == 1) & (g_modified != 2)] = 3\n",
    "            \n",
    "            string_format = '{:0>' + str(2*getCardin(g_modified)) + '}'\n",
    "            for errorIndex in range(2**(2*getCardin(g_modified))): # for all errors with the support of that generator\n",
    "                if(errorIndex == 0): continue\n",
    "                thisError = np.copy(g_modified)\n",
    "                \n",
    "                modifyError = list(string_format.format(\"{:b}\".format(errorIndex)))\n",
    "                modifyError =  np.asarray(list(map(int, modifyError)) )\n",
    "                \n",
    "                temp_n = getCardin(g_modified)\n",
    "                modifyErrorModified = np.zeros(temp_n, dtype=int)\n",
    "                modifyErrorModified[(modifyError[:temp_n] == modifyError[temp_n:]) & (modifyError[temp_n:] == 1)] = 2\n",
    "                modifyErrorModified[(modifyError[:temp_n] == 1) & (modifyErrorModified != 2)] = 1\n",
    "                modifyErrorModified[(modifyError[temp_n:] == 1) & (modifyErrorModified != 2)] = 3\n",
    "                \n",
    "                thisError[thisError != 0] = modifyErrorModified # get the error\n",
    "                \n",
    "                           \n",
    "                thisError1 = np.copy(thisError)\n",
    "                thisError1[thisError == 1] = 1\n",
    "                thisError1[thisError == 2] = 1\n",
    "                thisError1[thisError == 3] = 0\n",
    "                \n",
    "                thisError2 = np.copy(thisError)\n",
    "                thisError2[thisError == 1] = 0\n",
    "                thisError2[thisError == 2] = 1\n",
    "                thisError2[thisError == 3] = 1\n",
    "                \n",
    "                thisError = np.append(thisError1, thisError2)\n",
    "                \n",
    "                syndr_new = (syndr + getSyndromeFromError(getGenerator(thisError)))%2 # update to syndrome to check weight\n",
    "                thisMetric = (getCardin(syndr) - getCardin(syndr_new))/getCardin(modifyErrorModified) # get the metric\n",
    "                \n",
    "                if(thisMetric > maxMetric):\n",
    "                    bestError = thisError\n",
    "                    maxMetric = thisMetric\n",
    "#                 if(thisMetric == maxMetric):\n",
    "#                     print('Error = ' + str(thisError) + ', |s_i+1| = ' + str(getCardin(syndr_new)) + ', |s_i| = ' + str(getCardin(syndr)) + ', |e| = ' + str(getCardin(thisError)))\n",
    "\n",
    "        if(maxMetric != 0):\n",
    "            finalError = bestError\n",
    "            syndr = (syndr + getSyndromeFromError(getGenerator(bestError)))%2\n",
    "        if(maxMetric == 0):\n",
    "            break        \n",
    "#         print('Max metric = ' + str(maxMetric) + ', Best error = ' + str(bestError) + ', Syndrome = ' + str(syndr))\n",
    "\n",
    "    if(getCardin(syndr) != 0): success = 0\n",
    "    else: success = 1\n",
    "\n",
    "    finalErrorModified = np.zeros(n, dtype=int)\n",
    "    finalErrorModified[(finalError[:n] == finalError[n:]) & (finalError[n:] == 1)] = 2\n",
    "    finalErrorModified[(finalError[:n] == 1) & (finalErrorModified != 2)] = 1\n",
    "    finalErrorModified[(finalError[n:] == 1) & (finalErrorModified != 2)] = 3\n",
    "    return finalErrorModified.flatten(), success"
   ]
  },
  {
   "cell_type": "code",
   "execution_count": 490,
   "metadata": {},
   "outputs": [
    {
     "name": "stdout",
     "output_type": "stream",
     "text": [
      "Error = [0 0 0 1 1]\n",
      "Syndrome = [0 1 0 1]\n",
      " \n",
      " \n",
      "Recovered Error = [0 3 0 0 0]\n",
      "Recovery Success = True\n"
     ]
    }
   ],
   "source": [
    "p_xyz = 0.15 # p_xyz < 1/3\n",
    "p_channel = [1-3*p_xyz, p_xyz, p_xyz, p_xyz] \n",
    "errMatrix = np.random.multinomial(1, p_channel, size=n)\n",
    "\n",
    "errCheckRowModified = errMatrix@np.array([0,1,2,3])\n",
    "channel_error = NKronModified(errCheckRowModified) # channel error\n",
    "print('Error = ' + str(errCheckRowModified))\n",
    "\n",
    "syndr = getSyndromeFromError(channel_error).flatten() # syndrome\n",
    "print('Syndrome = ' + str(syndr))\n",
    "\n",
    "print(' ')\n",
    "recov = getErrorFromSyndrome(syndr) # recovered error\n",
    "print(' ')\n",
    "print('Recovered Error = ' + str(recov[0]))\n",
    "print('Recovery Success = ' + str(recov[1] == 1))"
   ]
  },
  {
   "cell_type": "code",
   "execution_count": null,
   "metadata": {},
   "outputs": [],
   "source": []
  },
  {
   "cell_type": "code",
   "execution_count": 139,
   "metadata": {},
   "outputs": [
    {
     "data": {
      "text/plain": [
       "4"
      ]
     },
     "execution_count": 139,
     "metadata": {},
     "output_type": "execute_result"
    }
   ],
   "source": [
    "n-k"
   ]
  },
  {
   "cell_type": "code",
   "execution_count": null,
   "metadata": {},
   "outputs": [],
   "source": []
  },
  {
   "cell_type": "markdown",
   "metadata": {},
   "source": [
    "## Run the above two functions"
   ]
  },
  {
   "cell_type": "code",
   "execution_count": 117,
   "metadata": {},
   "outputs": [
    {
     "data": {
      "text/plain": [
       "array([[1, 0, 0, 1, 0, 0, 1, 1, 0, 0],\n",
       "       [0, 1, 0, 0, 1, 0, 0, 1, 1, 0],\n",
       "       [1, 0, 1, 0, 0, 0, 0, 0, 1, 1],\n",
       "       [0, 1, 0, 1, 0, 1, 0, 0, 0, 1]])"
      ]
     },
     "execution_count": 117,
     "metadata": {},
     "output_type": "execute_result"
    }
   ],
   "source": [
    "checkMatrix\n"
   ]
  },
  {
   "cell_type": "code",
   "execution_count": null,
   "metadata": {},
   "outputs": [],
   "source": []
  },
  {
   "cell_type": "code",
   "execution_count": 194,
   "metadata": {},
   "outputs": [],
   "source": [
    "\n",
    "\n",
    "# syndrome lookup table\n",
    "# def getErrorFromSyndrome(syndr):\n",
    "#     print('Syndrome before = ' + str(syndr))\n",
    "#     recov = np.zeros(2*errCheckRowModified.shape[0])\n",
    "# #     recov = np.array([0, 1, 0, 1, 0, 0, 0, 1, 1, 0])\n",
    "#     for ind in range(n-k):\n",
    "#         g = checkMatrix[ind,:]\n",
    "#         string_format = '{:0>' + str(getCardin(g)) + '}'\n",
    "        \n",
    "#         maxValue = 0\n",
    "#         for myIndex in range(2**getCardin(g)):\n",
    "#             myError = np.copy(g)\n",
    "\n",
    "#             flipArray = list(string_format.format(\"{:b}\".format(myIndex)))\n",
    "#             flipArray = list(map(int, flipArray))\n",
    "\n",
    "#             myError[myError != 0] = (myError[myError != 0] + flipArray)%2\n",
    "\n",
    "#             syndri = (syndr + getSyndromeFromError(getGenerator(myError)))%2\n",
    "            \n",
    "#             thisValue = (getCardin(syndr) - getCardin(syndri))/getCardin(myError)\n",
    "#             if(thisValue > maxValue):\n",
    "#                 maxError = myError\n",
    "#                 maxValue = thisValue\n",
    "#         print(ind)        \n",
    "#         if(maxValue != 0):\n",
    "#             print('Max error = ' + str(maxError))\n",
    "#             print('Syndrome of error = ' + str(getSyndromeFromError(getGenerator(maxError))))\n",
    "#             print('Old syndrome = ' + str(syndr))\n",
    "#             syndr = (syndr + getSyndromeFromError(getGenerator(maxError)))%2\n",
    "#             print('New syndrome = ' + str(syndr))\n",
    "#             recov = (recov + maxError)%2\n",
    "# #         elif(getCardin(syndr) == 0):\n",
    "# #             success = 1\n",
    "# #             break\n",
    "    \n",
    "#     print('Syndrome after = ' + str(syndr))\n",
    "#     recovModified = np.zeros(n, dtype=int)\n",
    "#     recovModified[(recov[:n] == recov[n:]) & (recov[n:] == 1)] = 2\n",
    "#     recovModified[(recov[:n] == 1) & (recovModified != 2)] = 1\n",
    "#     recovModified[(recov[n:] == 1) & (recovModified != 2)] = 3\n",
    "#     return recovModified.flatten()"
   ]
  },
  {
   "cell_type": "code",
   "execution_count": 195,
   "metadata": {},
   "outputs": [],
   "source": [
    "# # syndrome lookup table\n",
    "# def getErrorFromSyndrome(syndr):\n",
    "#     print(syndr)\n",
    "#     recov = np.zeros(2*errCheckRowModified.shape[0])\n",
    "# #     recov = np.array([0, 1, 0, 1, 0, 0, 0, 1, 1, 0])\n",
    "#     for ind in range(n-k):\n",
    "#         g = checkMatrix[ind,:]\n",
    "#         string_format = '{:0>' + str(getCardin(g)) + '}'\n",
    "        \n",
    "#         maxValue = 0\n",
    "#         for myIndex in range(2**getCardin(g)):\n",
    "#             myError = np.copy(g)\n",
    "\n",
    "#             flipArray = list(string_format.format(\"{:b}\".format(myIndex)))\n",
    "#             flipArray = list(map(int, flipArray))\n",
    "\n",
    "#             myError[myError != 0] = (myError[myError != 0] + flipArray)%2\n",
    "\n",
    "#             syndri = (syndr + getSyndromeFromError(getGenerator(myError)))%2\n",
    "            \n",
    "#             thisValue = (getCardin(syndr) - getCardin(syndri))/getCardin(myError)\n",
    "#             if(thisValue > maxValue):\n",
    "#                 maxError = myError\n",
    "#                 maxValue = thisValue\n",
    "#         print(' ')        \n",
    "#         if(maxValue != 0):\n",
    "#             print('Max error = ' + str(maxError))\n",
    "#             print('Syndrome of error = ' + str(getSyndromeFromError(getGenerator(maxError))))\n",
    "#             print('Old syndrome = ' + str(syndr))\n",
    "#             syndr = (syndr + getSyndromeFromError(getGenerator(maxError)))%2\n",
    "#             print('New syndrome = ' + str(syndr))\n",
    "#             recov = (recov + maxError)%2\n",
    "#         if(getCardin(syndr) == 0):\n",
    "#             break\n",
    "    \n",
    "#     print(syndr)\n",
    "#     recovModified = np.zeros(n, dtype=int)\n",
    "#     recovModified[(recov[:n] == recov[n:]) & (recov[n:] == 1)] = 2\n",
    "#     recovModified[(recov[:n] == 1) & (recovModified != 2)] = 1\n",
    "#     recovModified[(recov[n:] == 1) & (recovModified != 2)] = 3\n",
    "#     return recovModified.flatten()"
   ]
  }
 ],
 "metadata": {
  "kernelspec": {
   "display_name": "Python 3",
   "language": "python",
   "name": "python3"
  },
  "language_info": {
   "codemirror_mode": {
    "name": "ipython",
    "version": 3
   },
   "file_extension": ".py",
   "mimetype": "text/x-python",
   "name": "python",
   "nbconvert_exporter": "python",
   "pygments_lexer": "ipython3",
   "version": "3.6.8"
  }
 },
 "nbformat": 4,
 "nbformat_minor": 2
}
