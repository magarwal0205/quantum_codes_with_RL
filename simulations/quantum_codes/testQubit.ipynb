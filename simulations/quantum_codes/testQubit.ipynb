{
 "cells": [
  {
   "cell_type": "code",
   "execution_count": 1,
   "metadata": {},
   "outputs": [],
   "source": [
    "import numpy as np\n",
    "import scipy as sp\n",
    "import scipy.linalg"
   ]
  },
  {
   "cell_type": "markdown",
   "metadata": {},
   "source": [
    "## |0> and |1>"
   ]
  },
  {
   "cell_type": "code",
   "execution_count": 2,
   "metadata": {},
   "outputs": [
    {
     "data": {
      "text/plain": [
       "array([[1.],\n",
       "       [0.]])"
      ]
     },
     "execution_count": 2,
     "metadata": {},
     "output_type": "execute_result"
    }
   ],
   "source": [
    "Zero = np.array([[1.0], [0.0]]) # |0>\n",
    "One = np.array([[0.0], [1.0]]) # |1>\n",
    "Zero"
   ]
  },
  {
   "cell_type": "markdown",
   "metadata": {},
   "source": [
    "## |+> or (|0> + |1>)/sqrt(2)"
   ]
  },
  {
   "cell_type": "code",
   "execution_count": 3,
   "metadata": {},
   "outputs": [
    {
     "data": {
      "text/plain": [
       "array([[0.70710678],\n",
       "       [0.70710678]])"
      ]
     },
     "execution_count": 3,
     "metadata": {},
     "output_type": "execute_result"
    }
   ],
   "source": [
    "NormalizeState = lambda state: state / sp.linalg.norm(state)\n",
    "Plus = NormalizeState(Zero + One) # |+> or (|0> + |1>)/sqrt(2)\n",
    "Plus"
   ]
  },
  {
   "cell_type": "markdown",
   "metadata": {},
   "source": [
    "## |00>"
   ]
  },
  {
   "cell_type": "code",
   "execution_count": 4,
   "metadata": {},
   "outputs": [
    {
     "data": {
      "text/plain": [
       "array([[1.],\n",
       "       [0.],\n",
       "       [0.],\n",
       "       [0.]])"
      ]
     },
     "execution_count": 4,
     "metadata": {},
     "output_type": "execute_result"
    }
   ],
   "source": [
    "ZeroZero = np.kron(Zero, Zero) # |00>\n",
    "ZeroZero"
   ]
  },
  {
   "cell_type": "markdown",
   "metadata": {},
   "source": [
    "## |101>"
   ]
  },
  {
   "cell_type": "code",
   "execution_count": 5,
   "metadata": {},
   "outputs": [],
   "source": [
    "def NKron(*args):\n",
    "  \"\"\"Calculate a Kronecker product over a variable number of inputs\"\"\"\n",
    "  result = np.array([[1.0]])\n",
    "  for op in args:\n",
    "    result = np.kron(result, op)\n",
    "  return result"
   ]
  },
  {
   "cell_type": "code",
   "execution_count": 6,
   "metadata": {},
   "outputs": [
    {
     "data": {
      "text/plain": [
       "array([[0.],\n",
       "       [0.],\n",
       "       [0.],\n",
       "       [0.],\n",
       "       [0.],\n",
       "       [1.],\n",
       "       [0.],\n",
       "       [0.]])"
      ]
     },
     "execution_count": 6,
     "metadata": {},
     "output_type": "execute_result"
    }
   ],
   "source": [
    "ThreeQubitState = NKron(One, Zero, One) # |101>\n",
    "ThreeQubitState"
   ]
  },
  {
   "cell_type": "markdown",
   "metadata": {},
   "source": [
    "## Operations on multi qubit: H * I * I"
   ]
  },
  {
   "cell_type": "code",
   "execution_count": 7,
   "metadata": {},
   "outputs": [
    {
     "data": {
      "text/plain": [
       "array([[ 0.70710678,  0.        ,  0.        ,  0.        ,  0.70710678,\n",
       "         0.        ,  0.        ,  0.        ],\n",
       "       [ 0.        ,  0.70710678,  0.        ,  0.        ,  0.        ,\n",
       "         0.70710678,  0.        ,  0.        ],\n",
       "       [ 0.        ,  0.        ,  0.70710678,  0.        ,  0.        ,\n",
       "         0.        ,  0.70710678,  0.        ],\n",
       "       [ 0.        ,  0.        ,  0.        ,  0.70710678,  0.        ,\n",
       "         0.        ,  0.        ,  0.70710678],\n",
       "       [ 0.70710678,  0.        ,  0.        ,  0.        , -0.70710678,\n",
       "        -0.        , -0.        , -0.        ],\n",
       "       [ 0.        ,  0.70710678,  0.        ,  0.        , -0.        ,\n",
       "        -0.70710678, -0.        , -0.        ],\n",
       "       [ 0.        ,  0.        ,  0.70710678,  0.        , -0.        ,\n",
       "        -0.        , -0.70710678, -0.        ],\n",
       "       [ 0.        ,  0.        ,  0.        ,  0.70710678, -0.        ,\n",
       "        -0.        , -0.        , -0.70710678]])"
      ]
     },
     "execution_count": 7,
     "metadata": {},
     "output_type": "execute_result"
    }
   ],
   "source": [
    "Id = np.eye(2)\n",
    "Hadamard = 1./np.sqrt(2) * np.array([[1, 1],\n",
    "                                     [1, -1]])\n",
    "HadamardZeroOnThree = NKron(Hadamard, Id, Id)\n",
    "HadamardZeroOnThree"
   ]
  },
  {
   "cell_type": "markdown",
   "metadata": {},
   "source": [
    "## H * I * I * |101>"
   ]
  },
  {
   "cell_type": "code",
   "execution_count": 8,
   "metadata": {},
   "outputs": [
    {
     "data": {
      "text/plain": [
       "array([[ 0.        ],\n",
       "       [ 0.70710678],\n",
       "       [ 0.        ],\n",
       "       [ 0.        ],\n",
       "       [ 0.        ],\n",
       "       [-0.70710678],\n",
       "       [ 0.        ],\n",
       "       [ 0.        ]])"
      ]
     },
     "execution_count": 8,
     "metadata": {},
     "output_type": "execute_result"
    }
   ],
   "source": [
    "NewState = np.dot(HadamardZeroOnThree, ThreeQubitState)\n",
    "NewState"
   ]
  }
 ],
 "metadata": {
  "kernelspec": {
   "display_name": "Python 3",
   "language": "python",
   "name": "python3"
  },
  "language_info": {
   "codemirror_mode": {
    "name": "ipython",
    "version": 3
   },
   "file_extension": ".py",
   "mimetype": "text/x-python",
   "name": "python",
   "nbconvert_exporter": "python",
   "pygments_lexer": "ipython3",
   "version": "3.7.3"
  }
 },
 "nbformat": 4,
 "nbformat_minor": 2
}
