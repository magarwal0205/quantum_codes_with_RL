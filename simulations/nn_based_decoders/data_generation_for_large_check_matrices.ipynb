{
 "cells": [
  {
   "cell_type": "code",
   "execution_count": 1,
   "metadata": {},
   "outputs": [],
   "source": [
    "import numpy as np\n",
    "import scipy as sp\n",
    "import scipy.linalg\n",
    "# import panda as pd"
   ]
  },
  {
   "cell_type": "markdown",
   "metadata": {},
   "source": [
    "## Basic function definitions"
   ]
  },
  {
   "cell_type": "code",
   "execution_count": 2,
   "metadata": {},
   "outputs": [],
   "source": [
    "n = 5\n",
    "k = 1\n",
    "tot_samples = 10\n",
    "p_xyz = 0.15"
   ]
  },
  {
   "cell_type": "code",
   "execution_count": 3,
   "metadata": {},
   "outputs": [],
   "source": [
    "def NKron(*args):\n",
    "  result = np.array([[1.0]])\n",
    "  for op in args:\n",
    "    result = np.kron(result, op)\n",
    "  return result"
   ]
  },
  {
   "cell_type": "code",
   "execution_count": 4,
   "metadata": {},
   "outputs": [],
   "source": [
    "Id = np.eye(2)\n",
    "X = np.array([[0.0, 1.0],[1.0, 0.0]])\n",
    "Z = np.array([[1.0, 0.0],[0.0, -1.0]])\n",
    "Y = np.matmul(X,Z)"
   ]
  },
  {
   "cell_type": "code",
   "execution_count": 5,
   "metadata": {},
   "outputs": [],
   "source": [
    "# NormalizeState = lambda state: state / sp.linalg.norm(state)\n",
    "def NormalizeState(ipVal):\n",
    "    if(sp.linalg.norm(ipVal) == 0): return ipVal\n",
    "    else : return ipVal / sp.linalg.norm(ipVal)\n",
    "zero = np.array([[1.0], [0.0]]) # |0>\n",
    "one = np.array([[0.0], [1.0]]) # |1>"
   ]
  },
  {
   "cell_type": "code",
   "execution_count": 6,
   "metadata": {},
   "outputs": [],
   "source": [
    "def NKronModified(checkRowMod):\n",
    "  result = np.array([[1.0]])\n",
    "  for ind in checkRowMod:\n",
    "    if(ind == 0):\n",
    "        op = Id\n",
    "    elif(ind == 1):\n",
    "        op = X\n",
    "    elif(ind == 2):\n",
    "        op = Y\n",
    "    elif(ind == 3):\n",
    "        op = Z\n",
    "    result = np.kron(result, op)\n",
    "  return result\n",
    "\n",
    "def getGenerator(checkRow):\n",
    "    checkRowModified = np.zeros(n, dtype=int)\n",
    "    \n",
    "    checkRowModified[(checkRow[:n] == checkRow[n:]) & (checkRow[n:] == 1)] = 2\n",
    "    checkRowModified[(checkRow[:n] == 1) & (checkRowModified != 2)] = 1\n",
    "    checkRowModified[(checkRow[n:] == 1) & (checkRowModified != 2)] = 3\n",
    "    \n",
    "    return NKronModified(checkRowModified)\n",
    "\n",
    "def get_gi(i):\n",
    "    return getGenerator(checkMatrix[i,:])"
   ]
  },
  {
   "cell_type": "markdown",
   "metadata": {},
   "source": [
    "## Check matrix"
   ]
  },
  {
   "cell_type": "code",
   "execution_count": 7,
   "metadata": {},
   "outputs": [],
   "source": [
    "checkMatrix = np.array([[0,0,0,1,1,1,1, 0,0,0,0,0,0,0],\n",
    "                        [0,1,1,0,0,1,1, 0,0,0,0,0,0,0],\n",
    "                        [1,0,1,0,1,0,1, 0,0,0,0,0,0,0],\n",
    "                        [0,0,0,0,0,0,0, 0,0,0,1,1,1,1],\n",
    "                        [0,0,0,0,0,0,0, 0,1,1,0,0,1,1],\n",
    "                        [0,0,0,0,0,0,0, 1,0,1,0,1,0,1]])\n",
    "\n",
    "n = int(checkMatrix.shape[1]/2)\n",
    "k = n-checkMatrix.shape[0]"
   ]
  },
  {
   "cell_type": "markdown",
   "metadata": {},
   "source": [
    "## G matrix"
   ]
  },
  {
   "cell_type": "code",
   "execution_count": 8,
   "metadata": {},
   "outputs": [],
   "source": [
    "Gmatrix = np.eye(2**n, 2**n) # generator matrix corresponding to this code\n",
    "for i in range(n-k):\n",
    "    Gmatrix = Gmatrix + np.matmul(get_gi(i), Gmatrix)\n",
    "Gmatrix = np.round(Gmatrix)"
   ]
  },
  {
   "cell_type": "markdown",
   "metadata": {},
   "source": [
    "## Non-zero unique columns"
   ]
  },
  {
   "cell_type": "code",
   "execution_count": 9,
   "metadata": {},
   "outputs": [],
   "source": [
    "# get boolean array if the columns are zero or not\n",
    "zeroCols = np.zeros(Gmatrix.shape[1])\n",
    "for i in range(Gmatrix.shape[1]):\n",
    "    zeroCols[i] = all(Gmatrix[:,i] == np.zeros(Gmatrix.shape[0]))\n",
    "\n",
    "# get indices of non-zero columns\n",
    "nonZeroColsList = np.argwhere(zeroCols==0).flatten()\n",
    "\n",
    "# get all non zero columns\n",
    "GmatrixNonZero = np.zeros([Gmatrix.shape[0], nonZeroColsList.shape[0]])\n",
    "i = 0\n",
    "for ind in nonZeroColsList:\n",
    "    GmatrixNonZero[:,i] = Gmatrix[:,ind]\n",
    "    i = i+1\n",
    "\n",
    "# get all non zero and unique columns and there indices\n",
    "GmatrixNonZeroUniqueInd, nonZeroUniqueInd = np.unique(GmatrixNonZero, axis = 1, return_index=True)\n",
    "nonZeroUniqueInd = nonZeroColsList[nonZeroUniqueInd]"
   ]
  },
  {
   "cell_type": "markdown",
   "metadata": {},
   "source": [
    "## Encoder"
   ]
  },
  {
   "cell_type": "code",
   "execution_count": 10,
   "metadata": {},
   "outputs": [],
   "source": [
    "def encode_qbits(qbits):\n",
    "    # get extended qbits corresponding to non-zero column indices of G matrix\n",
    "    encoded = np.zeros(2**n)\n",
    "    i = 0\n",
    "    for nonZeroIndex in np.sort(nonZeroUniqueInd):\n",
    "        if(i>=2**k):\n",
    "            break\n",
    "        encoded[nonZeroIndex] = qbits[i]\n",
    "        i = i+1\n",
    "    encoded = NormalizeState(encoded)\n",
    "\n",
    "    # encode transmit qbits using generators\n",
    "    for i in range(n-k):\n",
    "        encoded = encoded + np.matmul(get_gi(i), encoded)\n",
    "    encoded = NormalizeState(encoded)\n",
    "    \n",
    "    return encoded"
   ]
  },
  {
   "cell_type": "markdown",
   "metadata": {},
   "source": [
    "## Channel"
   ]
  },
  {
   "cell_type": "code",
   "execution_count": 11,
   "metadata": {},
   "outputs": [],
   "source": [
    "def depolarizing_channel(input_qbits):\n",
    "    p_channel = [1-3*p_xyz, p_xyz, p_xyz, p_xyz] \n",
    "    errMatrix = np.random.multinomial(1, p_channel, size=n)\n",
    "    error_vector = errMatrix@np.array([0,1,2,3])\n",
    "    channel_error = NKronModified(error_vector)\n",
    "    \n",
    "    output_qbits = np.dot(channel_error, input_qbits)\n",
    "    \n",
    "    return output_qbits, error_vector.flatten()"
   ]
  },
  {
   "cell_type": "markdown",
   "metadata": {},
   "source": [
    "## Syndrome check"
   ]
  },
  {
   "cell_type": "code",
   "execution_count": 12,
   "metadata": {},
   "outputs": [],
   "source": [
    "def get_syndrome(input_qbits):\n",
    "    syndr = np.zeros(n-k)\n",
    "    for i in range(n-k):\n",
    "        syndr[i] = np.dot(input_qbits.transpose(), np.dot(get_gi(i), input_qbits))\n",
    "    syndr = syndr.flatten() \n",
    "    \n",
    "    return syndr"
   ]
  },
  {
   "cell_type": "markdown",
   "metadata": {},
   "source": [
    "## Generate data"
   ]
  },
  {
   "cell_type": "code",
   "execution_count": 13,
   "metadata": {},
   "outputs": [],
   "source": [
    "syndrome_col = np.zeros([tot_samples, n-k])\n",
    "error_col = np.zeros([tot_samples, n])\n",
    "\n",
    "for i_sample in range(tot_samples):\n",
    "    \n",
    "    # generate qbits randomly\n",
    "    tx_qbits = np.random.rand(2**k)\n",
    "    tx_qbits = NormalizeState(tx_qbits)\n",
    "    \n",
    "    # encode qbits\n",
    "    tx_encoded = encode_qbits(tx_qbits)\n",
    "    \n",
    "    # channel\n",
    "    rx_erry, error_vector = depolarizing_channel(tx_encoded)\n",
    "    \n",
    "    # syndrome\n",
    "    syndr = get_syndrome(rx_erry)\n",
    "    \n",
    "    # fill columns\n",
    "    syndrome_col[i_sample, :] = syndr\n",
    "    error_col[i_sample, :] = error_vector"
   ]
  },
  {
   "cell_type": "code",
   "execution_count": 14,
   "metadata": {},
   "outputs": [
    {
     "data": {
      "text/plain": [
       "array([[-1.,  1.,  1.,  1., -1., -1.],\n",
       "       [ 1., -1.,  1., -1.,  1., -1.],\n",
       "       [-1.,  1.,  1.,  1.,  1., -1.],\n",
       "       [-1.,  1.,  1., -1., -1.,  1.],\n",
       "       [-1., -1., -1., -1., -1., -1.],\n",
       "       [ 1.,  1.,  1., -1., -1.,  1.],\n",
       "       [ 1., -1.,  1., -1.,  1.,  1.],\n",
       "       [-1.,  1.,  1., -1.,  1.,  1.],\n",
       "       [ 1., -1., -1.,  1.,  1.,  1.],\n",
       "       [ 1., -1.,  1., -1., -1., -1.]])"
      ]
     },
     "execution_count": 14,
     "metadata": {},
     "output_type": "execute_result"
    }
   ],
   "source": [
    "syndrome_col"
   ]
  },
  {
   "cell_type": "code",
   "execution_count": 15,
   "metadata": {},
   "outputs": [
    {
     "data": {
      "text/plain": [
       "array([[2., 3., 0., 2., 3., 2., 0.],\n",
       "       [1., 2., 0., 0., 0., 1., 0.],\n",
       "       [0., 0., 0., 2., 1., 0., 0.],\n",
       "       [2., 3., 2., 2., 0., 0., 0.],\n",
       "       [0., 0., 0., 0., 0., 0., 2.],\n",
       "       [2., 0., 2., 2., 0., 3., 0.],\n",
       "       [3., 0., 0., 0., 2., 2., 1.],\n",
       "       [0., 1., 3., 0., 0., 1., 3.],\n",
       "       [2., 0., 2., 0., 1., 3., 2.],\n",
       "       [1., 3., 0., 0., 0., 1., 0.]])"
      ]
     },
     "execution_count": 15,
     "metadata": {},
     "output_type": "execute_result"
    }
   ],
   "source": [
    "error_col"
   ]
  },
  {
   "cell_type": "code",
   "execution_count": null,
   "metadata": {},
   "outputs": [],
   "source": []
  }
 ],
 "metadata": {
  "kernelspec": {
   "display_name": "Python 3",
   "language": "python",
   "name": "python3"
  },
  "language_info": {
   "codemirror_mode": {
    "name": "ipython",
    "version": 3
   },
   "file_extension": ".py",
   "mimetype": "text/x-python",
   "name": "python",
   "nbconvert_exporter": "python",
   "pygments_lexer": "ipython3",
   "version": "3.6.8"
  }
 },
 "nbformat": 4,
 "nbformat_minor": 2
}
