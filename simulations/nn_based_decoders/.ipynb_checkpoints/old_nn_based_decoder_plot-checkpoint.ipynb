{
 "cells": [
  {
   "cell_type": "code",
   "execution_count": 1,
   "metadata": {},
   "outputs": [],
   "source": [
    "import numpy as np\n",
    "import scipy as sp\n",
    "import scipy.linalg\n",
    "import cvxpy as cp\n",
    "import matplotlib.pyplot as plt\n",
    "import random\n",
    "import math\n",
    "import sys"
   ]
  },
  {
   "cell_type": "markdown",
   "metadata": {},
   "source": [
    "## Function definitions"
   ]
  },
  {
   "cell_type": "code",
   "execution_count": 2,
   "metadata": {},
   "outputs": [],
   "source": [
    "Id = np.eye(2)\n",
    "X = np.array([[0.0, 1.0],[1.0, 0.0]])\n",
    "Z = np.array([[1.0, 0.0],[0.0, -1.0]])\n",
    "Y = np.matmul(X,Z)\n",
    "\n",
    "zero = np.array([[1.0], [0.0]]) # |0>\n",
    "one = np.array([[0.0], [1.0]]) # |1>"
   ]
  },
  {
   "cell_type": "markdown",
   "metadata": {},
   "source": [
    "#### Get generator"
   ]
  },
  {
   "cell_type": "code",
   "execution_count": 3,
   "metadata": {},
   "outputs": [],
   "source": [
    "def NormalizeState(ipVal):\n",
    "    if(sp.linalg.norm(ipVal) == 0): return ipVal\n",
    "    else : return ipVal / sp.linalg.norm(ipVal)\n",
    "    \n",
    "def NKron(*args):\n",
    "  result = np.array([[1.0]])\n",
    "  for op in args:\n",
    "    result = np.kron(result, op)\n",
    "  return result\n",
    "    \n",
    "def NKronModified(checkRowMod):\n",
    "  result = np.array([[1.0]])\n",
    "  for ind in checkRowMod:\n",
    "    if(ind == 0):\n",
    "        op = Id\n",
    "    elif(ind == 1):\n",
    "        op = X\n",
    "    elif(ind == 2):\n",
    "        op = Y\n",
    "    elif(ind == 3):\n",
    "        op = Z\n",
    "    result = np.kron(result, op)\n",
    "  return result\n",
    "\n",
    "def getGenerator(checkRow):\n",
    "    checkRowModified = np.zeros(n, dtype=int)\n",
    "    \n",
    "    checkRowModified[(checkRow[:n] == checkRow[n:]) & (checkRow[n:] == 1)] = 2\n",
    "    checkRowModified[(checkRow[:n] == 1) & (checkRowModified != 2)] = 1\n",
    "    checkRowModified[(checkRow[n:] == 1) & (checkRowModified != 2)] = 3\n",
    "    \n",
    "    return NKronModified(checkRowModified)  "
   ]
  },
  {
   "cell_type": "markdown",
   "metadata": {},
   "source": [
    "#### Encoder"
   ]
  },
  {
   "cell_type": "code",
   "execution_count": 4,
   "metadata": {},
   "outputs": [],
   "source": [
    "def encode_qbits(qbits):\n",
    "    # get extended qbits corresponding to non-zero column indices of G matrix\n",
    "    encoded = np.zeros(2**n)\n",
    "    i = 0\n",
    "    for nonZeroIndex in np.sort(nonZeroUniqueInd):\n",
    "        if(i>=2**k):\n",
    "            break\n",
    "        encoded[nonZeroIndex] = qbits[i]\n",
    "        i = i+1\n",
    "    encoded = NormalizeState(encoded)\n",
    "\n",
    "    # encode transmit qbits using generators\n",
    "    for i in range(n-k):\n",
    "        encoded = encoded + np.matmul(gi[i,:,:], encoded)\n",
    "    encoded = NormalizeState(encoded)\n",
    "    \n",
    "    return encoded"
   ]
  },
  {
   "cell_type": "markdown",
   "metadata": {},
   "source": [
    "#### Channel"
   ]
  },
  {
   "cell_type": "code",
   "execution_count": 5,
   "metadata": {},
   "outputs": [],
   "source": [
    "def depolarizing_channel(input_qbits):\n",
    "    p_channel = [1-3*p_xyz, p_xyz, p_xyz, p_xyz] \n",
    "    errMatrix = np.random.multinomial(1, p_channel, size=n)\n",
    "    error_vector = errMatrix@np.array([0,1,2,3])\n",
    "    channel_error = NKronModified(error_vector)\n",
    "    \n",
    "    output_qbits = np.dot(channel_error, input_qbits)\n",
    "    \n",
    "    error_vector = np.append(error_vector.reshape([n,1]), np.zeros([n,1]), axis=1)\n",
    "    \n",
    "    error_vector[error_vector[:,0] == 1, 1] = 1\n",
    "    error_vector[error_vector[:,0] == 3, 1] = 1\n",
    "    error_vector[error_vector[:,0] == 1, 0] = 0\n",
    "    error_vector[error_vector[:,0] == 2, 0] = 1\n",
    "    error_vector[error_vector[:,0] == 3, 0] = 1\n",
    "    \n",
    "    return output_qbits, error_vector.flatten()"
   ]
  },
  {
   "cell_type": "markdown",
   "metadata": {},
   "source": [
    "#### Syndrome check"
   ]
  },
  {
   "cell_type": "code",
   "execution_count": 6,
   "metadata": {},
   "outputs": [],
   "source": [
    "def get_syndrome(input_qbits):\n",
    "    syndr = np.zeros(n-k)\n",
    "    for i in range(n-k):\n",
    "        syndr[i] = np.dot(input_qbits.transpose(), np.dot(gi[i,:,:], input_qbits))\n",
    "    syndr = syndr.flatten() \n",
    "    \n",
    "    syndr[syndr>0] = 0\n",
    "    syndr[syndr<0] = 1    \n",
    "    \n",
    "    return syndr"
   ]
  },
  {
   "cell_type": "markdown",
   "metadata": {},
   "source": [
    "#### Generate data"
   ]
  },
  {
   "cell_type": "code",
   "execution_count": 7,
   "metadata": {},
   "outputs": [],
   "source": [
    "def generate_data(savefile_bool):\n",
    "\n",
    "    syndrome_col = np.zeros([tot_samples, n-k])\n",
    "    error_col = np.zeros([tot_samples, 2*n])\n",
    "\n",
    "    for i_sample in range(tot_samples):\n",
    "        # generate qbits randomly\n",
    "        tx_qbits = np.random.rand(2**k)\n",
    "        tx_qbits = NormalizeState(tx_qbits)\n",
    "\n",
    "        # encode qbits\n",
    "        tx_encoded = encode_qbits(tx_qbits)\n",
    "\n",
    "        # channel\n",
    "        rx_erry, error_vector = depolarizing_channel(tx_encoded)\n",
    "\n",
    "        # syndrome\n",
    "        syndr = get_syndrome(rx_erry)\n",
    "\n",
    "        # fill columns\n",
    "        syndrome_col[i_sample, :] = syndr\n",
    "        error_col[i_sample, :] = error_vector\n",
    "        \n",
    "        if(savefile_bool):\n",
    "            savefile_name = 'data_' + str(n) + ',' + str(k) + '_tot_samples_'+ str(tot_samples) + '_p_' + str(p_xyz)\n",
    "            savefile_name_syndr = savefile_name + '_syndr.csv'\n",
    "            savefile_name_error = savefile_name + '_error.csv'\n",
    "\n",
    "            np.savetxt(savefile_name_syndr, syndrome_col, delimiter=\",\")\n",
    "            np.savetxt(savefile_name_error, error_col, delimiter=\",\")\n",
    "\n",
    "            print('Saved files:')\n",
    "            print(savefile_name_syndr)\n",
    "            print(savefile_name_error)\n",
    "        \n",
    "    return syndrome_col, error_col"
   ]
  },
  {
   "cell_type": "markdown",
   "metadata": {},
   "source": [
    "## Define Generators"
   ]
  },
  {
   "cell_type": "code",
   "execution_count": 25,
   "metadata": {},
   "outputs": [],
   "source": [
    "checkMatrix = np.array([[0,0,0,1,1,1,1, 0,0,0,0,0,0,0],\n",
    "                        [0,1,1,0,0,1,1, 0,0,0,0,0,0,0],\n",
    "                        [1,0,1,0,1,0,1, 0,0,0,0,0,0,0],\n",
    "                        [0,0,0,0,0,0,0, 0,0,0,1,1,1,1],\n",
    "                        [0,0,0,0,0,0,0, 0,1,1,0,0,1,1],\n",
    "                        [0,0,0,0,0,0,0, 1,0,1,0,1,0,1]])\n",
    "\n",
    "# checkMatrix = np.array([[1,0,0,1,0, 0,1,1,0,0],\n",
    "#                         [0,1,0,0,1, 0,0,1,1,0],\n",
    "#                         [1,0,1,0,0, 0,0,0,1,1],\n",
    "#                         [0,1,0,1,0, 1,0,0,0,1]])\n",
    "\n",
    "n = int(checkMatrix.shape[1]/2)\n",
    "k = n-checkMatrix.shape[0]\n",
    "\n",
    "gi = np.zeros([n-k, 2**n, 2**n])\n",
    "for i in range(n-k):\n",
    "    gi[i,:,:] = getGenerator(checkMatrix[i,:])\n",
    "\n",
    "########## G Matrix ##########\n",
    "Gmatrix = np.eye(gi[0,:,:].shape[0], gi[0,:,:].shape[1]) # generator matrix corresponding to this code\n",
    "for i in range(n-k):\n",
    "    Gmatrix = Gmatrix + np.matmul(gi[i,:,:], Gmatrix)\n",
    "Gmatrix = np.round(Gmatrix)\n",
    "\n",
    "########## Non-zero unique columns ##########\n",
    "# get boolean array if the columns are zero or not\n",
    "zeroCols = np.zeros(Gmatrix.shape[1])\n",
    "for i in range(Gmatrix.shape[1]):\n",
    "    zeroCols[i] = all(Gmatrix[:,i] == np.zeros(Gmatrix.shape[0]))\n",
    "\n",
    "# get indices of non-zero columns\n",
    "nonZeroColsList = np.argwhere(zeroCols==0).flatten()\n",
    "\n",
    "# get all non zero columns\n",
    "GmatrixNonZero = np.zeros([Gmatrix.shape[0], nonZeroColsList.shape[0]])\n",
    "i = 0\n",
    "for ind in nonZeroColsList:\n",
    "    GmatrixNonZero[:,i] = Gmatrix[:,ind]\n",
    "    i = i+1\n",
    "\n",
    "# get all non zero and unique columns and there indices\n",
    "GmatrixNonZeroUniqueInd, nonZeroUniqueInd = np.unique(GmatrixNonZero, axis = 1, return_index=True)\n",
    "nonZeroUniqueInd = nonZeroColsList[nonZeroUniqueInd]"
   ]
  },
  {
   "cell_type": "code",
   "execution_count": 26,
   "metadata": {},
   "outputs": [],
   "source": [
    "from keras.models import Sequential\n",
    "from keras.layers import Dense, Activation, BatchNormalization\n",
    "from sklearn.model_selection import train_test_split\n",
    "from keras.optimizers import Adam"
   ]
  },
  {
   "cell_type": "markdown",
   "metadata": {},
   "source": [
    "## Get data"
   ]
  },
  {
   "cell_type": "code",
   "execution_count": 27,
   "metadata": {},
   "outputs": [],
   "source": [
    "def build_decoder(tot_layers, hidden_dim, hidden_actvn, output_actvn, loss_func, optimizer, metrics):\n",
    "    model = Sequential()\n",
    "    \n",
    "    model.add(Dense(hidden_dim, activation=hidden_actvn, input_shape=(n-k,), name = 'layer_0'))\n",
    "    for layers in range(tot_layers-1):\n",
    "        model.add(Dense(hidden_dim, activation=hidden_actvn, name = 'layer_' + str(layers+1)))\n",
    "        model.add(BatchNormalization(name='normalize_'+str(layers+1), trainable=True))\n",
    "    model.add(Dense(2*n, activation=output_actvn, name = 'output_layer'))\n",
    "    \n",
    "    model.compile(loss=loss_func, optimizer=optimizer, metrics=metrics)\n",
    "    \n",
    "    return model"
   ]
  },
  {
   "cell_type": "code",
   "execution_count": 28,
   "metadata": {},
   "outputs": [],
   "source": [
    "def train_model(p_xyz, tot_samples, tot_layers, hidden_dim, hidden_actvn, output_actvn, loss_func, optimizer, metrics, verbose_bool):\n",
    "    syndromes, errors = generate_data(savefile_bool = False)\n",
    "    X_train = syndromes\n",
    "    y_train = errors\n",
    "    \n",
    "    # process data for argmax P(e/s)\n",
    "\n",
    "    X_train_unique = np.unique(X_train, axis=0)\n",
    "    y_train_unique = np.zeros([X_train_unique.shape[0], y_train.shape[1]])\n",
    "\n",
    "    temp_ind = 0\n",
    "    for train_sample in X_train_unique:\n",
    "        temp_error_list = y_train[np.all(X_train == train_sample, axis=1)]  \n",
    "        temp_error_list_unique, counts = np.unique(temp_error_list, axis=0, return_counts=True)\n",
    "        y_train_unique[temp_ind] = temp_error_list_unique[counts == max(counts)][0,:].flatten()\n",
    "        temp_ind = temp_ind + 1\n",
    "\n",
    "    model = build_decoder(tot_layers, hidden_dim, hidden_actvn, output_actvn, loss_func, optimizer, metrics)\n",
    "    model.fit(X_train_unique, y_train_unique, epochs=500, verbose=verbose_bool)\n",
    "    \n",
    "    return model"
   ]
  },
  {
   "cell_type": "code",
   "execution_count": 29,
   "metadata": {},
   "outputs": [
    {
     "name": "stdout",
     "output_type": "stream",
     "text": [
      "_________________________________________________________________\n",
      "Layer (type)                 Output Shape              Param #   \n",
      "=================================================================\n",
      "layer_0 (Dense)              (None, 100)               700       \n",
      "_________________________________________________________________\n",
      "layer_1 (Dense)              (None, 100)               10100     \n",
      "_________________________________________________________________\n",
      "normalize_1 (BatchNormalizat (None, 100)               400       \n",
      "_________________________________________________________________\n",
      "layer_2 (Dense)              (None, 100)               10100     \n",
      "_________________________________________________________________\n",
      "normalize_2 (BatchNormalizat (None, 100)               400       \n",
      "_________________________________________________________________\n",
      "layer_3 (Dense)              (None, 100)               10100     \n",
      "_________________________________________________________________\n",
      "normalize_3 (BatchNormalizat (None, 100)               400       \n",
      "_________________________________________________________________\n",
      "layer_4 (Dense)              (None, 100)               10100     \n",
      "_________________________________________________________________\n",
      "normalize_4 (BatchNormalizat (None, 100)               400       \n",
      "_________________________________________________________________\n",
      "output_layer (Dense)         (None, 14)                1414      \n",
      "=================================================================\n",
      "Total params: 44,114\n",
      "Trainable params: 43,314\n",
      "Non-trainable params: 800\n",
      "_________________________________________________________________\n",
      "None\n"
     ]
    }
   ],
   "source": [
    "tot_samples = 10000\n",
    "p_xyz = 0.15/10\n",
    "\n",
    "tot_layers=5\n",
    "hidden_dim=100\n",
    "hidden_actvn='relu'\n",
    "output_actvn='sigmoid'\n",
    "\n",
    "optimizer = Adam(0.01)\n",
    "loss_func='binary_crossentropy' # binary_crossentropy # mean_squared_error\n",
    "metrics=['binary_crossentropy', 'acc']\n",
    "verbose_bool = 0\n",
    "\n",
    "model = train_model(p_xyz, tot_samples, tot_layers, hidden_dim, hidden_actvn, output_actvn, loss_func, optimizer, metrics, verbose_bool)\n",
    "print(model.summary())"
   ]
  },
  {
   "cell_type": "code",
   "execution_count": 30,
   "metadata": {},
   "outputs": [],
   "source": [
    "# syndrome lookup table, but not :P\n",
    "def SyndromeLookUp(syndr, model):\n",
    "    syndr[syndr>0] = 0\n",
    "    syndr[syndr<0] = 1\n",
    "    error = model.predict( np.array([syndr]) ).flatten().round().reshape(n,2).T.flatten()\n",
    "    recov = getGenerator(error)\n",
    "    return recov"
   ]
  },
  {
   "cell_type": "code",
   "execution_count": 31,
   "metadata": {},
   "outputs": [
    {
     "name": "stdout",
     "output_type": "stream",
     "text": [
      "Training model for p = 0.0\n",
      "Iterating for p = 0.0\n",
      "[=======================================>] Progress = 100%, Fidelity distance = 1.000000001687202 \n",
      "Training model for p = 0.037033333333333335\n",
      "Iterating for p = 0.037033333333333335\n",
      "[=======================================>] Progress = 100%, Fidelity distance = 0.014127232498732945 \n",
      "Training model for p = 0.07406666666666667\n",
      "Iterating for p = 0.07406666666666667\n",
      "[=======================================>] Progress = 100%, Fidelity distance = 0.1248745548649965 \n",
      "Training model for p = 0.1111\n",
      "Iterating for p = 0.1111\n",
      "[=======================================>] Progress = 100%, Fidelity distance = 0.014196280815648924 \n",
      "Training model for p = 0.14813333333333334\n",
      "Iterating for p = 0.14813333333333334\n",
      "[=======================================>] Progress = 100%, Fidelity distance = 0.023108882584721232 \n",
      "Training model for p = 0.18516666666666667\n",
      "Iterating for p = 0.18516666666666667\n",
      "[=======================================>] Progress = 100%, Fidelity distance = 0.013449435618110071 \n",
      "Training model for p = 0.2222\n",
      "Iterating for p = 0.2222\n",
      "[=======================================>] Progress = 100%, Fidelity distance = 0.0171325215269891959 \n",
      "Training model for p = 0.2592333333333333\n",
      "Iterating for p = 0.2592333333333333\n",
      "[=======================================>] Progress = 100%, Fidelity distance = 0.020789870808876117 \n",
      "Training model for p = 0.2962666666666667\n"
     ]
    },
    {
     "ename": "KeyboardInterrupt",
     "evalue": "",
     "output_type": "error",
     "traceback": [
      "\u001b[0;31m---------------------------------------------------------------------------\u001b[0m",
      "\u001b[0;31mKeyboardInterrupt\u001b[0m                         Traceback (most recent call last)",
      "\u001b[0;32m<ipython-input-31-d45815719313>\u001b[0m in \u001b[0;36m<module>\u001b[0;34m\u001b[0m\n\u001b[1;32m     37\u001b[0m \u001b[0;32mfor\u001b[0m \u001b[0mp_xyz\u001b[0m \u001b[0;32min\u001b[0m \u001b[0mprobab_list\u001b[0m\u001b[0;34m:\u001b[0m\u001b[0;34m\u001b[0m\u001b[0;34m\u001b[0m\u001b[0m\n\u001b[1;32m     38\u001b[0m     \u001b[0mprint\u001b[0m\u001b[0;34m(\u001b[0m\u001b[0;34m'Training model for p = '\u001b[0m \u001b[0;34m+\u001b[0m \u001b[0mstr\u001b[0m\u001b[0;34m(\u001b[0m\u001b[0mp_xyz\u001b[0m\u001b[0;34m)\u001b[0m\u001b[0;34m)\u001b[0m\u001b[0;34m\u001b[0m\u001b[0;34m\u001b[0m\u001b[0m\n\u001b[0;32m---> 39\u001b[0;31m     \u001b[0mmodel\u001b[0m \u001b[0;34m=\u001b[0m \u001b[0mtrain_model\u001b[0m\u001b[0;34m(\u001b[0m\u001b[0mp_xyz\u001b[0m\u001b[0;34m,\u001b[0m \u001b[0mtot_samples\u001b[0m\u001b[0;34m,\u001b[0m \u001b[0mtot_layers\u001b[0m\u001b[0;34m,\u001b[0m \u001b[0mhidden_dim\u001b[0m\u001b[0;34m,\u001b[0m \u001b[0mhidden_actvn\u001b[0m\u001b[0;34m,\u001b[0m \u001b[0moutput_actvn\u001b[0m\u001b[0;34m,\u001b[0m \u001b[0mloss_func\u001b[0m\u001b[0;34m,\u001b[0m \u001b[0moptimizer\u001b[0m\u001b[0;34m,\u001b[0m \u001b[0mmetrics\u001b[0m\u001b[0;34m,\u001b[0m \u001b[0mverbose_bool\u001b[0m\u001b[0;34m)\u001b[0m\u001b[0;34m\u001b[0m\u001b[0;34m\u001b[0m\u001b[0m\n\u001b[0m\u001b[1;32m     40\u001b[0m \u001b[0;34m\u001b[0m\u001b[0m\n\u001b[1;32m     41\u001b[0m     \u001b[0mmyError\u001b[0m \u001b[0;34m=\u001b[0m \u001b[0;36m0\u001b[0m\u001b[0;34m\u001b[0m\u001b[0;34m\u001b[0m\u001b[0m\n",
      "\u001b[0;32m<ipython-input-28-a6635870ab9e>\u001b[0m in \u001b[0;36mtrain_model\u001b[0;34m(p_xyz, tot_samples, tot_layers, hidden_dim, hidden_actvn, output_actvn, loss_func, optimizer, metrics, verbose_bool)\u001b[0m\n\u001b[1;32m     25\u001b[0m \u001b[0;34m\u001b[0m\u001b[0m\n\u001b[1;32m     26\u001b[0m     \u001b[0mmodel\u001b[0m \u001b[0;34m=\u001b[0m \u001b[0mbuild_decoder\u001b[0m\u001b[0;34m(\u001b[0m\u001b[0mtot_layers\u001b[0m\u001b[0;34m,\u001b[0m \u001b[0mhidden_dim\u001b[0m\u001b[0;34m,\u001b[0m \u001b[0mhidden_actvn\u001b[0m\u001b[0;34m,\u001b[0m \u001b[0moutput_actvn\u001b[0m\u001b[0;34m,\u001b[0m \u001b[0mloss_func\u001b[0m\u001b[0;34m,\u001b[0m \u001b[0moptimizer\u001b[0m\u001b[0;34m,\u001b[0m \u001b[0mmetrics\u001b[0m\u001b[0;34m)\u001b[0m\u001b[0;34m\u001b[0m\u001b[0;34m\u001b[0m\u001b[0m\n\u001b[0;32m---> 27\u001b[0;31m     \u001b[0mmodel\u001b[0m\u001b[0;34m.\u001b[0m\u001b[0mfit\u001b[0m\u001b[0;34m(\u001b[0m\u001b[0mX_train_unique\u001b[0m\u001b[0;34m,\u001b[0m \u001b[0my_train_unique\u001b[0m\u001b[0;34m,\u001b[0m \u001b[0mepochs\u001b[0m\u001b[0;34m=\u001b[0m\u001b[0;36m500\u001b[0m\u001b[0;34m,\u001b[0m \u001b[0mverbose\u001b[0m\u001b[0;34m=\u001b[0m\u001b[0mverbose_bool\u001b[0m\u001b[0;34m)\u001b[0m\u001b[0;34m\u001b[0m\u001b[0;34m\u001b[0m\u001b[0m\n\u001b[0m\u001b[1;32m     28\u001b[0m \u001b[0;34m\u001b[0m\u001b[0m\n\u001b[1;32m     29\u001b[0m     \u001b[0;32mreturn\u001b[0m \u001b[0mmodel\u001b[0m\u001b[0;34m\u001b[0m\u001b[0;34m\u001b[0m\u001b[0m\n",
      "\u001b[0;32m~/anaconda3/lib/python3.6/site-packages/keras/models.py\u001b[0m in \u001b[0;36mfit\u001b[0;34m(self, x, y, batch_size, epochs, verbose, callbacks, validation_split, validation_data, shuffle, class_weight, sample_weight, initial_epoch, steps_per_epoch, validation_steps, **kwargs)\u001b[0m\n\u001b[1;32m    958\u001b[0m                               \u001b[0minitial_epoch\u001b[0m\u001b[0;34m=\u001b[0m\u001b[0minitial_epoch\u001b[0m\u001b[0;34m,\u001b[0m\u001b[0;34m\u001b[0m\u001b[0;34m\u001b[0m\u001b[0m\n\u001b[1;32m    959\u001b[0m                               \u001b[0msteps_per_epoch\u001b[0m\u001b[0;34m=\u001b[0m\u001b[0msteps_per_epoch\u001b[0m\u001b[0;34m,\u001b[0m\u001b[0;34m\u001b[0m\u001b[0;34m\u001b[0m\u001b[0m\n\u001b[0;32m--> 960\u001b[0;31m                               validation_steps=validation_steps)\n\u001b[0m\u001b[1;32m    961\u001b[0m \u001b[0;34m\u001b[0m\u001b[0m\n\u001b[1;32m    962\u001b[0m     def evaluate(self, x, y, batch_size=32, verbose=1,\n",
      "\u001b[0;32m~/anaconda3/lib/python3.6/site-packages/keras/engine/training.py\u001b[0m in \u001b[0;36mfit\u001b[0;34m(self, x, y, batch_size, epochs, verbose, callbacks, validation_split, validation_data, shuffle, class_weight, sample_weight, initial_epoch, steps_per_epoch, validation_steps, **kwargs)\u001b[0m\n\u001b[1;32m   1655\u001b[0m                               \u001b[0minitial_epoch\u001b[0m\u001b[0;34m=\u001b[0m\u001b[0minitial_epoch\u001b[0m\u001b[0;34m,\u001b[0m\u001b[0;34m\u001b[0m\u001b[0;34m\u001b[0m\u001b[0m\n\u001b[1;32m   1656\u001b[0m                               \u001b[0msteps_per_epoch\u001b[0m\u001b[0;34m=\u001b[0m\u001b[0msteps_per_epoch\u001b[0m\u001b[0;34m,\u001b[0m\u001b[0;34m\u001b[0m\u001b[0;34m\u001b[0m\u001b[0m\n\u001b[0;32m-> 1657\u001b[0;31m                               validation_steps=validation_steps)\n\u001b[0m\u001b[1;32m   1658\u001b[0m \u001b[0;34m\u001b[0m\u001b[0m\n\u001b[1;32m   1659\u001b[0m     def evaluate(self, x=None, y=None,\n",
      "\u001b[0;32m~/anaconda3/lib/python3.6/site-packages/keras/engine/training.py\u001b[0m in \u001b[0;36m_fit_loop\u001b[0;34m(self, f, ins, out_labels, batch_size, epochs, verbose, callbacks, val_f, val_ins, shuffle, callback_metrics, initial_epoch, steps_per_epoch, validation_steps)\u001b[0m\n\u001b[1;32m   1211\u001b[0m                     \u001b[0mbatch_logs\u001b[0m\u001b[0;34m[\u001b[0m\u001b[0;34m'size'\u001b[0m\u001b[0;34m]\u001b[0m \u001b[0;34m=\u001b[0m \u001b[0mlen\u001b[0m\u001b[0;34m(\u001b[0m\u001b[0mbatch_ids\u001b[0m\u001b[0;34m)\u001b[0m\u001b[0;34m\u001b[0m\u001b[0;34m\u001b[0m\u001b[0m\n\u001b[1;32m   1212\u001b[0m                     \u001b[0mcallbacks\u001b[0m\u001b[0;34m.\u001b[0m\u001b[0mon_batch_begin\u001b[0m\u001b[0;34m(\u001b[0m\u001b[0mbatch_index\u001b[0m\u001b[0;34m,\u001b[0m \u001b[0mbatch_logs\u001b[0m\u001b[0;34m)\u001b[0m\u001b[0;34m\u001b[0m\u001b[0;34m\u001b[0m\u001b[0m\n\u001b[0;32m-> 1213\u001b[0;31m                     \u001b[0mouts\u001b[0m \u001b[0;34m=\u001b[0m \u001b[0mf\u001b[0m\u001b[0;34m(\u001b[0m\u001b[0mins_batch\u001b[0m\u001b[0;34m)\u001b[0m\u001b[0;34m\u001b[0m\u001b[0;34m\u001b[0m\u001b[0m\n\u001b[0m\u001b[1;32m   1214\u001b[0m                     \u001b[0;32mif\u001b[0m \u001b[0;32mnot\u001b[0m \u001b[0misinstance\u001b[0m\u001b[0;34m(\u001b[0m\u001b[0mouts\u001b[0m\u001b[0;34m,\u001b[0m \u001b[0mlist\u001b[0m\u001b[0;34m)\u001b[0m\u001b[0;34m:\u001b[0m\u001b[0;34m\u001b[0m\u001b[0;34m\u001b[0m\u001b[0m\n\u001b[1;32m   1215\u001b[0m                         \u001b[0mouts\u001b[0m \u001b[0;34m=\u001b[0m \u001b[0;34m[\u001b[0m\u001b[0mouts\u001b[0m\u001b[0;34m]\u001b[0m\u001b[0;34m\u001b[0m\u001b[0;34m\u001b[0m\u001b[0m\n",
      "\u001b[0;32m~/anaconda3/lib/python3.6/site-packages/keras/backend/tensorflow_backend.py\u001b[0m in \u001b[0;36m__call__\u001b[0;34m(self, inputs)\u001b[0m\n\u001b[1;32m   2355\u001b[0m         \u001b[0msession\u001b[0m \u001b[0;34m=\u001b[0m \u001b[0mget_session\u001b[0m\u001b[0;34m(\u001b[0m\u001b[0;34m)\u001b[0m\u001b[0;34m\u001b[0m\u001b[0;34m\u001b[0m\u001b[0m\n\u001b[1;32m   2356\u001b[0m         updated = session.run(fetches=fetches, feed_dict=feed_dict,\n\u001b[0;32m-> 2357\u001b[0;31m                               **self.session_kwargs)\n\u001b[0m\u001b[1;32m   2358\u001b[0m         \u001b[0;32mreturn\u001b[0m \u001b[0mupdated\u001b[0m\u001b[0;34m[\u001b[0m\u001b[0;34m:\u001b[0m\u001b[0mlen\u001b[0m\u001b[0;34m(\u001b[0m\u001b[0mself\u001b[0m\u001b[0;34m.\u001b[0m\u001b[0moutputs\u001b[0m\u001b[0;34m)\u001b[0m\u001b[0;34m]\u001b[0m\u001b[0;34m\u001b[0m\u001b[0;34m\u001b[0m\u001b[0m\n\u001b[1;32m   2359\u001b[0m \u001b[0;34m\u001b[0m\u001b[0m\n",
      "\u001b[0;32m~/anaconda3/lib/python3.6/site-packages/tensorflow/python/client/session.py\u001b[0m in \u001b[0;36mrun\u001b[0;34m(self, fetches, feed_dict, options, run_metadata)\u001b[0m\n\u001b[1;32m    776\u001b[0m     \u001b[0;32mtry\u001b[0m\u001b[0;34m:\u001b[0m\u001b[0;34m\u001b[0m\u001b[0;34m\u001b[0m\u001b[0m\n\u001b[1;32m    777\u001b[0m       result = self._run(None, fetches, feed_dict, options_ptr,\n\u001b[0;32m--> 778\u001b[0;31m                          run_metadata_ptr)\n\u001b[0m\u001b[1;32m    779\u001b[0m       \u001b[0;32mif\u001b[0m \u001b[0mrun_metadata\u001b[0m\u001b[0;34m:\u001b[0m\u001b[0;34m\u001b[0m\u001b[0;34m\u001b[0m\u001b[0m\n\u001b[1;32m    780\u001b[0m         \u001b[0mproto_data\u001b[0m \u001b[0;34m=\u001b[0m \u001b[0mtf_session\u001b[0m\u001b[0;34m.\u001b[0m\u001b[0mTF_GetBuffer\u001b[0m\u001b[0;34m(\u001b[0m\u001b[0mrun_metadata_ptr\u001b[0m\u001b[0;34m)\u001b[0m\u001b[0;34m\u001b[0m\u001b[0;34m\u001b[0m\u001b[0m\n",
      "\u001b[0;32m~/anaconda3/lib/python3.6/site-packages/tensorflow/python/client/session.py\u001b[0m in \u001b[0;36m_run\u001b[0;34m(self, handle, fetches, feed_dict, options, run_metadata)\u001b[0m\n\u001b[1;32m    967\u001b[0m \u001b[0;34m\u001b[0m\u001b[0m\n\u001b[1;32m    968\u001b[0m     \u001b[0;31m# Create a fetch handler to take care of the structure of fetches.\u001b[0m\u001b[0;34m\u001b[0m\u001b[0;34m\u001b[0m\u001b[0;34m\u001b[0m\u001b[0m\n\u001b[0;32m--> 969\u001b[0;31m     \u001b[0mfetch_handler\u001b[0m \u001b[0;34m=\u001b[0m \u001b[0m_FetchHandler\u001b[0m\u001b[0;34m(\u001b[0m\u001b[0mself\u001b[0m\u001b[0;34m.\u001b[0m\u001b[0m_graph\u001b[0m\u001b[0;34m,\u001b[0m \u001b[0mfetches\u001b[0m\u001b[0;34m,\u001b[0m \u001b[0mfeed_dict_string\u001b[0m\u001b[0;34m)\u001b[0m\u001b[0;34m\u001b[0m\u001b[0;34m\u001b[0m\u001b[0m\n\u001b[0m\u001b[1;32m    970\u001b[0m \u001b[0;34m\u001b[0m\u001b[0m\n\u001b[1;32m    971\u001b[0m     \u001b[0;31m# Run request and get response.\u001b[0m\u001b[0;34m\u001b[0m\u001b[0;34m\u001b[0m\u001b[0;34m\u001b[0m\u001b[0m\n",
      "\u001b[0;32m~/anaconda3/lib/python3.6/site-packages/tensorflow/python/client/session.py\u001b[0m in \u001b[0;36m__init__\u001b[0;34m(self, graph, fetches, feeds)\u001b[0m\n\u001b[1;32m    406\u001b[0m     \"\"\"\n\u001b[1;32m    407\u001b[0m     \u001b[0;32mwith\u001b[0m \u001b[0mgraph\u001b[0m\u001b[0;34m.\u001b[0m\u001b[0mas_default\u001b[0m\u001b[0;34m(\u001b[0m\u001b[0;34m)\u001b[0m\u001b[0;34m:\u001b[0m\u001b[0;34m\u001b[0m\u001b[0;34m\u001b[0m\u001b[0m\n\u001b[0;32m--> 408\u001b[0;31m       \u001b[0mself\u001b[0m\u001b[0;34m.\u001b[0m\u001b[0m_fetch_mapper\u001b[0m \u001b[0;34m=\u001b[0m \u001b[0m_FetchMapper\u001b[0m\u001b[0;34m.\u001b[0m\u001b[0mfor_fetch\u001b[0m\u001b[0;34m(\u001b[0m\u001b[0mfetches\u001b[0m\u001b[0;34m)\u001b[0m\u001b[0;34m\u001b[0m\u001b[0;34m\u001b[0m\u001b[0m\n\u001b[0m\u001b[1;32m    409\u001b[0m     \u001b[0mself\u001b[0m\u001b[0;34m.\u001b[0m\u001b[0m_fetches\u001b[0m \u001b[0;34m=\u001b[0m \u001b[0;34m[\u001b[0m\u001b[0;34m]\u001b[0m\u001b[0;34m\u001b[0m\u001b[0;34m\u001b[0m\u001b[0m\n\u001b[1;32m    410\u001b[0m     \u001b[0mself\u001b[0m\u001b[0;34m.\u001b[0m\u001b[0m_targets\u001b[0m \u001b[0;34m=\u001b[0m \u001b[0;34m[\u001b[0m\u001b[0;34m]\u001b[0m\u001b[0;34m\u001b[0m\u001b[0;34m\u001b[0m\u001b[0m\n",
      "\u001b[0;32m~/anaconda3/lib/python3.6/site-packages/tensorflow/python/client/session.py\u001b[0m in \u001b[0;36mfor_fetch\u001b[0;34m(fetch)\u001b[0m\n\u001b[1;32m    228\u001b[0m     \u001b[0;32melif\u001b[0m \u001b[0misinstance\u001b[0m\u001b[0;34m(\u001b[0m\u001b[0mfetch\u001b[0m\u001b[0;34m,\u001b[0m \u001b[0;34m(\u001b[0m\u001b[0mlist\u001b[0m\u001b[0;34m,\u001b[0m \u001b[0mtuple\u001b[0m\u001b[0;34m)\u001b[0m\u001b[0;34m)\u001b[0m\u001b[0;34m:\u001b[0m\u001b[0;34m\u001b[0m\u001b[0;34m\u001b[0m\u001b[0m\n\u001b[1;32m    229\u001b[0m       \u001b[0;31m# NOTE(touts): This is also the code path for namedtuples.\u001b[0m\u001b[0;34m\u001b[0m\u001b[0;34m\u001b[0m\u001b[0;34m\u001b[0m\u001b[0m\n\u001b[0;32m--> 230\u001b[0;31m       \u001b[0;32mreturn\u001b[0m \u001b[0m_ListFetchMapper\u001b[0m\u001b[0;34m(\u001b[0m\u001b[0mfetch\u001b[0m\u001b[0;34m)\u001b[0m\u001b[0;34m\u001b[0m\u001b[0;34m\u001b[0m\u001b[0m\n\u001b[0m\u001b[1;32m    231\u001b[0m     \u001b[0;32melif\u001b[0m \u001b[0misinstance\u001b[0m\u001b[0;34m(\u001b[0m\u001b[0mfetch\u001b[0m\u001b[0;34m,\u001b[0m \u001b[0mdict\u001b[0m\u001b[0;34m)\u001b[0m\u001b[0;34m:\u001b[0m\u001b[0;34m\u001b[0m\u001b[0;34m\u001b[0m\u001b[0m\n\u001b[1;32m    232\u001b[0m       \u001b[0;32mreturn\u001b[0m \u001b[0m_DictFetchMapper\u001b[0m\u001b[0;34m(\u001b[0m\u001b[0mfetch\u001b[0m\u001b[0;34m)\u001b[0m\u001b[0;34m\u001b[0m\u001b[0;34m\u001b[0m\u001b[0m\n",
      "\u001b[0;32m~/anaconda3/lib/python3.6/site-packages/tensorflow/python/client/session.py\u001b[0m in \u001b[0;36m__init__\u001b[0;34m(self, fetches)\u001b[0m\n\u001b[1;32m    335\u001b[0m     \"\"\"\n\u001b[1;32m    336\u001b[0m     \u001b[0mself\u001b[0m\u001b[0;34m.\u001b[0m\u001b[0m_fetch_type\u001b[0m \u001b[0;34m=\u001b[0m \u001b[0mtype\u001b[0m\u001b[0;34m(\u001b[0m\u001b[0mfetches\u001b[0m\u001b[0;34m)\u001b[0m\u001b[0;34m\u001b[0m\u001b[0;34m\u001b[0m\u001b[0m\n\u001b[0;32m--> 337\u001b[0;31m     \u001b[0mself\u001b[0m\u001b[0;34m.\u001b[0m\u001b[0m_mappers\u001b[0m \u001b[0;34m=\u001b[0m \u001b[0;34m[\u001b[0m\u001b[0m_FetchMapper\u001b[0m\u001b[0;34m.\u001b[0m\u001b[0mfor_fetch\u001b[0m\u001b[0;34m(\u001b[0m\u001b[0mfetch\u001b[0m\u001b[0;34m)\u001b[0m \u001b[0;32mfor\u001b[0m \u001b[0mfetch\u001b[0m \u001b[0;32min\u001b[0m \u001b[0mfetches\u001b[0m\u001b[0;34m]\u001b[0m\u001b[0;34m\u001b[0m\u001b[0;34m\u001b[0m\u001b[0m\n\u001b[0m\u001b[1;32m    338\u001b[0m     \u001b[0mself\u001b[0m\u001b[0;34m.\u001b[0m\u001b[0m_unique_fetches\u001b[0m\u001b[0;34m,\u001b[0m \u001b[0mself\u001b[0m\u001b[0;34m.\u001b[0m\u001b[0m_value_indices\u001b[0m \u001b[0;34m=\u001b[0m \u001b[0m_uniquify_fetches\u001b[0m\u001b[0;34m(\u001b[0m\u001b[0mself\u001b[0m\u001b[0;34m.\u001b[0m\u001b[0m_mappers\u001b[0m\u001b[0;34m)\u001b[0m\u001b[0;34m\u001b[0m\u001b[0;34m\u001b[0m\u001b[0m\n\u001b[1;32m    339\u001b[0m \u001b[0;34m\u001b[0m\u001b[0m\n",
      "\u001b[0;32m~/anaconda3/lib/python3.6/site-packages/tensorflow/python/client/session.py\u001b[0m in \u001b[0;36m<listcomp>\u001b[0;34m(.0)\u001b[0m\n\u001b[1;32m    335\u001b[0m     \"\"\"\n\u001b[1;32m    336\u001b[0m     \u001b[0mself\u001b[0m\u001b[0;34m.\u001b[0m\u001b[0m_fetch_type\u001b[0m \u001b[0;34m=\u001b[0m \u001b[0mtype\u001b[0m\u001b[0;34m(\u001b[0m\u001b[0mfetches\u001b[0m\u001b[0;34m)\u001b[0m\u001b[0;34m\u001b[0m\u001b[0;34m\u001b[0m\u001b[0m\n\u001b[0;32m--> 337\u001b[0;31m     \u001b[0mself\u001b[0m\u001b[0;34m.\u001b[0m\u001b[0m_mappers\u001b[0m \u001b[0;34m=\u001b[0m \u001b[0;34m[\u001b[0m\u001b[0m_FetchMapper\u001b[0m\u001b[0;34m.\u001b[0m\u001b[0mfor_fetch\u001b[0m\u001b[0;34m(\u001b[0m\u001b[0mfetch\u001b[0m\u001b[0;34m)\u001b[0m \u001b[0;32mfor\u001b[0m \u001b[0mfetch\u001b[0m \u001b[0;32min\u001b[0m \u001b[0mfetches\u001b[0m\u001b[0;34m]\u001b[0m\u001b[0;34m\u001b[0m\u001b[0;34m\u001b[0m\u001b[0m\n\u001b[0m\u001b[1;32m    338\u001b[0m     \u001b[0mself\u001b[0m\u001b[0;34m.\u001b[0m\u001b[0m_unique_fetches\u001b[0m\u001b[0;34m,\u001b[0m \u001b[0mself\u001b[0m\u001b[0;34m.\u001b[0m\u001b[0m_value_indices\u001b[0m \u001b[0;34m=\u001b[0m \u001b[0m_uniquify_fetches\u001b[0m\u001b[0;34m(\u001b[0m\u001b[0mself\u001b[0m\u001b[0;34m.\u001b[0m\u001b[0m_mappers\u001b[0m\u001b[0;34m)\u001b[0m\u001b[0;34m\u001b[0m\u001b[0;34m\u001b[0m\u001b[0m\n\u001b[1;32m    339\u001b[0m \u001b[0;34m\u001b[0m\u001b[0m\n",
      "\u001b[0;32m~/anaconda3/lib/python3.6/site-packages/tensorflow/python/client/session.py\u001b[0m in \u001b[0;36mfor_fetch\u001b[0;34m(fetch)\u001b[0m\n\u001b[1;32m    236\u001b[0m         \u001b[0;32mif\u001b[0m \u001b[0misinstance\u001b[0m\u001b[0;34m(\u001b[0m\u001b[0mfetch\u001b[0m\u001b[0;34m,\u001b[0m \u001b[0mtensor_type\u001b[0m\u001b[0;34m)\u001b[0m\u001b[0;34m:\u001b[0m\u001b[0;34m\u001b[0m\u001b[0;34m\u001b[0m\u001b[0m\n\u001b[1;32m    237\u001b[0m           \u001b[0mfetches\u001b[0m\u001b[0;34m,\u001b[0m \u001b[0mcontraction_fn\u001b[0m \u001b[0;34m=\u001b[0m \u001b[0mfetch_fn\u001b[0m\u001b[0;34m(\u001b[0m\u001b[0mfetch\u001b[0m\u001b[0;34m)\u001b[0m\u001b[0;34m\u001b[0m\u001b[0;34m\u001b[0m\u001b[0m\n\u001b[0;32m--> 238\u001b[0;31m           \u001b[0;32mreturn\u001b[0m \u001b[0m_ElementFetchMapper\u001b[0m\u001b[0;34m(\u001b[0m\u001b[0mfetches\u001b[0m\u001b[0;34m,\u001b[0m \u001b[0mcontraction_fn\u001b[0m\u001b[0;34m)\u001b[0m\u001b[0;34m\u001b[0m\u001b[0;34m\u001b[0m\u001b[0m\n\u001b[0m\u001b[1;32m    239\u001b[0m     \u001b[0;31m# Did not find anything.\u001b[0m\u001b[0;34m\u001b[0m\u001b[0;34m\u001b[0m\u001b[0;34m\u001b[0m\u001b[0m\n\u001b[1;32m    240\u001b[0m     raise TypeError('Fetch argument %r has invalid type %r' %\n",
      "\u001b[0;32m~/anaconda3/lib/python3.6/site-packages/tensorflow/python/client/session.py\u001b[0m in \u001b[0;36m__init__\u001b[0;34m(self, fetches, contraction_fn)\u001b[0m\n\u001b[1;32m    264\u001b[0m     \u001b[0;32mfor\u001b[0m \u001b[0mfetch\u001b[0m \u001b[0;32min\u001b[0m \u001b[0mfetches\u001b[0m\u001b[0;34m:\u001b[0m\u001b[0;34m\u001b[0m\u001b[0;34m\u001b[0m\u001b[0m\n\u001b[1;32m    265\u001b[0m       \u001b[0;32mtry\u001b[0m\u001b[0;34m:\u001b[0m\u001b[0;34m\u001b[0m\u001b[0;34m\u001b[0m\u001b[0m\n\u001b[0;32m--> 266\u001b[0;31m         self._unique_fetches.append(ops.get_default_graph().as_graph_element(\n\u001b[0m\u001b[1;32m    267\u001b[0m             fetch, allow_tensor=True, allow_operation=True))\n\u001b[1;32m    268\u001b[0m       \u001b[0;32mexcept\u001b[0m \u001b[0mTypeError\u001b[0m \u001b[0;32mas\u001b[0m \u001b[0me\u001b[0m\u001b[0;34m:\u001b[0m\u001b[0;34m\u001b[0m\u001b[0;34m\u001b[0m\u001b[0m\n",
      "\u001b[0;31mKeyboardInterrupt\u001b[0m: "
     ]
    }
   ],
   "source": [
    "errType = 1\n",
    "tot_probabs = 10\n",
    "probab_list = np.linspace(0,0.3333,tot_probabs)\n",
    "myError_list = np.zeros(tot_probabs)\n",
    "ind_probab = 0\n",
    "tot_iter = 1000\n",
    "avgError = 0\n",
    "\n",
    "\n",
    "# train model parameters\n",
    "tot_samples = 10000\n",
    "\n",
    "tot_layers=5\n",
    "hidden_dim=100\n",
    "learning_rate = 0.001\n",
    "hidden_actvn='relu'\n",
    "output_actvn='sigmoid'\n",
    "\n",
    "optimizer = Adam(learning_rate)\n",
    "loss_func='binary_crossentropy' # binary_crossentropy # mean_squared_error\n",
    "metrics=['binary_crossentropy', 'acc']\n",
    "verbose_bool = 0\n",
    "\n",
    "\n",
    "\n",
    "\n",
    "\n",
    "P = np.matmul(Gmatrix.transpose(), Gmatrix)\n",
    "A = np.eye(2**n, 2**n) # condition on codes\n",
    "# get extended qbits corresponding to non-zero column indices of G matrix\n",
    "i = 0\n",
    "for nonZeroIndex in np.sort(nonZeroUniqueInd):\n",
    "    if(i>=2**k):\n",
    "        break\n",
    "    A[nonZeroIndex, nonZeroIndex] = 0\n",
    "    i = i+1\n",
    "\n",
    "for p_xyz in probab_list:\n",
    "    print('Training model for p = ' + str(p_xyz))\n",
    "    model = train_model(p_xyz, tot_samples, tot_layers, hidden_dim, hidden_actvn, output_actvn, loss_func, optimizer, metrics, verbose_bool)\n",
    "    \n",
    "    myError = 0\n",
    "    tot_iter_temp = tot_iter\n",
    "    print('Iterating for p = ' + str(p_xyz))\n",
    "    for iter_ind in range(tot_iter):\n",
    "        # generate qbits randomly\n",
    "        tx_qbits = np.random.rand(2**k)\n",
    "        tx_qbits = NormalizeState(tx_qbits)\n",
    "\n",
    "        # Convert qbits to tensor product format\n",
    "        tx_decoded = np.zeros(2**n)\n",
    "        # get extended qbits corresponding to non-zero column indices of G matrix\n",
    "        i = 0\n",
    "        for nonZeroIndex in np.sort(nonZeroUniqueInd):\n",
    "            if(i>=2**k):\n",
    "                break\n",
    "            tx_decoded[nonZeroIndex] = tx_qbits[i]\n",
    "            i = i+1\n",
    "        tx_decoded = NormalizeState(tx_decoded)\n",
    "\n",
    "        # encode transmit qbits\n",
    "        tx_encoded = NormalizeState(tx_decoded) # encoded transmit qbits\n",
    "        for i in range(n-k):\n",
    "            tx_encoded = tx_encoded + np.matmul(gi[i,:,:], tx_encoded) # encode using generators\n",
    "        tx_encoded = NormalizeState(tx_encoded) # encoded transmit qbits\n",
    "\n",
    "        # channel\n",
    "        p_channel = [1-3*p_xyz, p_xyz, p_xyz, p_xyz] \n",
    "        errMatrix = np.random.multinomial(1, p_channel, size=n)\n",
    "        errCheckRowModified = errMatrix@np.array([0,1,2,3])\n",
    "        channel_error = NKronModified(errCheckRowModified) # channel error\n",
    "        rx_erry = np.dot(channel_error, tx_encoded) # received qbits with errors\n",
    "\n",
    "        # syndrome check\n",
    "        syndr = np.zeros(n-k) # syndrome\n",
    "        for i in range(n-k):\n",
    "            syndr[i] = np.dot(rx_erry.transpose(), np.dot(gi[i,:,:], rx_erry))\n",
    "\n",
    "        # error correction\n",
    "        recov = SyndromeLookUp(syndr, model) # error recovery\n",
    "        rx_encoded = np.matmul(recov.transpose(), rx_erry) # received qbits without error but still encoded\n",
    "\n",
    "        # complete decoding\n",
    "        # setup optimizer to decode\n",
    "        q = -np.matmul(rx_encoded.transpose(), Gmatrix).flatten()\n",
    "        x = cp.Variable(rx_encoded.shape[0])\n",
    "        # get qbit that is at closest distance to received encoded qbit\n",
    "        prob = cp.Problem(cp.Minimize((1/2)*cp.quad_form(x, P) + q.T@x), [A@x == np.zeros(x.shape[0])])\n",
    "        prob.solve()\n",
    "        rx_decoded = NormalizeState(x.value) # received decoded qbits\n",
    "        \n",
    "        if(errType == 0):\n",
    "            errString = 'Trace distance'\n",
    "            errSaveName = 'trace'\n",
    "            \n",
    "            error = np.outer(tx_decoded, tx_decoded) - np.outer(rx_decoded, rx_decoded)\n",
    "            error_out = np.trace(sp.linalg.sqrtm(error.transpose()@error))/2\n",
    "            if(np.imag(error_out) > 1e-5):\n",
    "                print('')\n",
    "                print('Warning hai: Non zero imaginary part in the error: ' + str(np.imag(error_out)))\n",
    "\n",
    "#             error_out = tx_decoded - rx_decoded\n",
    "#             error_out = np.sum(error_out**2)/np.sum(np.abs(tx_decoded) > comparingAccuracy_decoded)\n",
    "\n",
    "#             error_out = np.abs(tx_decoded**2 - rx_decoded**2)\n",
    "#             error_out = np.sum(error_out)/2\n",
    "\n",
    "            error = np.real(error_out)\n",
    "        else:\n",
    "            errString = 'Fidelity distance'\n",
    "            errSaveName = 'fidelity'\n",
    "            rho = np.outer(tx_decoded, tx_decoded)\n",
    "            sigma = np.outer(rx_decoded, rx_decoded)\n",
    "            error_out = np.trace(sp.linalg.sqrtm(sp.linalg.sqrtm(rho)@sigma@sp.linalg.sqrtm(rho)))\n",
    "            if(np.imag(error_out) > 1e-5):\n",
    "                print('')\n",
    "                print('Warning hai: Non zero imaginary part in the error: ' + str(np.imag(error_out)))\n",
    "            error = np.real(error_out)   \n",
    "        \n",
    "        if(math.isnan(error) == False):\n",
    "            myError = myError + error\n",
    "            sys.stdout.write('\\r')\n",
    "            sys.stdout.write(\"[%-40s] Progress = %d%%, \" % ('='*int(np.round(((iter_ind+1)/tot_iter)*39))+'>', ((iter_ind+1)/tot_iter)*100) + errString + ' = ' + str(myError/(iter_ind+1)))\n",
    "            sys.stdout.flush()\n",
    "        else:\n",
    "            tot_iter_temp = tot_iter_temp - 1\n",
    "    myError = myError/tot_iter_temp\n",
    "    avgError = myError\n",
    "    print(' ')\n",
    "    myError_list[ind_probab] = myError\n",
    "    ind_probab = ind_probab + 1"
   ]
  },
  {
   "cell_type": "code",
   "execution_count": 24,
   "metadata": {},
   "outputs": [
    {
     "data": {
      "image/png": "[encoded data removed]",
      "text/plain": [
       "<Figure size 432x288 with 1 Axes>"
      ]
     },
     "metadata": {
      "needs_background": "light"
     },
     "output_type": "display_data"
    },
    {
     "name": "stdout",
     "output_type": "stream",
     "text": [
      "./plots/1trace_5,1_iter_1000_totp_10.png\n"
     ]
    }
   ],
   "source": [
    "plt.plot(probab_list, myError_list)\n",
    "plt.ylabel(errString)\n",
    "plt.xlabel('p')\n",
    "plt.title(errString + ' for ' + str(n) + ',' + str(k) + ' code from Gottesman')\n",
    "plt.grid()\n",
    "plt.tight_layout()\n",
    "\n",
    "saveName = './plots/1' + errSaveName + '_' + str(n) + ',' + str(k) + '_iter_' + str(tot_iter) + '_totp_' + str(tot_probabs) + '.png'\n",
    "plt.show()\n",
    "# plt.savefig(saveName)\n",
    "print(saveName)"
   ]
  },
  {
   "cell_type": "code",
   "execution_count": 15,
   "metadata": {},
   "outputs": [
    {
     "data": {
      "image/png": "[encoded data removed]",
      "text/plain": [
       "<Figure size 432x288 with 1 Axes>"
      ]
     },
     "metadata": {
      "needs_background": "light"
     },
     "output_type": "display_data"
    },
    {
     "name": "stdout",
     "output_type": "stream",
     "text": [
      "./plots/1fidelity_5,1_iter_1000_totp_10.png\n"
     ]
    }
   ],
   "source": [
    "plt.plot(probab_list, myError_list)\n",
    "plt.ylabel(errString)\n",
    "plt.xlabel('p')\n",
    "plt.title(errString + ' for ' + str(n) + ',' + str(k) + ' code from Gottesman')\n",
    "plt.grid()\n",
    "plt.tight_layout()\n",
    "\n",
    "saveName = './plots/1' + errSaveName + '_' + str(n) + ',' + str(k) + '_iter_' + str(tot_iter) + '_totp_' + str(tot_probabs) + '.png'\n",
    "plt.show()\n",
    "# plt.savefig(saveName)\n",
    "print(saveName)"
   ]
  },
  {
   "cell_type": "code",
   "execution_count": null,
   "metadata": {},
   "outputs": [],
   "source": []
  }
 ],
 "metadata": {
  "kernelspec": {
   "display_name": "Python 3",
   "language": "python",
   "name": "python3"
  },
  "language_info": {
   "codemirror_mode": {
    "name": "ipython",
    "version": 3
   },
   "file_extension": ".py",
   "mimetype": "text/x-python",
   "name": "python",
   "nbconvert_exporter": "python",
   "pygments_lexer": "ipython3",
   "version": "3.6.8"
  }
 },
 "nbformat": 4,
 "nbformat_minor": 2
}
