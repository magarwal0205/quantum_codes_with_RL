{
 "cells": [
  {
   "cell_type": "code",
   "execution_count": 1,
   "metadata": {},
   "outputs": [],
   "source": [
    "import numpy as np\n",
    "import scipy as sp\n",
    "import scipy.linalg\n",
    "import cvxpy as cp\n",
    "import matplotlib.pyplot as plt\n",
    "import random\n",
    "import math\n",
    "import sys"
   ]
  },
  {
   "cell_type": "code",
   "execution_count": 2,
   "metadata": {},
   "outputs": [],
   "source": [
    "plt.plot(probab_list, ber_list)\n",
    "plt.ylabel('BER')\n",
    "plt.xlabel('p')\n",
    "plt.title('BER for ' + str(n) + ',' + str(k) + ' code from Gottesman')\n",
    "plt.grid()\n",
    "plt.tight_layout()\n",
    "\n",
    "plt.show()\n",
    "\n",
    "# saveName = './plots/1' + errSaveName + '_' + str(n) + ',' + str(k) + '_iter_' + str(tot_iter) + '_totp_' + str(tot_probabs) + '.png'\n",
    "# plt.savefig(saveName)\n",
    "# print(saveName)"
   ]
  },
  {
   "cell_type": "code",
   "execution_count": 3,
   "metadata": {},
   "outputs": [],
   "source": [
    "def NormalizeState(ipVal):\n",
    "    if(sp.linalg.norm(ipVal) == 0): return ipVal\n",
    "    else : return ipVal / sp.linalg.norm(ipVal)\n",
    "    \n",
    "def NKron(*args):\n",
    "  result = np.array([[1.0]])\n",
    "  for op in args:\n",
    "    result = np.kron(result, op)\n",
    "  return result\n",
    "    \n",
    "def NKronModified(checkRowMod):\n",
    "  result = np.array([[1.0]])\n",
    "  for ind in checkRowMod:\n",
    "    if(ind == 0):\n",
    "        op = Id\n",
    "    elif(ind == 1):\n",
    "        op = X\n",
    "    elif(ind == 2):\n",
    "        op = Y\n",
    "    elif(ind == 3):\n",
    "        op = Z\n",
    "    result = np.kron(result, op)\n",
    "  return result\n",
    "\n",
    "def getGenerator(checkRow):\n",
    "    checkRowModified = np.zeros(n, dtype=int)\n",
    "    \n",
    "    checkRowModified[(checkRow[:n] == checkRow[n:]) & (checkRow[n:] == 1)] = 2\n",
    "    checkRowModified[(checkRow[:n] == 1) & (checkRowModified != 2)] = 1\n",
    "    checkRowModified[(checkRow[n:] == 1) & (checkRowModified != 2)] = 3\n",
    "    \n",
    "    return NKronModified(checkRowModified)  "
   ]
  },
  {
   "cell_type": "code",
   "execution_count": 4,
   "metadata": {},
   "outputs": [],
   "source": [
    "NormalizeState = lambda state: state / sp.linalg.norm(state)\n",
    "zero = np.array([[1.0], [0.0]]) # |0>\n",
    "one = np.array([[0.0], [1.0]]) # |1>"
   ]
  },
  {
   "cell_type": "markdown",
   "metadata": {},
   "source": [
    "## Generators"
   ]
  },
  {
   "cell_type": "code",
   "execution_count": 5,
   "metadata": {},
   "outputs": [],
   "source": [
    "def NKronModified(checkRowMod):\n",
    "  result = np.array([[1.0]])\n",
    "  for ind in checkRowMod:\n",
    "    if(ind == 0):\n",
    "        op = Id\n",
    "    elif(ind == 1):\n",
    "        op = X\n",
    "    elif(ind == 2):\n",
    "        op = Y\n",
    "    elif(ind == 3):\n",
    "        op = Z\n",
    "    result = np.kron(result, op)\n",
    "  return result\n",
    "\n",
    "def getGenerator(checkRow):\n",
    "    checkRowModified = np.zeros(n, dtype=int)\n",
    "    \n",
    "    checkRowModified[(checkRow[:n] == checkRow[n:]) & (checkRow[n:] == 1)] = 2\n",
    "    checkRowModified[(checkRow[:n] == 1) & (checkRowModified != 2)] = 1\n",
    "    checkRowModified[(checkRow[n:] == 1) & (checkRowModified != 2)] = 3\n",
    "    \n",
    "    return NKronModified(checkRowModified)    "
   ]
  },
  {
   "cell_type": "code",
   "execution_count": 6,
   "metadata": {},
   "outputs": [],
   "source": [
    "comparingAccuracy_decoded = 1e-7\n",
    "comparingAccuracy_encoded = 1e-5\n",
    "comparingAccuracy_syndrome = 1e-5\n",
    "comparingAccuracy_method = 1e-5"
   ]
  },
  {
   "cell_type": "code",
   "execution_count": 7,
   "metadata": {},
   "outputs": [],
   "source": [
    "# Hmatrix = np.array([[1,0,1,0,1,0,1],\n",
    "#                     [0,1,1,0,0,1,1],\n",
    "#                     [0,0,0,1,1,1,1]])\n",
    "\n",
    "# na = Hmatrix.shape[1]\n",
    "# nb = Hmatrix.shape[0]\n",
    "\n",
    "# Hx = np.concatenate((np.kron(np.eye(na), Hmatrix), np.kron(Hmatrix.T, np.eye(nb))), axis=1)\n",
    "# Hz = np.concatenate((np.kron(Hmatrix, np.eye(na)), np.kron(np.eye(nb), Hmatrix.T)), axis=1)\n",
    "\n",
    "# H1 = np.concatenate((Hx, np.zeros([Hx.shape[0], Hx.shape[1]])), axis=1)\n",
    "# H2 = np.concatenate((np.zeros([Hz.shape[0], Hz.shape[1]]), Hz), axis=1)\n",
    "\n",
    "# checkMatrix = np.concatenate((H1, H2), axis=0)"
   ]
  },
  {
   "cell_type": "code",
   "execution_count": 8,
   "metadata": {},
   "outputs": [],
   "source": [
    "# change check matrix here\n",
    "\n",
    "checkMatrix = np.array([[1,1,1,1,1,1,1,1, 0,0,0,0,0,0,0,0],\n",
    "                        [0,0,0,0,0,0,0,0, 1,1,1,1,1,1,1,1],\n",
    "                        [0,1,0,1,1,0,1,0, 0,0,0,0,1,1,1,1],\n",
    "                        [0,1,0,1,0,1,0,1, 0,0,1,1,0,0,1,1],\n",
    "                        [0,1,1,0,1,0,0,1, 0,1,0,1,0,1,0,1]])\n",
    "\n",
    "# checkMatrix = np.array([[0,0,0,0,0,0,0,0,0, 1,1,0,0,0,0,0,0,0],\n",
    "#                         [0,0,0,0,0,0,0,0,0, 1,0,1,0,0,0,0,0,0],\n",
    "#                         [0,0,0,0,0,0,0,0,0, 0,0,0,1,1,0,0,0,0],\n",
    "#                         [0,0,0,0,0,0,0,0,0, 0,0,0,1,0,1,0,0,0],\n",
    "#                         [0,0,0,0,0,0,0,0,0, 0,0,0,0,0,0,1,1,0],\n",
    "#                         [0,0,0,0,0,0,0,0,0, 0,0,0,0,0,0,1,0,1],\n",
    "#                         [1,1,1,1,1,1,0,0,0, 0,0,0,0,0,0,0,0,0],\n",
    "#                         [1,1,1,0,0,0,1,1,1, 0,0,0,0,0,0,0,0,0]])\n",
    "\n",
    "# checkMatrix = np.array([[1,0,0,1,0, 0,1,1,0,0],\n",
    "#                         [0,1,0,0,1, 0,0,1,1,0],\n",
    "#                         [1,0,1,0,0, 0,0,0,1,1],\n",
    "#                         [0,1,0,1,0, 1,0,0,0,1]])\n",
    "\n",
    "# checkMatrix = np.array([[0,0,0,1,1,1,1, 0,0,0,0,0,0,0],\n",
    "#                         [0,1,1,0,0,1,1, 0,0,0,0,0,0,0],\n",
    "#                         [1,0,1,0,1,0,1, 0,0,0,0,0,0,0],\n",
    "#                         [0,0,0,0,0,0,0, 0,0,0,1,1,1,1],\n",
    "#                         [0,0,0,0,0,0,0, 0,1,1,0,0,1,1],\n",
    "#                         [0,0,0,0,0,0,0, 1,0,1,0,1,0,1]])\n",
    "\n",
    "n = int(checkMatrix.shape[1]/2)\n",
    "k = n-checkMatrix.shape[0]\n",
    "\n",
    "gi = np.zeros([n-k, 2**n, 2**n])\n",
    "for i in range(n-k):\n",
    "    gi[i,:,:] = getGenerator(checkMatrix[i,:])\n",
    "    \n",
    "# def gi(i):\n",
    "#     return getGenerator(checkMatrix[i,:])"
   ]
  },
  {
   "cell_type": "markdown",
   "metadata": {},
   "source": [
    "## Syndromes"
   ]
  },
  {
   "cell_type": "code",
   "execution_count": 26,
   "metadata": {},
   "outputs": [],
   "source": [
    "def fillSyndromeTable(checkRowCorrect):\n",
    "    # get error corresponding to the given vector\n",
    "    err = getGenerator(checkRowCorrect)\n",
    "\n",
    "    # get syndrome of that error\n",
    "    syndrVal = np.zeros(n-k,dtype='int')\n",
    "    for i in range(n-k):\n",
    "        syndBool = np.all(     np.abs(np.matmul(np.matmul(err, gi[i,:,:]), err.transpose()) - gi[i,:,:]) < comparingAccuracy_syndrome    )\n",
    "        if syndBool == True:\n",
    "            syndrVal[i] = 1\n",
    "        else:\n",
    "            syndrVal[i] = -1\n",
    "\n",
    "    # convert syndrome to index\n",
    "    syndrIndex = int(''.join(['1' if x else '0' for x in syndrVal==1]), 2)\n",
    "\n",
    "    # if not already updated, update the syndrome table\n",
    "    if isFilledTable[syndrIndex] == 0:\n",
    "        errorRecoveryList[syndrIndex, :] = checkRowCorrect\n",
    "        isFilledTable[syndrIndex] = 1 "
   ]
  },
  {
   "cell_type": "markdown",
   "metadata": {},
   "source": [
    "#### Weight 1 errors:"
   ]
  },
  {
   "cell_type": "code",
   "execution_count": 11,
   "metadata": {},
   "outputs": [],
   "source": [
    "isFilledTable = np.zeros(2**(n-k))\n",
    "errorRecoveryList = np.zeros([2**(n-k), 2*n])\n",
    "string_format = '{:0>' + str(n) + '}'\n",
    "totErrChecked = 0\n",
    "\n",
    "fillSyndromeTable(np.zeros(2*n, dtype = 'int'))\n",
    "totErrChecked = totErrChecked + 1\n",
    "\n",
    "myIndex = 1\n",
    "while(myIndex < 2**(n)):\n",
    "    # generate weight 1 vectors\n",
    "    checkRow = list(string_format.format(\"{:b}\".format(myIndex)))\n",
    "    checkRow = list(map(int, checkRow))\n",
    "    \n",
    "    # weight 1 error with X, then Y and then Z \n",
    "    fillSyndromeTable(np.append(np.asarray(checkRow), np.zeros(n, dtype = 'int')))\n",
    "    fillSyndromeTable(np.append(np.zeros(n, dtype = 'int'), np.asarray(checkRow)))\n",
    "    fillSyndromeTable(np.append(np.asarray(checkRow), np.asarray(checkRow)))\n",
    "    \n",
    "    totErrChecked = totErrChecked + 3\n",
    "        \n",
    "    myIndex = myIndex*2   "
   ]
  },
  {
   "cell_type": "code",
   "execution_count": 12,
   "metadata": {},
   "outputs": [
    {
     "name": "stdout",
     "output_type": "stream",
     "text": [
      "25 entries filled out of total 32 syndromes, number of errors checked = 25\n"
     ]
    }
   ],
   "source": [
    "print(str(np.sum(isFilledTable == 1)) + ' entries filled out of total ' + str(isFilledTable.shape[0]) + ' syndromes, number of errors checked = ' + str(totErrChecked))"
   ]
  },
  {
   "cell_type": "markdown",
   "metadata": {},
   "source": [
    "#### Weight 2 errors:"
   ]
  },
  {
   "cell_type": "code",
   "execution_count": 13,
   "metadata": {},
   "outputs": [],
   "source": [
    "myIndex1 = 1\n",
    "while(myIndex1 < 2**(n)):\n",
    "    # generate weight 1 vectors\n",
    "    checkRow1 = list(string_format.format(\"{:b}\".format(myIndex1)))\n",
    "    checkRow1 = np.asarray(list(map(int, checkRow1)))\n",
    "    \n",
    "    myIndex2 = myIndex1*2\n",
    "    while(myIndex2 < 2**n):\n",
    "        # generate another weight 1 vector\n",
    "        checkRow2 = list(string_format.format(\"{:b}\".format(myIndex2)))\n",
    "        checkRow2 = np.asarray(list(map(int, checkRow2)))\n",
    "        \n",
    "        #generate weight 2 vector\n",
    "        checkRow3 = list(string_format.format(\"{:b}\".format(myIndex2)))\n",
    "        checkRow3 = np.asarray(list(map(int, checkRow3)))\n",
    "        checkRow3[checkRow1 == 1] = 1\n",
    "        \n",
    "        # add weight 2 errors with XX, XY, XZ, ...\n",
    "        fillSyndromeTable(np.append(checkRow3, np.zeros(n, dtype = 'int')))\n",
    "        fillSyndromeTable(np.append(checkRow3, checkRow1))\n",
    "        fillSyndromeTable(np.append(checkRow2, checkRow1))\n",
    "        \n",
    "        fillSyndromeTable(np.append(checkRow3, checkRow2))\n",
    "        fillSyndromeTable(np.append(checkRow3, checkRow3))\n",
    "        fillSyndromeTable(np.append(checkRow2, checkRow3))\n",
    "        \n",
    "        fillSyndromeTable(np.append(checkRow1, checkRow2))\n",
    "        fillSyndromeTable(np.append(checkRow1, checkRow3))      \n",
    "        fillSyndromeTable(np.append(np.zeros(n, dtype = 'int'), checkRow3))\n",
    "        \n",
    "        totErrChecked = totErrChecked + 9\n",
    "        myIndex2 = myIndex2*2\n",
    "        \n",
    "    myIndex1 = myIndex1*2   "
   ]
  },
  {
   "cell_type": "code",
   "execution_count": 14,
   "metadata": {},
   "outputs": [
    {
     "name": "stdout",
     "output_type": "stream",
     "text": [
      "32 entries filled out of total 32 syndromes, number of errors checked = 277\n"
     ]
    }
   ],
   "source": [
    "print(str(np.sum(isFilledTable == 1)) + ' entries filled out of total ' + str(isFilledTable.shape[0]) + ' syndromes, number of errors checked = ' + str(totErrChecked))"
   ]
  },
  {
   "cell_type": "markdown",
   "metadata": {},
   "source": [
    "#### Weight 3 errors:"
   ]
  },
  {
   "cell_type": "code",
   "execution_count": 15,
   "metadata": {},
   "outputs": [],
   "source": [
    "myIndex1 = 1\n",
    "tempcount = 0\n",
    "tempc = 0\n",
    "while(myIndex1 < 2**(n)):\n",
    "    # generate weight 1 vectors\n",
    "    checkRowList = np.zeros([n, 4])\n",
    "    \n",
    "    checkRow1 = list(string_format.format(\"{:b}\".format(myIndex1)))\n",
    "    checkRow1 = np.asarray(list(map(int, checkRow1)))\n",
    "    \n",
    "    checkRowCombined1 = list(string_format.format(\"{:b}\".format(myIndex1)))\n",
    "    checkRowCombined1 = np.asarray(list(map(int, checkRowCombined1)))\n",
    "    \n",
    "    myIndex2 = myIndex1*2\n",
    "    while(myIndex2 < 2**n):\n",
    "        # generate another weight 1 vector\n",
    "        checkRow2 = list(string_format.format(\"{:b}\".format(myIndex2)))\n",
    "        checkRow2 = np.asarray(list(map(int, checkRow2)))\n",
    "        \n",
    "        checkRowCombined2 = list(string_format.format(\"{:b}\".format(myIndex2)))\n",
    "        checkRowCombined2 = np.asarray(list(map(int, checkRowCombined2)))\n",
    "        \n",
    "        myIndex3 = myIndex2*2\n",
    "        while(myIndex3 < 2**n):\n",
    "            # generate another weight 1 vector\n",
    "            checkRow3 = list(string_format.format(\"{:b}\".format(myIndex3)))\n",
    "            checkRow3 = np.asarray(list(map(int, checkRow3)))\n",
    "            \n",
    "            # generate weight 2 and 3 vectors\n",
    "            checkRowCombined3 = list(string_format.format(\"{:b}\".format(myIndex3)))\n",
    "            checkRowCombined3 = np.asarray(list(map(int, checkRowCombined3)))\n",
    "            \n",
    "            checkRowCombined4 = list(string_format.format(\"{:b}\".format(myIndex3)))\n",
    "            checkRowCombined4 = np.asarray(list(map(int, checkRowCombined4)))\n",
    "            \n",
    "            checkRowCombined1[checkRow2 == 1] = 1\n",
    "            checkRowCombined2[checkRow3 == 1] = 1\n",
    "            checkRowCombined3[checkRow1 == 1] = 1\n",
    "            \n",
    "            checkRowCombined4[checkRow2 == 1] = 1\n",
    "            checkRowCombined4[checkRow1 == 1] = 1\n",
    "            \n",
    "            fillSyndromeTable(np.append(checkRowCombined4, np.zeros(n, dtype = 'int')))\n",
    "            fillSyndromeTable(np.append(checkRowCombined4, checkRow1))\n",
    "            fillSyndromeTable(np.append(checkRowCombined4, checkRow2))\n",
    "            fillSyndromeTable(np.append(checkRowCombined4, checkRow3))\n",
    "            fillSyndromeTable(np.append(checkRowCombined4, checkRowCombined1))\n",
    "            fillSyndromeTable(np.append(checkRowCombined4, checkRowCombined2))\n",
    "            fillSyndromeTable(np.append(checkRowCombined4, checkRowCombined3))\n",
    "            fillSyndromeTable(np.append(checkRowCombined4, checkRowCombined4))\n",
    "            fillSyndromeTable(np.append(checkRowCombined3, checkRowCombined4))\n",
    "            fillSyndromeTable(np.append(checkRowCombined2, checkRowCombined4))\n",
    "            fillSyndromeTable(np.append(checkRowCombined1, checkRowCombined4))\n",
    "            fillSyndromeTable(np.append(checkRow3, checkRowCombined4))\n",
    "            fillSyndromeTable(np.append(checkRow2, checkRowCombined4))\n",
    "            fillSyndromeTable(np.append(checkRow1, checkRowCombined4))\n",
    "            fillSyndromeTable(np.append(np.zeros(n, dtype = 'int'), checkRowCombined4))\n",
    "            \n",
    "            fillSyndromeTable(np.append(checkRowCombined3, checkRowCombined2))\n",
    "            fillSyndromeTable(np.append(checkRowCombined3, checkRowCombined1))\n",
    "            fillSyndromeTable(np.append(checkRowCombined3, checkRow2))\n",
    "            fillSyndromeTable(np.append(checkRowCombined2, checkRowCombined3))\n",
    "            fillSyndromeTable(np.append(checkRowCombined1, checkRowCombined3))\n",
    "            fillSyndromeTable(np.append(checkRow2, checkRowCombined3))\n",
    "            \n",
    "            fillSyndromeTable(np.append(checkRowCombined2, checkRowCombined1))\n",
    "            fillSyndromeTable(np.append(checkRowCombined2, checkRow1))\n",
    "            fillSyndromeTable(np.append(checkRowCombined1, checkRowCombined2))\n",
    "            fillSyndromeTable(np.append(checkRow1, checkRowCombined2))\n",
    "            \n",
    "            fillSyndromeTable(np.append(checkRowCombined1, checkRow3))\n",
    "            fillSyndromeTable(np.append(checkRow3, checkRowCombined1))\n",
    "\n",
    "            totErrChecked = totErrChecked + 27\n",
    "            if(np.sum(isFilledTable == 1) == isFilledTable.shape[0]):\n",
    "                break\n",
    "            myIndex3 = myIndex3*2\n",
    "        \n",
    "        if(np.sum(isFilledTable == 1) == isFilledTable.shape[0]):\n",
    "            break\n",
    "        myIndex2 = myIndex2*2\n",
    "    \n",
    "    if(np.sum(isFilledTable == 1) == isFilledTable.shape[0]):\n",
    "        break\n",
    "    myIndex1 = myIndex1*2 "
   ]
  },
  {
   "cell_type": "code",
   "execution_count": 16,
   "metadata": {},
   "outputs": [
    {
     "name": "stdout",
     "output_type": "stream",
     "text": [
      "32 entries filled out of total 32 syndromes, number of errors checked = 304\n"
     ]
    }
   ],
   "source": [
    "print(str(np.sum(isFilledTable == 1)) + ' entries filled out of total ' + str(isFilledTable.shape[0]) + ' syndromes, number of errors checked = ' + str(totErrChecked))"
   ]
  },
  {
   "cell_type": "markdown",
   "metadata": {},
   "source": [
    "## Encoding"
   ]
  },
  {
   "cell_type": "code",
   "execution_count": 17,
   "metadata": {},
   "outputs": [],
   "source": [
    "def NKron1DGeneral(ipArray):\n",
    "    result = np.array([[1.0]])\n",
    "    for i in ipArray:\n",
    "        if(i==1):\n",
    "            op = one\n",
    "        elif(i==0):\n",
    "            op = zero\n",
    "        result = np.kron(result, op)\n",
    "    return result"
   ]
  },
  {
   "cell_type": "markdown",
   "metadata": {},
   "source": [
    "#### Get generator matrix G"
   ]
  },
  {
   "cell_type": "code",
   "execution_count": 18,
   "metadata": {},
   "outputs": [],
   "source": [
    "Gmatrix = np.eye(gi[0,:,:].shape[0], gi[0,:,:].shape[1]) # generator matrix corresponding to this code\n",
    "for i in range(n-k):\n",
    "    Gmatrix = Gmatrix + np.matmul(gi[i,:,:], Gmatrix)\n",
    "Gmatrix = np.round(Gmatrix)"
   ]
  },
  {
   "cell_type": "markdown",
   "metadata": {},
   "source": [
    "#### Get non-zero and unique columns of G"
   ]
  },
  {
   "cell_type": "code",
   "execution_count": 19,
   "metadata": {},
   "outputs": [],
   "source": [
    "# get boolean array if the columns are zero or not\n",
    "zeroCols = np.zeros(Gmatrix.shape[1])\n",
    "for i in range(Gmatrix.shape[1]):\n",
    "    zeroCols[i] = all(Gmatrix[:,i] == np.zeros(Gmatrix.shape[0]))\n",
    "\n",
    "# get indices of non-zero columns\n",
    "nonZeroColsList = np.argwhere(zeroCols==0).flatten()\n",
    "\n",
    "# get all non zero columns\n",
    "GmatrixNonZero = np.zeros([Gmatrix.shape[0], nonZeroColsList.shape[0]])\n",
    "i = 0\n",
    "for ind in nonZeroColsList:\n",
    "    GmatrixNonZero[:,i] = Gmatrix[:,ind]\n",
    "    i = i+1\n",
    "\n",
    "# get all non zero and unique columns and there indices\n",
    "GmatrixNonZeroUniqueInd, nonZeroUniqueInd = np.unique(GmatrixNonZero, axis = 1, return_index=True)\n",
    "nonZeroUniqueInd = nonZeroColsList[nonZeroUniqueInd]"
   ]
  },
  {
   "cell_type": "code",
   "execution_count": 20,
   "metadata": {},
   "outputs": [
    {
     "name": "stdout",
     "output_type": "stream",
     "text": [
      "Rank of G = 8\n",
      "Shape of G = (256, 256)\n"
     ]
    }
   ],
   "source": [
    "print('Rank of G = ' + str(np.linalg.matrix_rank(Gmatrix)))\n",
    "print('Shape of G = ' + str(Gmatrix.shape))"
   ]
  },
  {
   "cell_type": "code",
   "execution_count": 21,
   "metadata": {},
   "outputs": [],
   "source": [
    "# syndrome lookup table\n",
    "def SyndromeLookUp(syndr):\n",
    "    errorSyndromeIndex = int(''.join(['1' if x else '0' for x in np.ndarray.astype( np.round(syndr.flatten()), int) == 1]), 2)\n",
    "    recov = errorRecoveryList[errorSyndromeIndex]\n",
    "    return recov"
   ]
  },
  {
   "cell_type": "code",
   "execution_count": 23,
   "metadata": {},
   "outputs": [
    {
     "data": {
      "text/plain": [
       "array([0., 0., 0., 0., 0., 1., 0., 0., 0., 0., 0., 0., 0., 1., 0., 0.])"
      ]
     },
     "execution_count": 23,
     "metadata": {},
     "output_type": "execute_result"
    }
   ],
   "source": [
    "errorRecoveryList[0]"
   ]
  },
  {
   "cell_type": "code",
   "execution_count": 33,
   "metadata": {},
   "outputs": [],
   "source": [
    "def getSyndromeFromError(channel_error):\n",
    "    tx_qbits = np.ones(2**k)\n",
    "    tx_qbits = NormalizeState(tx_qbits)\n",
    "\n",
    "    # Convert qbits to tensor product format\n",
    "    tx_decoded = np.zeros(2**n)\n",
    "    # get extended qbits corresponding to non-zero column indices of G matrix\n",
    "    i = 0\n",
    "    for nonZeroIndex in np.sort(nonZeroUniqueInd):\n",
    "        if(i>=2**k):\n",
    "            break\n",
    "        tx_decoded[nonZeroIndex] = tx_qbits[i]\n",
    "        i = i+1\n",
    "    tx_decoded = NormalizeState(tx_decoded)\n",
    "\n",
    "    # encode transmit qbits\n",
    "    tx_encoded = NormalizeState(tx_decoded) # encoded transmit qbits\n",
    "    for i in range(n-k):\n",
    "        tx_encoded = tx_encoded + np.matmul(gi[i,:,:], tx_encoded) # encode using generators\n",
    "    tx_encoded = NormalizeState(tx_encoded) # encoded transmit qbits\n",
    "\n",
    "    # channel\n",
    "    rx_erry = np.dot(channel_error, tx_encoded) # received qbits with errors\n",
    "\n",
    "    # syndrome check\n",
    "    syndr = np.zeros([n-k, 1]) # syndrome\n",
    "    for i in range(n-k):\n",
    "        syndr[i] = np.dot(rx_erry.transpose(), np.dot(gi[i,:,:], rx_erry))\n",
    "        \n",
    "        \n",
    "    return np.ndarray.astype(np.round(syndr), 'int').flatten()"
   ]
  },
  {
   "cell_type": "markdown",
   "metadata": {},
   "source": [
    "## Channel and Decoding"
   ]
  },
  {
   "cell_type": "markdown",
   "metadata": {},
   "source": [
    "#### For different values of p and over many iterations"
   ]
  },
  {
   "cell_type": "code",
   "execution_count": 47,
   "metadata": {},
   "outputs": [
    {
     "name": "stdout",
     "output_type": "stream",
     "text": [
      "Training model for p = 0.0\n",
      "Iterating for p = 0.0\n",
      "[=======================================>] Progress = 100%,  BER = 0.0 \n",
      "Training model for p = 0.037033333333333335\n",
      "Iterating for p = 0.037033333333333335\n",
      "[=======================================>] Progress = 100%,  BER = 0.0919109109109109 \n",
      "Training model for p = 0.07406666666666667\n",
      "Iterating for p = 0.07406666666666667\n",
      "[=======================================>] Progress = 100%,  BER = 0.2402549049049048 \n",
      "Training model for p = 0.1111\n",
      "Iterating for p = 0.1111\n",
      "[=======================================>] Progress = 100%,  BER = 0.3828755775775787 \n",
      "Training model for p = 0.14813333333333334\n",
      "Iterating for p = 0.14813333333333334\n",
      "[=======================================>] Progress = 100%,  BER = 0.4901251561561567 \n",
      "Training model for p = 0.18516666666666667\n",
      "Iterating for p = 0.18516666666666667\n",
      "[=======================================>] Progress = 100%,  BER = 0.593125433433434 \n",
      "Training model for p = 0.2222\n",
      "Iterating for p = 0.2222\n",
      "[=======================================>] Progress = 100%,  BER = 0.685875108108109 \n",
      "Training model for p = 0.2592333333333333\n",
      "Iterating for p = 0.2592333333333333\n",
      "[=======================================>] Progress = 100%,  BER = 0.772755225225225 \n",
      "Training model for p = 0.2962666666666667\n",
      "Iterating for p = 0.2962666666666667\n",
      "[=======================================>] Progress = 100%,  BER = 0.864625894894894 \n",
      "Training model for p = 0.3333\n",
      "Iterating for p = 0.3333\n",
      "[=======================================>] Progress = 100%,  BER = 0.950625007007007 \n"
     ]
    }
   ],
   "source": [
    "tot_probabs = 10\n",
    "tot_iter = 1000\n",
    "\n",
    "probab_list = np.linspace(0,0.3333,tot_probabs)\n",
    "myError_list = np.zeros(tot_probabs)\n",
    "ber_list = np.zeros(tot_probabs)\n",
    "\n",
    "ind_probab = 0\n",
    "avgError = 0\n",
    "\n",
    "\n",
    "for p_xyz in probab_list:\n",
    "    ber = 0\n",
    "    print('Training model for p = ' + str(p_xyz))\n",
    "#     model = train_model(p_xyz, tot_samples, tot_layers, hidden_dim, hidden_actvn, output_actvn, loss_func, optimizer, metrics, verbose_bool)\n",
    "    \n",
    "    myError = 0\n",
    "    tot_iter_temp = tot_iter\n",
    "    print('Iterating for p = ' + str(p_xyz))\n",
    "    for iter_ind in range(tot_iter):\n",
    "        \n",
    "        # channel\n",
    "        p_channel = [1-3*p_xyz, p_xyz, p_xyz, p_xyz] \n",
    "        errMatrix = np.random.multinomial(1, p_channel, size=n)\n",
    "        errCheckRowModified = errMatrix@np.array([0,1,2,3])\n",
    "\n",
    "        # syndrome check\n",
    "        syndr = getSyndromeFromError(NKronModified(errCheckRowModified))\n",
    "    \n",
    "        # error correction\n",
    "        recov = SyndromeLookUp(syndr) # error recovery\n",
    "\n",
    "        errRecov = np.zeros(n)\n",
    "        errRecov[(recov[:n] == recov[n:]) & (recov[n:] == 1)] = 2\n",
    "        errRecov[(recov[:n] == 1) & (errRecov != 2)] = 1\n",
    "        errRecov[(recov[n:] == 1) & (errRecov != 2)] = 3\n",
    "        \n",
    "        ber = ber + np.sum(errCheckRowModified != errRecov)\n",
    "        sys.stdout.write('\\r')\n",
    "        sys.stdout.write(\"[%-40s] Progress = %d%%, \" % ('='*int(np.round(((iter_ind+1)/tot_iter)*39))+'>', ((iter_ind+1)/tot_iter)*100) + ' BER = ' + str(ber/(iter_ind*n+n)))\n",
    "        sys.stdout.flush()\n",
    "    \n",
    "    ber = ber/(tot_iter*n)\n",
    "    myError = myError/tot_iter_temp\n",
    "    avgError = myError\n",
    "    \n",
    "    myError_list[ind_probab] = myError\n",
    "    ber_list[ind_probab] = ber\n",
    "    \n",
    "    ind_probab = ind_probab + 1\n",
    "    print(' ')"
   ]
  },
  {
   "cell_type": "code",
   "execution_count": 51,
   "metadata": {},
   "outputs": [
    {
     "data": {
      "image/png": "[encoded data removed]",
      "text/plain": [
       "<Figure size 432x288 with 1 Axes>"
      ]
     },
     "metadata": {
      "needs_background": "light"
     },
     "output_type": "display_data"
    }
   ],
   "source": [
    "plt.plot(probab_list, ber_list)\n",
    "plt.ylabel('BER')\n",
    "plt.xlabel('p')\n",
    "plt.title(' for ' + str(n) + ',' + str(k) + ' code from Gottesman')\n",
    "plt.grid()\n",
    "plt.tight_layout()\n",
    "\n",
    "# saveName = './plots/' + errSaveName + '_' + str(n) + ',' + str(k) + '_iter_' + str(tot_iter) + '_totp_' + str(tot_probabs) + '.png'\n",
    "plt.show()\n",
    "# plt.savefig(saveName)\n",
    "# print(saveName)"
   ]
  },
  {
   "cell_type": "code",
   "execution_count": null,
   "metadata": {},
   "outputs": [],
   "source": [
    "plt.plot(probab_list, myError_list)\n",
    "plt.ylabel(errString)\n",
    "plt.xlabel('p')\n",
    "plt.title(errString + ' for ' + str(n) + ',' + str(k) + ' code from Gottesman')\n",
    "plt.grid()\n",
    "plt.tight_layout()\n",
    "\n",
    "saveName = './plots/1' + errSaveName + '_' + str(n) + ',' + str(k) + '_iter_' + str(tot_iter) + '_totp_' + str(tot_probabs) + '.png'\n",
    "plt.show()\n",
    "# plt.savefig(saveName)\n",
    "print(saveName)"
   ]
  },
  {
   "cell_type": "markdown",
   "metadata": {},
   "source": [
    "### TODO\n",
    "- Implement minimum fidelity\n",
    "- Generate plots for other codes\n",
    "\n",
    "\n",
    "- Check how decoding is done in Gottesman (to fix the null-space problem)\n",
    "- Maybe try implementing the circuits if there are any\n",
    "\n",
    "\n",
    "- Maybe start generating data"
   ]
  },
  {
   "cell_type": "markdown",
   "metadata": {},
   "source": [
    "## Rough"
   ]
  },
  {
   "cell_type": "code",
   "execution_count": null,
   "metadata": {},
   "outputs": [],
   "source": []
  },
  {
   "cell_type": "code",
   "execution_count": null,
   "metadata": {},
   "outputs": [],
   "source": []
  },
  {
   "cell_type": "code",
   "execution_count": null,
   "metadata": {},
   "outputs": [],
   "source": []
  },
  {
   "cell_type": "code",
   "execution_count": null,
   "metadata": {},
   "outputs": [],
   "source": []
  },
  {
   "cell_type": "code",
   "execution_count": null,
   "metadata": {},
   "outputs": [],
   "source": []
  },
  {
   "cell_type": "code",
   "execution_count": null,
   "metadata": {},
   "outputs": [],
   "source": []
  }
 ],
 "metadata": {
  "kernelspec": {
   "display_name": "Python 3",
   "language": "python",
   "name": "python3"
  },
  "language_info": {
   "codemirror_mode": {
    "name": "ipython",
    "version": 3
   },
   "file_extension": ".py",
   "mimetype": "text/x-python",
   "name": "python",
   "nbconvert_exporter": "python",
   "pygments_lexer": "ipython3",
   "version": "3.6.8"
  }
 },
 "nbformat": 4,
 "nbformat_minor": 2
}
