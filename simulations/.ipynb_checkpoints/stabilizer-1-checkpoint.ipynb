{
 "cells": [
  {
   "cell_type": "code",
   "execution_count": 1,
   "metadata": {},
   "outputs": [],
   "source": [
    "import numpy as np\n",
    "import scipy as sp\n",
    "import scipy.linalg\n",
    "import cvxpy as cp\n",
    "import random"
   ]
  },
  {
   "cell_type": "code",
   "execution_count": 2,
   "metadata": {},
   "outputs": [],
   "source": [
    "def NKron(*args):\n",
    "  result = np.array([[1.0]])\n",
    "  for op in args:\n",
    "    result = np.kron(result, op)\n",
    "  return result"
   ]
  },
  {
   "cell_type": "code",
   "execution_count": 3,
   "metadata": {},
   "outputs": [],
   "source": [
    "Id = np.eye(2)\n",
    "X = np.array([[0.0, 1.0],[1.0, 0.0]])\n",
    "Z = np.array([[1.0, 0.0],[0.0, -1.0]])\n",
    "Y = np.matmul(X,Z)"
   ]
  },
  {
   "cell_type": "code",
   "execution_count": 4,
   "metadata": {},
   "outputs": [],
   "source": [
    "NormalizeState = lambda state: state / sp.linalg.norm(state)\n",
    "zero = np.array([[1.0], [0.0]]) # |0>\n",
    "one = np.array([[0.0], [1.0]]) # |1>"
   ]
  },
  {
   "cell_type": "markdown",
   "metadata": {},
   "source": [
    "## Generators"
   ]
  },
  {
   "cell_type": "code",
   "execution_count": 5,
   "metadata": {},
   "outputs": [],
   "source": [
    "def NKronModified(checkRowMod):\n",
    "  result = np.array([[1.0]])\n",
    "  for ind in checkRowMod:\n",
    "    if(ind == 0):\n",
    "        op = Id\n",
    "    elif(ind == 1):\n",
    "        op = X\n",
    "    elif(ind == 2):\n",
    "        op = Y\n",
    "    elif(ind == 3):\n",
    "        op = Z\n",
    "    result = np.kron(result, op)\n",
    "  return result\n",
    "\n",
    "def getGenerator(checkRow):\n",
    "    checkRowModified = np.zeros(n, dtype=int)\n",
    "    \n",
    "    checkRowModified[(checkRow[:n] == checkRow[n:]) & (checkRow[n:] == 1)] = 2\n",
    "    checkRowModified[(checkRow[:n] == 1) & (checkRowModified != 2)] = 1\n",
    "    checkRowModified[(checkRow[n:] == 1) & (checkRowModified != 2)] = 3\n",
    "    \n",
    "    return NKronModified(checkRowModified)    "
   ]
  },
  {
   "cell_type": "code",
   "execution_count": 6,
   "metadata": {},
   "outputs": [],
   "source": [
    "# change check matrix here\n",
    "\n",
    "# checkMatrix = np.array([[0,0,0,0,0,0,0,0,0, 1,1,0,0,0,0,0,0,0],\n",
    "#                         [0,0,0,0,0,0,0,0,0, 1,0,1,0,0,0,0,0,0],\n",
    "#                         [0,0,0,0,0,0,0,0,0, 0,0,0,1,1,0,0,0,0],\n",
    "#                         [0,0,0,0,0,0,0,0,0, 0,0,0,1,0,1,0,0,0],\n",
    "#                         [0,0,0,0,0,0,0,0,0, 0,0,0,0,0,0,1,1,0],\n",
    "#                         [0,0,0,0,0,0,0,0,0, 0,0,0,0,0,0,1,0,1],\n",
    "#                         [1,1,1,1,1,1,0,0,0, 0,0,0,0,0,0,0,0,0],\n",
    "#                         [1,1,1,0,0,0,1,1,1, 0,0,0,0,0,0,0,0,0]])\n",
    "\n",
    "# checkMatrix = np.array([[1,0,0,1,0, 0,1,1,0,0],\n",
    "#                         [0,1,0,0,1, 0,0,1,1,0],\n",
    "#                         [1,0,1,0,0, 0,0,0,1,1],\n",
    "#                         [0,1,0,1,0, 1,0,0,0,1]])\n",
    "\n",
    "checkMatrix = np.array([[0,0,0,1,1,1,1, 0,0,0,0,0,0,0],\n",
    "                        [0,1,1,0,0,1,1, 0,0,0,0,0,0,0],\n",
    "                        [1,0,1,0,1,0,1, 0,0,0,0,0,0,0],\n",
    "                        [0,0,0,0,0,0,0, 0,0,0,1,1,1,1],\n",
    "                        [0,0,0,0,0,0,0, 0,1,1,0,0,1,1],\n",
    "                        [0,0,0,0,0,0,0, 1,0,1,0,1,0,1]])\n",
    "\n",
    "n = int(checkMatrix.shape[1]/2)\n",
    "k = n-checkMatrix.shape[0]\n",
    "\n",
    "gi = np.zeros([n-k, 2**n, 2**n])\n",
    "for i in range(n-k):\n",
    "    gi[i,:,:] = getGenerator(checkMatrix[i,:])"
   ]
  },
  {
   "cell_type": "markdown",
   "metadata": {},
   "source": [
    "## Syndromes"
   ]
  },
  {
   "cell_type": "code",
   "execution_count": 7,
   "metadata": {},
   "outputs": [],
   "source": [
    "def fillSyndromeTable(checkRowCorrect):\n",
    "    # get error corresponding to the given vector\n",
    "    err = getGenerator(checkRowCorrect)\n",
    "\n",
    "    # get syndrome of that error\n",
    "    syndrVal = np.zeros(n-k,dtype='int')\n",
    "    for i in range(n-k):\n",
    "        syndBool = np.all(     np.abs(np.matmul(np.matmul(err, gi[i,:,:]), err.transpose()) - gi[i,:,:]) < 1e-5     )\n",
    "        if syndBool == True:\n",
    "            syndrVal[i] = 1\n",
    "        else:\n",
    "            syndrVal[i] = -1\n",
    "\n",
    "    # convert syndrome to index\n",
    "    syndrIndex = int(''.join(['1' if x else '0' for x in syndrVal==1]), 2)\n",
    "    \n",
    "    # if not already updated, update the syndrome table\n",
    "    if isFilledTable[syndrIndex] == 0:\n",
    "        errorRecoveryList[syndrIndex, :, :] = err\n",
    "        isFilledTable[syndrIndex] = 1 "
   ]
  },
  {
   "cell_type": "markdown",
   "metadata": {},
   "source": [
    "#### Weight 1 errors:"
   ]
  },
  {
   "cell_type": "code",
   "execution_count": 8,
   "metadata": {},
   "outputs": [],
   "source": [
    "isFilledTable = np.zeros(2**(n-k))\n",
    "errorRecoveryList = np.zeros([2**(n-k), 2**n, 2**n])\n",
    "string_format = '{:0>' + str(n) + '}'\n",
    "\n",
    "myIndex = 1\n",
    "while(myIndex < 2**(n)):\n",
    "    # generate weight 1 vectors\n",
    "    checkRow = list(string_format.format(\"{:b}\".format(myIndex)))\n",
    "    checkRow = list(map(int, checkRow))\n",
    "    \n",
    "    # weight 1 error with X, then Y and then Z \n",
    "    fillSyndromeTable(np.append(np.asarray(checkRow), np.zeros(n, dtype = 'int')))\n",
    "    fillSyndromeTable(np.append(np.zeros(n, dtype = 'int'), np.asarray(checkRow)))\n",
    "    fillSyndromeTable(np.append(np.asarray(checkRow), np.asarray(checkRow)))\n",
    "        \n",
    "    myIndex = myIndex*2   "
   ]
  },
  {
   "cell_type": "code",
   "execution_count": 9,
   "metadata": {},
   "outputs": [
    {
     "name": "stdout",
     "output_type": "stream",
     "text": [
      "21 entries filled out of total 64 syndromes\n"
     ]
    }
   ],
   "source": [
    "print(str(np.sum(isFilledTable == 1)) + ' entries filled out of total ' + str(isFilledTable.shape[0]) + ' syndromes')"
   ]
  },
  {
   "cell_type": "markdown",
   "metadata": {},
   "source": [
    "#### Weight 2 errors:"
   ]
  },
  {
   "cell_type": "code",
   "execution_count": 10,
   "metadata": {},
   "outputs": [],
   "source": [
    "myIndex1 = 1\n",
    "while(myIndex1 < 2**(n)):\n",
    "    # generate weight 1 vectors\n",
    "    checkRow1 = list(string_format.format(\"{:b}\".format(myIndex1)))\n",
    "    checkRow1 = np.asarray(list(map(int, checkRow1)))\n",
    "    \n",
    "    myIndex2 = myIndex1*2\n",
    "    while(myIndex2 < 2**n):\n",
    "        # generate another weight 1 vector\n",
    "        checkRow2 = list(string_format.format(\"{:b}\".format(myIndex2)))\n",
    "        checkRow2 = np.asarray(list(map(int, checkRow2)))\n",
    "        \n",
    "        #generate weight 2 vector\n",
    "        checkRow3 = list(string_format.format(\"{:b}\".format(myIndex2)))\n",
    "        checkRow3 = np.asarray(list(map(int, checkRow3)))\n",
    "        checkRow3[checkRow1 == 1] = 1\n",
    "        \n",
    "        # add weight 2 errors with XX, XY, XZ, ...\n",
    "        fillSyndromeTable(np.append(checkRow3, np.zeros(n, dtype = 'int')))\n",
    "        fillSyndromeTable(np.append(checkRow3, checkRow1))\n",
    "        fillSyndromeTable(np.append(checkRow2, checkRow1))\n",
    "        \n",
    "        fillSyndromeTable(np.append(checkRow3, checkRow2))\n",
    "        fillSyndromeTable(np.append(checkRow3, checkRow3))\n",
    "        fillSyndromeTable(np.append(checkRow2, checkRow3))\n",
    "        \n",
    "        fillSyndromeTable(np.append(checkRow1, checkRow2))\n",
    "        fillSyndromeTable(np.append(checkRow1, checkRow3))      \n",
    "        fillSyndromeTable(np.append(np.zeros(n, dtype = 'int'), checkRow3))\n",
    "               \n",
    "        myIndex2 = myIndex2*2\n",
    "        \n",
    "    myIndex1 = myIndex1*2   "
   ]
  },
  {
   "cell_type": "code",
   "execution_count": 11,
   "metadata": {},
   "outputs": [
    {
     "name": "stdout",
     "output_type": "stream",
     "text": [
      "63 entries filled out of total 64 syndromes\n"
     ]
    }
   ],
   "source": [
    "print(str(np.sum(isFilledTable == 1)) + ' entries filled out of total ' + str(isFilledTable.shape[0]) + ' syndromes')"
   ]
  },
  {
   "cell_type": "markdown",
   "metadata": {},
   "source": [
    "#### Weight 3 errors:"
   ]
  },
  {
   "cell_type": "code",
   "execution_count": 12,
   "metadata": {},
   "outputs": [],
   "source": [
    "myIndex1 = 1\n",
    "tempcount = 0\n",
    "tempc = 0\n",
    "while(myIndex1 < 2**(n)):\n",
    "    # generate weight 1 vectors\n",
    "    checkRowList = np.zeros([n, 4])\n",
    "    \n",
    "    checkRow1 = list(string_format.format(\"{:b}\".format(myIndex1)))\n",
    "    checkRow1 = np.asarray(list(map(int, checkRow1)))\n",
    "    \n",
    "    checkRowCombined1 = list(string_format.format(\"{:b}\".format(myIndex1)))\n",
    "    checkRowCombined1 = np.asarray(list(map(int, checkRowCombined1)))\n",
    "    \n",
    "    myIndex2 = myIndex1*2\n",
    "    while(myIndex2 < 2**n):\n",
    "        # generate another weight 1 vector\n",
    "        checkRow2 = list(string_format.format(\"{:b}\".format(myIndex2)))\n",
    "        checkRow2 = np.asarray(list(map(int, checkRow2)))\n",
    "        \n",
    "        checkRowCombined2 = list(string_format.format(\"{:b}\".format(myIndex2)))\n",
    "        checkRowCombined2 = np.asarray(list(map(int, checkRowCombined2)))\n",
    "        \n",
    "        myIndex3 = myIndex2*2\n",
    "        while(myIndex3 < 2**n):\n",
    "            # generate another weight 1 vector\n",
    "            checkRow3 = list(string_format.format(\"{:b}\".format(myIndex3)))\n",
    "            checkRow3 = np.asarray(list(map(int, checkRow3)))\n",
    "            \n",
    "            # generate weight 2 and 3 vectors\n",
    "            checkRowCombined3 = list(string_format.format(\"{:b}\".format(myIndex3)))\n",
    "            checkRowCombined3 = np.asarray(list(map(int, checkRowCombined3)))\n",
    "            \n",
    "            checkRowCombined4 = list(string_format.format(\"{:b}\".format(myIndex3)))\n",
    "            checkRowCombined4 = np.asarray(list(map(int, checkRowCombined4)))\n",
    "            \n",
    "            checkRowCombined1[checkRow2 == 1] = 1\n",
    "            checkRowCombined2[checkRow3 == 1] = 1\n",
    "            checkRowCombined3[checkRow1 == 1] = 1\n",
    "            \n",
    "            checkRowCombined4[checkRow2 == 1] = 1\n",
    "            checkRowCombined4[checkRow1 == 1] = 1\n",
    "            \n",
    "            fillSyndromeTable(np.append(checkRowCombined4, np.zeros(n, dtype = 'int')))\n",
    "            fillSyndromeTable(np.append(checkRowCombined4, checkRow1))\n",
    "            fillSyndromeTable(np.append(checkRowCombined4, checkRow2))\n",
    "            fillSyndromeTable(np.append(checkRowCombined4, checkRow3))\n",
    "            fillSyndromeTable(np.append(checkRowCombined4, checkRowCombined1))\n",
    "            fillSyndromeTable(np.append(checkRowCombined4, checkRowCombined2))\n",
    "            fillSyndromeTable(np.append(checkRowCombined4, checkRowCombined3))\n",
    "            fillSyndromeTable(np.append(checkRowCombined4, checkRowCombined4))\n",
    "            fillSyndromeTable(np.append(checkRowCombined3, checkRowCombined4))\n",
    "            fillSyndromeTable(np.append(checkRowCombined2, checkRowCombined4))\n",
    "            fillSyndromeTable(np.append(checkRowCombined1, checkRowCombined4))\n",
    "            fillSyndromeTable(np.append(checkRow3, checkRowCombined4))\n",
    "            fillSyndromeTable(np.append(checkRow2, checkRowCombined4))\n",
    "            fillSyndromeTable(np.append(checkRow1, checkRowCombined4))\n",
    "            fillSyndromeTable(np.append(np.zeros(n, dtype = 'int'), checkRowCombined4))\n",
    "            \n",
    "            fillSyndromeTable(np.append(checkRowCombined3, checkRowCombined2))\n",
    "            fillSyndromeTable(np.append(checkRowCombined3, checkRowCombined1))\n",
    "            fillSyndromeTable(np.append(checkRowCombined3, checkRow2))\n",
    "            fillSyndromeTable(np.append(checkRowCombined2, checkRowCombined3))\n",
    "            fillSyndromeTable(np.append(checkRowCombined1, checkRowCombined3))\n",
    "            fillSyndromeTable(np.append(checkRow2, checkRowCombined3))\n",
    "            \n",
    "            fillSyndromeTable(np.append(checkRowCombined2, checkRowCombined1))\n",
    "            fillSyndromeTable(np.append(checkRowCombined2, checkRow1))\n",
    "            fillSyndromeTable(np.append(checkRowCombined1, checkRowCombined2))\n",
    "            fillSyndromeTable(np.append(checkRow1, checkRowCombined2))\n",
    "            \n",
    "            fillSyndromeTable(np.append(checkRowCombined1, checkRow3))\n",
    "            fillSyndromeTable(np.append(checkRow3, checkRowCombined1))\n",
    "\n",
    "            if(np.sum(isFilledTable == 1) == isFilledTable.shape[0]):\n",
    "                break\n",
    "            myIndex3 = myIndex3*2\n",
    "        \n",
    "        if(np.sum(isFilledTable == 1) == isFilledTable.shape[0]):\n",
    "            break\n",
    "        myIndex2 = myIndex2*2\n",
    "    \n",
    "    if(np.sum(isFilledTable == 1) == isFilledTable.shape[0]):\n",
    "        break\n",
    "    myIndex1 = myIndex1*2 "
   ]
  },
  {
   "cell_type": "code",
   "execution_count": 13,
   "metadata": {},
   "outputs": [
    {
     "name": "stdout",
     "output_type": "stream",
     "text": [
      "64 entries filled out of total 64 syndromes\n"
     ]
    }
   ],
   "source": [
    "print(str(np.sum(isFilledTable == 1)) + ' entries filled out of total ' + str(isFilledTable.shape[0]) + ' syndromes')"
   ]
  },
  {
   "cell_type": "markdown",
   "metadata": {},
   "source": [
    "## Encode"
   ]
  },
  {
   "cell_type": "code",
   "execution_count": 14,
   "metadata": {},
   "outputs": [],
   "source": [
    "def NKron1DGeneral(ipArray):\n",
    "    result = np.array([[1.0]])\n",
    "    for i in ipArray:\n",
    "        if(i==1):\n",
    "            op = one\n",
    "        elif(i==0):\n",
    "            op = zero\n",
    "        result = np.kron(result, op)\n",
    "    return result"
   ]
  },
  {
   "cell_type": "markdown",
   "metadata": {},
   "source": [
    "### _Generalize this_"
   ]
  },
  {
   "cell_type": "code",
   "execution_count": 15,
   "metadata": {},
   "outputs": [],
   "source": [
    "# tx_qbits = NormalizeState(0.5*NKron1DGeneral( np.array([0,0,0,0,1]) ) \n",
    "#                           + 0.2*NKron1DGeneral( np.array([0,0,0,0,0]) )) # transmit qbits before encoding\n",
    "\n",
    "# tx_qbits = NormalizeState(0.5*NKron1DGeneral( np.array([1,1,1,1,1]) ) \n",
    "#                           + 0.2*NKron1DGeneral( np.array([0,0,0,0,0]) )) # transmit qbits before encoding\n",
    "\n",
    "# tx_qbits = NormalizeState(0.5*NKron1DGeneral( np.array([0,0,0,0,0,0,0,0,1]) ) \n",
    "#                           + 0.2*NKron1DGeneral( np.array([0,0,0,0,0,0,0,0,0]) )) # transmit qbits before encoding\n",
    "\n",
    "# tx_qbits = NormalizeState(0.5*NKron1DGeneral( np.array([1,1,1,1,1,1,1,1,1]) ) \n",
    "#                           + 0.2*NKron1DGeneral( np.array([0,0,0,0,0,0,0,0,0]) )) # transmit qbits before encoding\n",
    "\n",
    "tx_qbits = NormalizeState(0.5*NKron1DGeneral( np.array([1,1,1,1,1,1,1]) ) \n",
    "                          + 0.2*NKron1DGeneral( np.array([0,0,0,0,0,0,0]) )) # transmit qbits before encoding\n",
    "\n",
    "A = np.eye(2**n, 2**n) # condition on codes\n",
    "\n",
    "# Choose this if repetition is done\n",
    "A[0,0] = 0\n",
    "A[A.shape[0]-1, A.shape[1]-1] = 0\n",
    "\n",
    "# Choose this if zero padding is done in beginning\n",
    "# for i in range(2**k):\n",
    "#     A[i,i] = 0\n",
    "\n",
    "tx_encoded = NormalizeState(tx_qbits) # encoded transmit qbits\n",
    "for i in range(n-k):\n",
    "    tx_encoded = tx_encoded + np.matmul(gi[i,:,:], tx_encoded)\n",
    "tx_encoded = NormalizeState(tx_encoded) # encoded transmit qbits"
   ]
  },
  {
   "cell_type": "code",
   "execution_count": 16,
   "metadata": {},
   "outputs": [],
   "source": [
    "Gmatrix = np.eye(gi[i,:,:].shape[0], gi[i,:,:].shape[1]) # generator matrix corresponding to this code\n",
    "for i in range(n-k):\n",
    "    Gmatrix = Gmatrix + np.matmul(gi[i,:,:], Gmatrix)"
   ]
  },
  {
   "cell_type": "markdown",
   "metadata": {},
   "source": [
    "## Channel"
   ]
  },
  {
   "cell_type": "code",
   "execution_count": 17,
   "metadata": {},
   "outputs": [],
   "source": [
    "# generate channel error randomly\n",
    "errIndex = random.randint(0,n-1)\n",
    "errType = random.randint(0,2)\n",
    "\n",
    "errCheckRow = np.zeros(n, dtype = 'int')\n",
    "errCheckRow[errIndex] = 1\n",
    "if(errType == 0):\n",
    "    errCheckRow = np.append(errCheckRow, errCheckRow) # Y error\n",
    "elif(errType == 1):\n",
    "    errCheckRow = np.append(errCheckRow, np.zeros(n, dtype = 'int')) # X error\n",
    "else:\n",
    "    errCheckRow = np.append(np.zeros(n, dtype = 'int'), errCheckRow) # Z error\n",
    "\n",
    "channel_error = getGenerator(errCheckRow) # channel error\n",
    "rx_erry = np.dot(channel_error, tx_encoded) # received qbits with errors"
   ]
  },
  {
   "cell_type": "markdown",
   "metadata": {},
   "source": [
    "## Decode"
   ]
  },
  {
   "cell_type": "markdown",
   "metadata": {},
   "source": [
    "#### Syndrome Check"
   ]
  },
  {
   "cell_type": "code",
   "execution_count": 18,
   "metadata": {},
   "outputs": [
    {
     "name": "stdout",
     "output_type": "stream",
     "text": [
      "Syndrome = [ 1  1  1  1 -1  1]\n"
     ]
    }
   ],
   "source": [
    "syndr = np.zeros([n-k, 1]) # syndrome\n",
    "for i in range(n-k):\n",
    "    syndr[i] = np.dot(rx_erry.transpose(), np.dot(gi[i,:,:], rx_erry))\n",
    "print('Syndrome = ' + str(np.ndarray.astype(syndr.transpose().flatten() , int)))"
   ]
  },
  {
   "cell_type": "markdown",
   "metadata": {},
   "source": [
    "#### Error Correction"
   ]
  },
  {
   "cell_type": "code",
   "execution_count": 19,
   "metadata": {},
   "outputs": [],
   "source": [
    "# syndrome lookup table\n",
    "def SyndromeLookUp(syndr):\n",
    "    errorSyndromeIndex = int(''.join(['1' if x else '0' for x in np.ndarray.astype(syndr.flatten(), int) == 1]), 2)\n",
    "    recov = errorRecoveryList[errorSyndromeIndex]\n",
    "    return recov"
   ]
  },
  {
   "cell_type": "code",
   "execution_count": 20,
   "metadata": {},
   "outputs": [
    {
     "name": "stdout",
     "output_type": "stream",
     "text": [
      "Number of qubits in error before error correction = 16\n",
      "Number of qubits in error after error correction = 0\n"
     ]
    }
   ],
   "source": [
    "recov = SyndromeLookUp(syndr) # error recovery\n",
    "rx_encoded = np.matmul(recov.transpose(), rx_erry) # received qbits without error but still encoded\n",
    "\n",
    "print('Number of qubits in error before error correction = ' + str(np.sum(rx_erry[:,0] - tx_encoded[:,0] > 1e-5)))\n",
    "print('Number of qubits in error after error correction = ' + str(np.sum(rx_encoded[:,0] - tx_encoded[:,0] > 1e-5)))"
   ]
  },
  {
   "cell_type": "markdown",
   "metadata": {},
   "source": [
    "#### Complete Decode"
   ]
  },
  {
   "cell_type": "code",
   "execution_count": 21,
   "metadata": {},
   "outputs": [
    {
     "name": "stdout",
     "output_type": "stream",
     "text": [
      "Number of qubits in error after decoding = 0\n"
     ]
    }
   ],
   "source": [
    "# setup optimizer to decode\n",
    "P = np.matmul(Gmatrix.transpose(), Gmatrix)\n",
    "q = -np.matmul(rx_encoded.transpose(), Gmatrix).flatten()\n",
    "x = cp.Variable(rx_encoded.shape[0])\n",
    "\n",
    "# get qbit that is at closest distance to received encoded qbit\n",
    "prob = cp.Problem(cp.Minimize((1/2)*cp.quad_form(x, P) + q.T@x), [A@x == np.zeros(x.shape[0])])\n",
    "prob.solve()\n",
    "rx_decoded = (NormalizeState(x.value)) # received decoded qbits\n",
    "\n",
    "print('Number of qubits in error after decoding = ' + str(np.sum(np.abs(rx_decoded - tx_qbits.flatten()) > 1e-5 )))"
   ]
  },
  {
   "cell_type": "markdown",
   "metadata": {},
   "source": [
    "## Verification for all single qubit errors"
   ]
  },
  {
   "cell_type": "code",
   "execution_count": 22,
   "metadata": {},
   "outputs": [
    {
     "name": "stdout",
     "output_type": "stream",
     "text": [
      "Error = [1 0 0 0 0 0 0 1 0 0 0 0 0 0], # Qbits in error, before decoding = 0, after decoding = 0\n",
      "Error = [0 1 0 0 0 0 0 0 1 0 0 0 0 0], # Qbits in error, before decoding = 0, after decoding = 0\n",
      "Error = [0 0 1 0 0 0 0 0 0 1 0 0 0 0], # Qbits in error, before decoding = 0, after decoding = 0\n",
      "Error = [0 0 0 1 0 0 0 0 0 0 1 0 0 0], # Qbits in error, before decoding = 0, after decoding = 0\n",
      "Error = [0 0 0 0 1 0 0 0 0 0 0 1 0 0], # Qbits in error, before decoding = 0, after decoding = 0\n",
      "Error = [0 0 0 0 0 1 0 0 0 0 0 0 1 0], # Qbits in error, before decoding = 0, after decoding = 0\n",
      "Error = [0 0 0 0 0 0 1 0 0 0 0 0 0 1], # Qbits in error, before decoding = 0, after decoding = 0\n",
      "Error = [1 0 0 0 0 0 0 0 0 0 0 0 0 0], # Qbits in error, before decoding = 0, after decoding = 0\n",
      "Error = [0 1 0 0 0 0 0 0 0 0 0 0 0 0], # Qbits in error, before decoding = 0, after decoding = 0\n",
      "Error = [0 0 1 0 0 0 0 0 0 0 0 0 0 0], # Qbits in error, before decoding = 0, after decoding = 0\n",
      "Error = [0 0 0 1 0 0 0 0 0 0 0 0 0 0], # Qbits in error, before decoding = 0, after decoding = 0\n",
      "Error = [0 0 0 0 1 0 0 0 0 0 0 0 0 0], # Qbits in error, before decoding = 0, after decoding = 0\n",
      "Error = [0 0 0 0 0 1 0 0 0 0 0 0 0 0], # Qbits in error, before decoding = 0, after decoding = 0\n",
      "Error = [0 0 0 0 0 0 1 0 0 0 0 0 0 0], # Qbits in error, before decoding = 0, after decoding = 0\n",
      "Error = [0 0 0 0 0 0 0 1 0 0 0 0 0 0], # Qbits in error, before decoding = 0, after decoding = 0\n",
      "Error = [0 0 0 0 0 0 0 0 1 0 0 0 0 0], # Qbits in error, before decoding = 0, after decoding = 0\n",
      "Error = [0 0 0 0 0 0 0 0 0 1 0 0 0 0], # Qbits in error, before decoding = 0, after decoding = 0\n",
      "Error = [0 0 0 0 0 0 0 0 0 0 1 0 0 0], # Qbits in error, before decoding = 0, after decoding = 0\n",
      "Error = [0 0 0 0 0 0 0 0 0 0 0 1 0 0], # Qbits in error, before decoding = 0, after decoding = 0\n",
      "Error = [0 0 0 0 0 0 0 0 0 0 0 0 1 0], # Qbits in error, before decoding = 0, after decoding = 0\n",
      "Error = [0 0 0 0 0 0 0 0 0 0 0 0 0 1], # Qbits in error, before decoding = 0, after decoding = 0\n"
     ]
    }
   ],
   "source": [
    "# verify for all single bit errors\n",
    "for errType in range(3):\n",
    "    for errIndex in range(n):\n",
    "\n",
    "        # generate channel error\n",
    "        errCheckRow = np.zeros(n, dtype = 'int')\n",
    "        errCheckRow[errIndex] = 1\n",
    "        if(errType == 0):\n",
    "            errCheckRow = np.append(errCheckRow, errCheckRow) # Y error\n",
    "        elif(errType == 1):\n",
    "            errCheckRow = np.append(errCheckRow, np.zeros(n, dtype = 'int')) # X error\n",
    "        else:\n",
    "            errCheckRow = np.append(np.zeros(n, dtype = 'int'), errCheckRow) # Z error\n",
    "\n",
    "        # apply channel error\n",
    "        channel_error = getGenerator(errCheckRow)\n",
    "        rx_erry = np.dot(channel_error, tx_encoded) # received qbits with error\n",
    "\n",
    "        # get syndrome\n",
    "        syndr = np.zeros([n-k, 1]) # syndrome\n",
    "        for i in range(n-k):\n",
    "            syndr[i] = np.dot(rx_erry.transpose(), np.dot(gi[i,:,:], rx_erry))\n",
    "\n",
    "        # error correction\n",
    "        recov = SyndromeLookUp(syndr) # error recovery\n",
    "        rx_encoded = np.matmul(recov.transpose(), rx_erry) # received qbits without error but still encoded\n",
    "        \n",
    "        # setup optimizer to decode completely\n",
    "        P = np.matmul(Gmatrix.transpose(), Gmatrix)\n",
    "        q = -np.matmul(rx_encoded.transpose(), Gmatrix).flatten()\n",
    "        x = cp.Variable(rx_encoded.shape[0])\n",
    "        \n",
    "        # solve for qubits numerically by minimizing distance\n",
    "        prob = cp.Problem(cp.Minimize((1/2)*cp.quad_form(x, P) + q.T@x), [A@x == np.zeros(x.shape[0])])\n",
    "        prob.solve()\n",
    "        rx_decoded = (NormalizeState(x.value)) # received decoded qbits\n",
    "\n",
    "        # print qubit errors\n",
    "        print('Error = ' + str(errCheckRow)  + ', # Qbits in error, before decoding = ' + str(np.sum(np.abs(rx_encoded[:,0] - tx_encoded[:,0]) > 1e-5)) + ', after decoding = ' + str(np.sum(np.abs(rx_decoded - tx_qbits.flatten()) > 1e-5 )) )"
   ]
  },
  {
   "cell_type": "code",
   "execution_count": 32,
   "metadata": {},
   "outputs": [
    {
     "name": "stdout",
     "output_type": "stream",
     "text": [
      "[1 0 0 0 0 0 0 1 0 0 0 0 0 0]\n",
      "[0 1 0 0 0 0 0 0 1 0 0 0 0 0]\n",
      "[0 0 1 0 0 0 0 0 0 1 0 0 0 0]\n",
      "[0 0 0 1 0 0 0 0 0 0 1 0 0 0]\n",
      "[0 0 0 0 1 0 0 0 0 0 0 1 0 0]\n",
      "[0 0 0 0 0 1 0 0 0 0 0 0 1 0]\n",
      "[0 0 0 0 0 0 1 0 0 0 0 0 0 1]\n",
      "[1 0 0 0 0 0 0 0 0 0 0 0 0 0]\n",
      "[0 1 0 0 0 0 0 0 0 0 0 0 0 0]\n",
      "[0 0 1 0 0 0 0 0 0 0 0 0 0 0]\n",
      "[0 0 0 1 0 0 0 0 0 0 0 0 0 0]\n",
      "[0 0 0 0 1 0 0 0 0 0 0 0 0 0]\n",
      "[0 0 0 0 0 1 0 0 0 0 0 0 0 0]\n",
      "[0 0 0 0 0 0 1 0 0 0 0 0 0 0]\n",
      "[0 0 0 0 0 0 0 1 0 0 0 0 0 0]\n",
      "[0 0 0 0 0 0 0 0 1 0 0 0 0 0]\n",
      "[0 0 0 0 0 0 0 0 0 1 0 0 0 0]\n",
      "[0 0 0 0 0 0 0 0 0 0 1 0 0 0]\n",
      "[0 0 0 0 0 0 0 0 0 0 0 1 0 0]\n",
      "[0 0 0 0 0 0 0 0 0 0 0 0 1 0]\n",
      "[0 0 0 0 0 0 0 0 0 0 0 0 0 1]\n"
     ]
    }
   ],
   "source": [
    "# verify for all single bit errors\n",
    "for errType in range(3):\n",
    "    for errIndex in range(n):\n",
    "\n",
    "        # generate channel error\n",
    "        errCheckRow = np.zeros(n, dtype = 'int')\n",
    "        errCheckRow[errIndex] = 1\n",
    "        if(errType == 0):\n",
    "            errCheckRow = np.append(errCheckRow, errCheckRow) # Y error\n",
    "        elif(errType == 1):\n",
    "            errCheckRow = np.append(errCheckRow, np.zeros(n, dtype = 'int')) # X error\n",
    "        else:\n",
    "            errCheckRow = np.append(np.zeros(n, dtype = 'int'), errCheckRow) # Z error\n",
    "\n",
    "        # apply channel error\n",
    "        channel_error = getGenerator(errCheckRow)\n",
    "        rx_erry = np.dot(channel_error, tx_encoded) # received qbits with error\n",
    "\n",
    "        # get syndrome\n",
    "        syndr = np.zeros([n-k, 1]) # syndrome\n",
    "        for i in range(n-k):\n",
    "            syndr[i] = np.dot(rx_erry.transpose(), np.dot(gi[i,:,:], rx_erry))\n",
    "\n",
    "        # error correction\n",
    "        recov = SyndromeLookUp(syndr) # error recovery\n",
    "        rx_encoded = np.matmul(recov.transpose(), rx_erry) # received qbits without error but still encoded\n",
    "        \n",
    "        # setup optimizer to decode completely\n",
    "        P = np.matmul(Gmatrix.transpose(), Gmatrix)\n",
    "        q = -np.matmul(rx_encoded.transpose(), Gmatrix).flatten()\n",
    "        x = cp.Variable(rx_encoded.shape[0])\n",
    "        \n",
    "        # solve for qubits numerically by minimizing distance\n",
    "        prob = cp.Problem(cp.Minimize((1/2)*cp.quad_form(x, P) + q.T@x), [A@x == np.zeros(x.shape[0])])\n",
    "        prob.solve()\n",
    "        rx_decoded = (NormalizeState(x.value)) # received decoded qbits\n",
    "        \n",
    "        print(errCheckRow)\n",
    "\n",
    "        # print qubit errors\n",
    "#         print('Error = ' + str(errCheckRow)  + ', # Qbits in error, before decoding = ' + str(np.sum(np.abs(rx_encoded[:,0] - tx_encoded[:,0]) > 1e-5)) + ', after decoding = ' + str(np.sum(np.abs(rx_decoded - tx_qbits.flatten()) > 1e-5 )) )"
   ]
  },
  {
   "cell_type": "code",
   "execution_count": 39,
   "metadata": {},
   "outputs": [],
   "source": [
    "def analyzeChannel(errCheckRow):\n",
    "    # apply channel error\n",
    "    channel_error = getGenerator(errCheckRow)\n",
    "    rx_erry = np.dot(channel_error, tx_encoded) # received qbits with error\n",
    "\n",
    "    # get syndrome\n",
    "    syndr = np.zeros([n-k, 1]) # syndrome\n",
    "    for i in range(n-k):\n",
    "        syndr[i] = np.dot(rx_erry.transpose(), np.dot(gi[i,:,:], rx_erry))\n",
    "\n",
    "    # error correction\n",
    "    recov = SyndromeLookUp(syndr) # error recovery\n",
    "    rx_encoded = np.matmul(recov.transpose(), rx_erry) # received qbits without error but still encoded\n",
    "\n",
    "    # setup optimizer to decode completely\n",
    "    P = np.matmul(Gmatrix.transpose(), Gmatrix)\n",
    "    q = -np.matmul(rx_encoded.transpose(), Gmatrix).flatten()\n",
    "    x = cp.Variable(rx_encoded.shape[0])\n",
    "\n",
    "    # solve for qubits numerically by minimizing distance\n",
    "    prob = cp.Problem(cp.Minimize((1/2)*cp.quad_form(x, P) + q.T@x), [A@x == np.zeros(x.shape[0])])\n",
    "    prob.solve()\n",
    "    rx_decoded = (NormalizeState(x.value)) # received decoded qbits\n",
    "\n",
    "    print(errCheckRow)\n",
    "\n",
    "#     # print qubit errors\n",
    "#     print('Error = ' + str(errCheckRow)  + ', # Qbits in error, before decoding = ' + str(np.sum(np.abs(rx_encoded[:,0] - tx_encoded[:,0]) > 1e-5)) + ', after decoding = ' + str(np.sum(np.abs(rx_decoded - tx_qbits.flatten()) > 1e-5 )) )"
   ]
  },
  {
   "cell_type": "code",
   "execution_count": 40,
   "metadata": {},
   "outputs": [
    {
     "name": "stdout",
     "output_type": "stream",
     "text": [
      "[0 0 0 0 0 1 1 0 0 0 0 0 0 0]\n",
      "[0 0 0 0 0 1 1 0 0 0 0 0 0 1]\n",
      "[0 0 0 0 0 1 0 0 0 0 0 0 0 1]\n",
      "[0 0 0 0 0 1 1 0 0 0 0 0 1 0]\n",
      "[0 0 0 0 0 1 1 0 0 0 0 0 1 1]\n",
      "[0 0 0 0 0 1 0 0 0 0 0 0 1 1]\n",
      "[0 0 0 0 0 0 1 0 0 0 0 0 1 0]\n",
      "[0 0 0 0 0 0 1 0 0 0 0 0 1 1]\n",
      "[0 0 0 0 0 0 0 0 0 0 0 0 1 1]\n",
      "[0 0 0 0 1 0 1 0 0 0 0 0 0 0]\n",
      "[0 0 0 0 1 0 1 0 0 0 0 0 0 1]\n",
      "[0 0 0 0 1 0 0 0 0 0 0 0 0 1]\n",
      "[0 0 0 0 1 0 1 0 0 0 0 1 0 0]\n",
      "[0 0 0 0 1 0 1 0 0 0 0 1 0 1]\n",
      "[0 0 0 0 1 0 0 0 0 0 0 1 0 1]\n",
      "[0 0 0 0 0 0 1 0 0 0 0 1 0 0]\n",
      "[0 0 0 0 0 0 1 0 0 0 0 1 0 1]\n",
      "[0 0 0 0 0 0 0 0 0 0 0 1 0 1]\n",
      "[0 0 0 1 0 0 1 0 0 0 0 0 0 0]\n",
      "[0 0 0 1 0 0 1 0 0 0 0 0 0 1]\n",
      "[0 0 0 1 0 0 0 0 0 0 0 0 0 1]\n",
      "[0 0 0 1 0 0 1 0 0 0 1 0 0 0]\n",
      "[0 0 0 1 0 0 1 0 0 0 1 0 0 1]\n",
      "[0 0 0 1 0 0 0 0 0 0 1 0 0 1]\n",
      "[0 0 0 0 0 0 1 0 0 0 1 0 0 0]\n",
      "[0 0 0 0 0 0 1 0 0 0 1 0 0 1]\n",
      "[0 0 0 0 0 0 0 0 0 0 1 0 0 1]\n",
      "[0 0 1 0 0 0 1 0 0 0 0 0 0 0]\n",
      "[0 0 1 0 0 0 1 0 0 0 0 0 0 1]\n",
      "[0 0 1 0 0 0 0 0 0 0 0 0 0 1]\n",
      "[0 0 1 0 0 0 1 0 0 1 0 0 0 0]\n",
      "[0 0 1 0 0 0 1 0 0 1 0 0 0 1]\n",
      "[0 0 1 0 0 0 0 0 0 1 0 0 0 1]\n",
      "[0 0 0 0 0 0 1 0 0 1 0 0 0 0]\n",
      "[0 0 0 0 0 0 1 0 0 1 0 0 0 1]\n",
      "[0 0 0 0 0 0 0 0 0 1 0 0 0 1]\n",
      "[0 1 0 0 0 0 1 0 0 0 0 0 0 0]\n",
      "[0 1 0 0 0 0 1 0 0 0 0 0 0 1]\n",
      "[0 1 0 0 0 0 0 0 0 0 0 0 0 1]\n",
      "[0 1 0 0 0 0 1 0 1 0 0 0 0 0]\n",
      "[0 1 0 0 0 0 1 0 1 0 0 0 0 1]\n",
      "[0 1 0 0 0 0 0 0 1 0 0 0 0 1]\n",
      "[0 0 0 0 0 0 1 0 1 0 0 0 0 0]\n",
      "[0 0 0 0 0 0 1 0 1 0 0 0 0 1]\n",
      "[0 0 0 0 0 0 0 0 1 0 0 0 0 1]\n",
      "[1 0 0 0 0 0 1 0 0 0 0 0 0 0]\n",
      "[1 0 0 0 0 0 1 0 0 0 0 0 0 1]\n",
      "[1 0 0 0 0 0 0 0 0 0 0 0 0 1]\n",
      "[1 0 0 0 0 0 1 1 0 0 0 0 0 0]\n",
      "[1 0 0 0 0 0 1 1 0 0 0 0 0 1]\n",
      "[1 0 0 0 0 0 0 1 0 0 0 0 0 1]\n",
      "[0 0 0 0 0 0 1 1 0 0 0 0 0 0]\n",
      "[0 0 0 0 0 0 1 1 0 0 0 0 0 1]\n",
      "[0 0 0 0 0 0 0 1 0 0 0 0 0 1]\n",
      "[0 0 0 0 1 1 0 0 0 0 0 0 0 0]\n",
      "[0 0 0 0 1 1 0 0 0 0 0 0 1 0]\n",
      "[0 0 0 0 1 0 0 0 0 0 0 0 1 0]\n",
      "[0 0 0 0 1 1 0 0 0 0 0 1 0 0]\n",
      "[0 0 0 0 1 1 0 0 0 0 0 1 1 0]\n",
      "[0 0 0 0 1 0 0 0 0 0 0 1 1 0]\n",
      "[0 0 0 0 0 1 0 0 0 0 0 1 0 0]\n",
      "[0 0 0 0 0 1 0 0 0 0 0 1 1 0]\n",
      "[0 0 0 0 0 0 0 0 0 0 0 1 1 0]\n",
      "[0 0 0 1 0 1 0 0 0 0 0 0 0 0]\n",
      "[0 0 0 1 0 1 0 0 0 0 0 0 1 0]\n",
      "[0 0 0 1 0 0 0 0 0 0 0 0 1 0]\n",
      "[0 0 0 1 0 1 0 0 0 0 1 0 0 0]\n",
      "[0 0 0 1 0 1 0 0 0 0 1 0 1 0]\n",
      "[0 0 0 1 0 0 0 0 0 0 1 0 1 0]\n",
      "[0 0 0 0 0 1 0 0 0 0 1 0 0 0]\n",
      "[0 0 0 0 0 1 0 0 0 0 1 0 1 0]\n",
      "[0 0 0 0 0 0 0 0 0 0 1 0 1 0]\n",
      "[0 0 1 0 0 1 0 0 0 0 0 0 0 0]\n",
      "[0 0 1 0 0 1 0 0 0 0 0 0 1 0]\n",
      "[0 0 1 0 0 0 0 0 0 0 0 0 1 0]\n",
      "[0 0 1 0 0 1 0 0 0 1 0 0 0 0]\n",
      "[0 0 1 0 0 1 0 0 0 1 0 0 1 0]\n",
      "[0 0 1 0 0 0 0 0 0 1 0 0 1 0]\n",
      "[0 0 0 0 0 1 0 0 0 1 0 0 0 0]\n",
      "[0 0 0 0 0 1 0 0 0 1 0 0 1 0]\n",
      "[0 0 0 0 0 0 0 0 0 1 0 0 1 0]\n",
      "[0 1 0 0 0 1 0 0 0 0 0 0 0 0]\n",
      "[0 1 0 0 0 1 0 0 0 0 0 0 1 0]\n",
      "[0 1 0 0 0 0 0 0 0 0 0 0 1 0]\n",
      "[0 1 0 0 0 1 0 0 1 0 0 0 0 0]\n",
      "[0 1 0 0 0 1 0 0 1 0 0 0 1 0]\n",
      "[0 1 0 0 0 0 0 0 1 0 0 0 1 0]\n",
      "[0 0 0 0 0 1 0 0 1 0 0 0 0 0]\n",
      "[0 0 0 0 0 1 0 0 1 0 0 0 1 0]\n",
      "[0 0 0 0 0 0 0 0 1 0 0 0 1 0]\n",
      "[1 0 0 0 0 1 0 0 0 0 0 0 0 0]\n",
      "[1 0 0 0 0 1 0 0 0 0 0 0 1 0]\n",
      "[1 0 0 0 0 0 0 0 0 0 0 0 1 0]\n",
      "[1 0 0 0 0 1 0 1 0 0 0 0 0 0]\n",
      "[1 0 0 0 0 1 0 1 0 0 0 0 1 0]\n",
      "[1 0 0 0 0 0 0 1 0 0 0 0 1 0]\n",
      "[0 0 0 0 0 1 0 1 0 0 0 0 0 0]\n",
      "[0 0 0 0 0 1 0 1 0 0 0 0 1 0]\n",
      "[0 0 0 0 0 0 0 1 0 0 0 0 1 0]\n",
      "[0 0 0 1 1 0 0 0 0 0 0 0 0 0]\n",
      "[0 0 0 1 1 0 0 0 0 0 0 1 0 0]\n",
      "[0 0 0 1 0 0 0 0 0 0 0 1 0 0]\n",
      "[0 0 0 1 1 0 0 0 0 0 1 0 0 0]\n",
      "[0 0 0 1 1 0 0 0 0 0 1 1 0 0]\n",
      "[0 0 0 1 0 0 0 0 0 0 1 1 0 0]\n",
      "[0 0 0 0 1 0 0 0 0 0 1 0 0 0]\n",
      "[0 0 0 0 1 0 0 0 0 0 1 1 0 0]\n",
      "[0 0 0 0 0 0 0 0 0 0 1 1 0 0]\n",
      "[0 0 1 0 1 0 0 0 0 0 0 0 0 0]\n",
      "[0 0 1 0 1 0 0 0 0 0 0 1 0 0]\n",
      "[0 0 1 0 0 0 0 0 0 0 0 1 0 0]\n",
      "[0 0 1 0 1 0 0 0 0 1 0 0 0 0]\n",
      "[0 0 1 0 1 0 0 0 0 1 0 1 0 0]\n",
      "[0 0 1 0 0 0 0 0 0 1 0 1 0 0]\n",
      "[0 0 0 0 1 0 0 0 0 1 0 0 0 0]\n",
      "[0 0 0 0 1 0 0 0 0 1 0 1 0 0]\n",
      "[0 0 0 0 0 0 0 0 0 1 0 1 0 0]\n",
      "[0 1 0 0 1 0 0 0 0 0 0 0 0 0]\n",
      "[0 1 0 0 1 0 0 0 0 0 0 1 0 0]\n",
      "[0 1 0 0 0 0 0 0 0 0 0 1 0 0]\n",
      "[0 1 0 0 1 0 0 0 1 0 0 0 0 0]\n",
      "[0 1 0 0 1 0 0 0 1 0 0 1 0 0]\n",
      "[0 1 0 0 0 0 0 0 1 0 0 1 0 0]\n",
      "[0 0 0 0 1 0 0 0 1 0 0 0 0 0]\n",
      "[0 0 0 0 1 0 0 0 1 0 0 1 0 0]\n",
      "[0 0 0 0 0 0 0 0 1 0 0 1 0 0]\n",
      "[1 0 0 0 1 0 0 0 0 0 0 0 0 0]\n",
      "[1 0 0 0 1 0 0 0 0 0 0 1 0 0]\n",
      "[1 0 0 0 0 0 0 0 0 0 0 1 0 0]\n",
      "[1 0 0 0 1 0 0 1 0 0 0 0 0 0]\n",
      "[1 0 0 0 1 0 0 1 0 0 0 1 0 0]\n",
      "[1 0 0 0 0 0 0 1 0 0 0 1 0 0]\n",
      "[0 0 0 0 1 0 0 1 0 0 0 0 0 0]\n",
      "[0 0 0 0 1 0 0 1 0 0 0 1 0 0]\n",
      "[0 0 0 0 0 0 0 1 0 0 0 1 0 0]\n",
      "[0 0 1 1 0 0 0 0 0 0 0 0 0 0]\n",
      "[0 0 1 1 0 0 0 0 0 0 1 0 0 0]\n",
      "[0 0 1 0 0 0 0 0 0 0 1 0 0 0]\n",
      "[0 0 1 1 0 0 0 0 0 1 0 0 0 0]\n",
      "[0 0 1 1 0 0 0 0 0 1 1 0 0 0]\n",
      "[0 0 1 0 0 0 0 0 0 1 1 0 0 0]\n",
      "[0 0 0 1 0 0 0 0 0 1 0 0 0 0]\n",
      "[0 0 0 1 0 0 0 0 0 1 1 0 0 0]\n",
      "[0 0 0 0 0 0 0 0 0 1 1 0 0 0]\n",
      "[0 1 0 1 0 0 0 0 0 0 0 0 0 0]\n",
      "[0 1 0 1 0 0 0 0 0 0 1 0 0 0]\n",
      "[0 1 0 0 0 0 0 0 0 0 1 0 0 0]\n",
      "[0 1 0 1 0 0 0 0 1 0 0 0 0 0]\n",
      "[0 1 0 1 0 0 0 0 1 0 1 0 0 0]\n",
      "[0 1 0 0 0 0 0 0 1 0 1 0 0 0]\n",
      "[0 0 0 1 0 0 0 0 1 0 0 0 0 0]\n",
      "[0 0 0 1 0 0 0 0 1 0 1 0 0 0]\n",
      "[0 0 0 0 0 0 0 0 1 0 1 0 0 0]\n",
      "[1 0 0 1 0 0 0 0 0 0 0 0 0 0]\n",
      "[1 0 0 1 0 0 0 0 0 0 1 0 0 0]\n",
      "[1 0 0 0 0 0 0 0 0 0 1 0 0 0]\n",
      "[1 0 0 1 0 0 0 1 0 0 0 0 0 0]\n",
      "[1 0 0 1 0 0 0 1 0 0 1 0 0 0]\n",
      "[1 0 0 0 0 0 0 1 0 0 1 0 0 0]\n",
      "[0 0 0 1 0 0 0 1 0 0 0 0 0 0]\n",
      "[0 0 0 1 0 0 0 1 0 0 1 0 0 0]\n",
      "[0 0 0 0 0 0 0 1 0 0 1 0 0 0]\n",
      "[0 1 1 0 0 0 0 0 0 0 0 0 0 0]\n",
      "[0 1 1 0 0 0 0 0 0 1 0 0 0 0]\n",
      "[0 1 0 0 0 0 0 0 0 1 0 0 0 0]\n",
      "[0 1 1 0 0 0 0 0 1 0 0 0 0 0]\n",
      "[0 1 1 0 0 0 0 0 1 1 0 0 0 0]\n",
      "[0 1 0 0 0 0 0 0 1 1 0 0 0 0]\n",
      "[0 0 1 0 0 0 0 0 1 0 0 0 0 0]\n",
      "[0 0 1 0 0 0 0 0 1 1 0 0 0 0]\n",
      "[0 0 0 0 0 0 0 0 1 1 0 0 0 0]\n",
      "[1 0 1 0 0 0 0 0 0 0 0 0 0 0]\n",
      "[1 0 1 0 0 0 0 0 0 1 0 0 0 0]\n",
      "[1 0 0 0 0 0 0 0 0 1 0 0 0 0]\n",
      "[1 0 1 0 0 0 0 1 0 0 0 0 0 0]\n",
      "[1 0 1 0 0 0 0 1 0 1 0 0 0 0]\n",
      "[1 0 0 0 0 0 0 1 0 1 0 0 0 0]\n",
      "[0 0 1 0 0 0 0 1 0 0 0 0 0 0]\n",
      "[0 0 1 0 0 0 0 1 0 1 0 0 0 0]\n",
      "[0 0 0 0 0 0 0 1 0 1 0 0 0 0]\n",
      "[1 1 0 0 0 0 0 0 0 0 0 0 0 0]\n",
      "[1 1 0 0 0 0 0 0 1 0 0 0 0 0]\n",
      "[1 0 0 0 0 0 0 0 1 0 0 0 0 0]\n",
      "[1 1 0 0 0 0 0 1 0 0 0 0 0 0]\n",
      "[1 1 0 0 0 0 0 1 1 0 0 0 0 0]\n",
      "[1 0 0 0 0 0 0 1 1 0 0 0 0 0]\n",
      "[0 1 0 0 0 0 0 1 0 0 0 0 0 0]\n",
      "[0 1 0 0 0 0 0 1 1 0 0 0 0 0]\n",
      "[0 0 0 0 0 0 0 1 1 0 0 0 0 0]\n"
     ]
    }
   ],
   "source": [
    "myIndex1 = 1\n",
    "while(myIndex1 < 2**(n)):\n",
    "    # generate weight 1 vectors\n",
    "    checkRow1 = list(string_format.format(\"{:b}\".format(myIndex1)))\n",
    "    checkRow1 = np.asarray(list(map(int, checkRow1)))\n",
    "    \n",
    "    myIndex2 = myIndex1*2\n",
    "    while(myIndex2 < 2**n):\n",
    "        # generate another weight 1 vector\n",
    "        checkRow2 = list(string_format.format(\"{:b}\".format(myIndex2)))\n",
    "        checkRow2 = np.asarray(list(map(int, checkRow2)))\n",
    "        \n",
    "        #generate weight 2 vector\n",
    "        checkRow3 = list(string_format.format(\"{:b}\".format(myIndex2)))\n",
    "        checkRow3 = np.asarray(list(map(int, checkRow3)))\n",
    "        checkRow3[checkRow1 == 1] = 1\n",
    "        \n",
    "        # add weight 2 errors with XX, XY, XZ, ...\n",
    "        analyzeChannel(np.append(checkRow3, np.zeros(n, dtype = 'int')))\n",
    "        analyzeChannel(np.append(checkRow3, checkRow1))\n",
    "        analyzeChannel(np.append(checkRow2, checkRow1))\n",
    "        \n",
    "        analyzeChannel(np.append(checkRow3, checkRow2))\n",
    "        analyzeChannel(np.append(checkRow3, checkRow3))\n",
    "        analyzeChannel(np.append(checkRow2, checkRow3))\n",
    "        \n",
    "        analyzeChannel(np.append(checkRow1, checkRow2))\n",
    "        analyzeChannel(np.append(checkRow1, checkRow3))      \n",
    "        analyzeChannel(np.append(np.zeros(n, dtype = 'int'), checkRow3))\n",
    "               \n",
    "        myIndex2 = myIndex2*2\n",
    "        \n",
    "    myIndex1 = myIndex1*2   "
   ]
  },
  {
   "cell_type": "code",
   "execution_count": null,
   "metadata": {},
   "outputs": [],
   "source": []
  },
  {
   "cell_type": "code",
   "execution_count": null,
   "metadata": {},
   "outputs": [],
   "source": []
  },
  {
   "cell_type": "code",
   "execution_count": null,
   "metadata": {},
   "outputs": [],
   "source": []
  },
  {
   "cell_type": "markdown",
   "metadata": {},
   "source": [
    "### TODO\n",
    "- Complete generalization/randomization\n",
    "- Maybe start generating data"
   ]
  },
  {
   "cell_type": "code",
   "execution_count": 23,
   "metadata": {},
   "outputs": [],
   "source": [
    "# tx_qbits.flatten()"
   ]
  },
  {
   "cell_type": "code",
   "execution_count": 24,
   "metadata": {},
   "outputs": [],
   "source": [
    "# rx_decoded.flatten()"
   ]
  },
  {
   "cell_type": "markdown",
   "metadata": {},
   "source": [
    "## Rough"
   ]
  },
  {
   "cell_type": "code",
   "execution_count": 25,
   "metadata": {},
   "outputs": [],
   "source": [
    "zeroCols = np.zeros(Gmatrix.shape[1])\n",
    "for i in range(Gmatrix.shape[1]):\n",
    "    zeroCols[i] = all(Gmatrix[:,i] == np.zeros(Gmatrix.shape[0]))"
   ]
  },
  {
   "cell_type": "code",
   "execution_count": 26,
   "metadata": {},
   "outputs": [
    {
     "data": {
      "text/plain": [
       "16"
      ]
     },
     "execution_count": 26,
     "metadata": {},
     "output_type": "execute_result"
    }
   ],
   "source": [
    "np.sum(zeroCols!=1)"
   ]
  },
  {
   "cell_type": "code",
   "execution_count": 27,
   "metadata": {},
   "outputs": [
    {
     "data": {
      "text/plain": [
       "112.0"
      ]
     },
     "execution_count": 27,
     "metadata": {},
     "output_type": "execute_result"
    }
   ],
   "source": [
    "np.sum(zeroCols)"
   ]
  },
  {
   "cell_type": "code",
   "execution_count": 28,
   "metadata": {},
   "outputs": [
    {
     "data": {
      "text/plain": [
       "128"
      ]
     },
     "execution_count": 28,
     "metadata": {},
     "output_type": "execute_result"
    }
   ],
   "source": [
    "Gmatrix.shape[1]"
   ]
  }
 ],
 "metadata": {
  "kernelspec": {
   "display_name": "Python 3",
   "language": "python",
   "name": "python3"
  },
  "language_info": {
   "codemirror_mode": {
    "name": "ipython",
    "version": 3
   },
   "file_extension": ".py",
   "mimetype": "text/x-python",
   "name": "python",
   "nbconvert_exporter": "python",
   "pygments_lexer": "ipython3",
   "version": "3.6.8"
  }
 },
 "nbformat": 4,
 "nbformat_minor": 2
}
